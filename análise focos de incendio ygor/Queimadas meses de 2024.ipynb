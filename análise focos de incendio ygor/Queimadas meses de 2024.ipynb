{
 "cells": [
  {
   "cell_type": "code",
   "execution_count": null,
   "id": "1dfecc70-82ed-4dba-83d9-fde35f3bd462",
   "metadata": {},
   "outputs": [],
   "source": [
    "import pandas as pd\n",
    "import matplotlib.pyplot as plt\n",
    "\n",
    "df = pd.read_csv(\"D:\\\\Users\\\\Ygor\\\\Downloads\\\\historico_bioma_amazonia.csv\")"
   ]
  },
  {
   "cell_type": "code",
   "execution_count": null,
   "id": "008b5011-6043-4e77-bb1d-81e278cebd20",
   "metadata": {},
   "outputs": [],
   "source": [
    "# Tratamento dos dados: renomeando colunas e selecionando os dados dos meses de 2024\n",
    "df = df.rename(columns={'Unnamed: 0': 'Anos'})\n",
    "data_2024 = df[df['Anos'] == '2024'][['Janeiro', 'Fevereiro', 'Março', 'Abril', 'Maio', 'Junho', 'Julho', 'Agosto']]"
   ]
  },
  {
   "cell_type": "code",
   "execution_count": null,
   "id": "93c60c4b-e291-46d2-876d-49ad08cdc557",
   "metadata": {},
   "outputs": [],
   "source": [
    "# Criando listas/arrays para fazer o gráfico\n",
    "meses = ['Janeiro', 'Fevereiro', 'Março', 'Abril', 'Maio', 'Junho', 'Julho', 'Agosto']\n",
    "valores = data_2024.values[0]"
   ]
  },
  {
   "cell_type": "code",
   "execution_count": null,
   "id": "8a35459c-101c-4942-96b1-9db386dca042",
   "metadata": {},
   "outputs": [],
   "source": [
    "# Criando e formatando um gráfico\n",
    "plt.figure(figsize=(8, 5))\n",
    "plt.bar(meses, valores)\n",
    "plt.title('Total de focos ativos de incêndio mensais em 2024', fontsize = 18)\n",
    "plt.xlabel('Mês', fontsize = 14)\n",
    "plt.xticks(fontsize=14)\n",
    "plt.ylabel('Total de focos ativos', fontsize = 14)\n",
    "plt.show()"
   ]
  }
 ],
 "metadata": {
  "kernelspec": {
   "display_name": "Python 3 (ipykernel)",
   "language": "python",
   "name": "python3"
  },
  "language_info": {
   "codemirror_mode": {
    "name": "ipython",
    "version": 3
   },
   "file_extension": ".py",
   "mimetype": "text/x-python",
   "name": "python",
   "nbconvert_exporter": "python",
   "pygments_lexer": "ipython3",
   "version": "3.12.4"
  }
 },
 "nbformat": 4,
 "nbformat_minor": 5
}
