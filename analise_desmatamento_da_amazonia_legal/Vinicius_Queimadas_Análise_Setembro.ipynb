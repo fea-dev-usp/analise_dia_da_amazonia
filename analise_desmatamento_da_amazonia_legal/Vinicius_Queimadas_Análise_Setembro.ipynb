{
  "cells": [
    {
      "cell_type": "code",
      "execution_count": 5,
      "metadata": {
        "colab": {
          "base_uri": "https://localhost:8080/"
        },
        "id": "CEWWoiWbkbTs",
        "outputId": "f560bad2-c021-433e-dbee-fb08a1bef070"
      },
      "outputs": [],
      "source": [
        "import pandas as pd\n",
        "import plotly_express as px\n"
      ]
    },
    {
      "cell_type": "code",
      "execution_count": 6,
      "metadata": {
        "colab": {
          "base_uri": "https://localhost:8080/",
          "height": 339
        },
        "id": "8VL2ax-kkbTx",
        "outputId": "a7173628-841c-4709-fb16-003ef377b227"
      },
      "outputs": [
        {
          "data": {
            "text/html": [
              "<div>\n",
              "<style scoped>\n",
              "    .dataframe tbody tr th:only-of-type {\n",
              "        vertical-align: middle;\n",
              "    }\n",
              "\n",
              "    .dataframe tbody tr th {\n",
              "        vertical-align: top;\n",
              "    }\n",
              "\n",
              "    .dataframe thead th {\n",
              "        text-align: right;\n",
              "    }\n",
              "</style>\n",
              "<table border=\"1\" class=\"dataframe\">\n",
              "  <thead>\n",
              "    <tr style=\"text-align: right;\">\n",
              "      <th></th>\n",
              "      <th>Year</th>\n",
              "      <th>D_Area</th>\n",
              "      <th>D_AreaAcc</th>\n",
              "      <th>VR_CO2_1stOrder</th>\n",
              "      <th>VR_CO2_2ndOrder</th>\n",
              "      <th>VR_CO2_2ndOrderFire</th>\n",
              "      <th>VR_CO2_2ndOrderDecay</th>\n",
              "      <th>VR_CH42Eq_2ndOrderFire</th>\n",
              "      <th>VR_N2OEq_2ndOrderFire</th>\n",
              "      <th>SV_AreaTotal</th>\n",
              "      <th>SV_AreaCleared</th>\n",
              "      <th>SV_CO2Emission</th>\n",
              "      <th>SV_CO2Absorption</th>\n",
              "      <th>NET_CO2_2ndOrder</th>\n",
              "      <th>NET_CO2_1stOrder</th>\n",
              "    </tr>\n",
              "  </thead>\n",
              "  <tbody>\n",
              "    <tr>\n",
              "      <th>0</th>\n",
              "      <td>1960</td>\n",
              "      <td>842754</td>\n",
              "      <td>842754</td>\n",
              "      <td>459</td>\n",
              "      <td>149</td>\n",
              "      <td>149</td>\n",
              "      <td>0</td>\n",
              "      <td>16</td>\n",
              "      <td>4</td>\n",
              "      <td>176978</td>\n",
              "      <td>0</td>\n",
              "      <td>0</td>\n",
              "      <td>0</td>\n",
              "      <td>149</td>\n",
              "      <td>459</td>\n",
              "    </tr>\n",
              "    <tr>\n",
              "      <th>1</th>\n",
              "      <td>1961</td>\n",
              "      <td>842754</td>\n",
              "      <td>1685508</td>\n",
              "      <td>459</td>\n",
              "      <td>247</td>\n",
              "      <td>149</td>\n",
              "      <td>98</td>\n",
              "      <td>16</td>\n",
              "      <td>4</td>\n",
              "      <td>353956</td>\n",
              "      <td>0</td>\n",
              "      <td>0</td>\n",
              "      <td>0</td>\n",
              "      <td>247</td>\n",
              "      <td>459</td>\n",
              "    </tr>\n",
              "    <tr>\n",
              "      <th>2</th>\n",
              "      <td>1962</td>\n",
              "      <td>842754</td>\n",
              "      <td>2528262</td>\n",
              "      <td>459</td>\n",
              "      <td>309</td>\n",
              "      <td>149</td>\n",
              "      <td>159</td>\n",
              "      <td>16</td>\n",
              "      <td>4</td>\n",
              "      <td>530935</td>\n",
              "      <td>0</td>\n",
              "      <td>0</td>\n",
              "      <td>0</td>\n",
              "      <td>309</td>\n",
              "      <td>459</td>\n",
              "    </tr>\n",
              "    <tr>\n",
              "      <th>3</th>\n",
              "      <td>1963</td>\n",
              "      <td>842754</td>\n",
              "      <td>3371016</td>\n",
              "      <td>459</td>\n",
              "      <td>347</td>\n",
              "      <td>149</td>\n",
              "      <td>198</td>\n",
              "      <td>16</td>\n",
              "      <td>4</td>\n",
              "      <td>707913</td>\n",
              "      <td>0</td>\n",
              "      <td>0</td>\n",
              "      <td>-2</td>\n",
              "      <td>345</td>\n",
              "      <td>457</td>\n",
              "    </tr>\n",
              "    <tr>\n",
              "      <th>4</th>\n",
              "      <td>1964</td>\n",
              "      <td>842754</td>\n",
              "      <td>4213770</td>\n",
              "      <td>459</td>\n",
              "      <td>373</td>\n",
              "      <td>149</td>\n",
              "      <td>224</td>\n",
              "      <td>16</td>\n",
              "      <td>4</td>\n",
              "      <td>884891</td>\n",
              "      <td>0</td>\n",
              "      <td>0</td>\n",
              "      <td>-5</td>\n",
              "      <td>368</td>\n",
              "      <td>454</td>\n",
              "    </tr>\n",
              "    <tr>\n",
              "      <th>...</th>\n",
              "      <td>...</td>\n",
              "      <td>...</td>\n",
              "      <td>...</td>\n",
              "      <td>...</td>\n",
              "      <td>...</td>\n",
              "      <td>...</td>\n",
              "      <td>...</td>\n",
              "      <td>...</td>\n",
              "      <td>...</td>\n",
              "      <td>...</td>\n",
              "      <td>...</td>\n",
              "      <td>...</td>\n",
              "      <td>...</td>\n",
              "      <td>...</td>\n",
              "      <td>...</td>\n",
              "    </tr>\n",
              "    <tr>\n",
              "      <th>56</th>\n",
              "      <td>2016</td>\n",
              "      <td>789300</td>\n",
              "      <td>75866363</td>\n",
              "      <td>444</td>\n",
              "      <td>398</td>\n",
              "      <td>145</td>\n",
              "      <td>252</td>\n",
              "      <td>15</td>\n",
              "      <td>4</td>\n",
              "      <td>17467119</td>\n",
              "      <td>1171004</td>\n",
              "      <td>153</td>\n",
              "      <td>-200</td>\n",
              "      <td>350</td>\n",
              "      <td>397</td>\n",
              "    </tr>\n",
              "    <tr>\n",
              "      <th>57</th>\n",
              "      <td>2017</td>\n",
              "      <td>694713</td>\n",
              "      <td>76561076</td>\n",
              "      <td>391</td>\n",
              "      <td>399</td>\n",
              "      <td>128</td>\n",
              "      <td>271</td>\n",
              "      <td>14</td>\n",
              "      <td>4</td>\n",
              "      <td>17793830</td>\n",
              "      <td>1182476</td>\n",
              "      <td>156</td>\n",
              "      <td>-204</td>\n",
              "      <td>351</td>\n",
              "      <td>343</td>\n",
              "    </tr>\n",
              "    <tr>\n",
              "      <th>58</th>\n",
              "      <td>2018</td>\n",
              "      <td>753584</td>\n",
              "      <td>77314661</td>\n",
              "      <td>424</td>\n",
              "      <td>409</td>\n",
              "      <td>139</td>\n",
              "      <td>270</td>\n",
              "      <td>15</td>\n",
              "      <td>4</td>\n",
              "      <td>18116561</td>\n",
              "      <td>1194169</td>\n",
              "      <td>159</td>\n",
              "      <td>-208</td>\n",
              "      <td>360</td>\n",
              "      <td>375</td>\n",
              "    </tr>\n",
              "    <tr>\n",
              "      <th>59</th>\n",
              "      <td>2019</td>\n",
              "      <td>1012933</td>\n",
              "      <td>78327594</td>\n",
              "      <td>581</td>\n",
              "      <td>464</td>\n",
              "      <td>189</td>\n",
              "      <td>275</td>\n",
              "      <td>20</td>\n",
              "      <td>6</td>\n",
              "      <td>18477956</td>\n",
              "      <td>1211042</td>\n",
              "      <td>162</td>\n",
              "      <td>-212</td>\n",
              "      <td>414</td>\n",
              "      <td>531</td>\n",
              "    </tr>\n",
              "    <tr>\n",
              "      <th>60</th>\n",
              "      <td>2020</td>\n",
              "      <td>1108800</td>\n",
              "      <td>79436395</td>\n",
              "      <td>633</td>\n",
              "      <td>517</td>\n",
              "      <td>206</td>\n",
              "      <td>311</td>\n",
              "      <td>22</td>\n",
              "      <td>6</td>\n",
              "      <td>18843208</td>\n",
              "      <td>1222696</td>\n",
              "      <td>164</td>\n",
              "      <td>-215</td>\n",
              "      <td>466</td>\n",
              "      <td>582</td>\n",
              "    </tr>\n",
              "  </tbody>\n",
              "</table>\n",
              "<p>61 rows × 15 columns</p>\n",
              "</div>"
            ],
            "text/plain": [
              "    Year   D_Area  D_AreaAcc  VR_CO2_1stOrder  VR_CO2_2ndOrder  \\\n",
              "0   1960   842754     842754              459              149   \n",
              "1   1961   842754    1685508              459              247   \n",
              "2   1962   842754    2528262              459              309   \n",
              "3   1963   842754    3371016              459              347   \n",
              "4   1964   842754    4213770              459              373   \n",
              "..   ...      ...        ...              ...              ...   \n",
              "56  2016   789300   75866363              444              398   \n",
              "57  2017   694713   76561076              391              399   \n",
              "58  2018   753584   77314661              424              409   \n",
              "59  2019  1012933   78327594              581              464   \n",
              "60  2020  1108800   79436395              633              517   \n",
              "\n",
              "    VR_CO2_2ndOrderFire  VR_CO2_2ndOrderDecay  VR_CH42Eq_2ndOrderFire  \\\n",
              "0                   149                     0                      16   \n",
              "1                   149                    98                      16   \n",
              "2                   149                   159                      16   \n",
              "3                   149                   198                      16   \n",
              "4                   149                   224                      16   \n",
              "..                  ...                   ...                     ...   \n",
              "56                  145                   252                      15   \n",
              "57                  128                   271                      14   \n",
              "58                  139                   270                      15   \n",
              "59                  189                   275                      20   \n",
              "60                  206                   311                      22   \n",
              "\n",
              "    VR_N2OEq_2ndOrderFire  SV_AreaTotal  SV_AreaCleared  SV_CO2Emission  \\\n",
              "0                       4        176978               0               0   \n",
              "1                       4        353956               0               0   \n",
              "2                       4        530935               0               0   \n",
              "3                       4        707913               0               0   \n",
              "4                       4        884891               0               0   \n",
              "..                    ...           ...             ...             ...   \n",
              "56                      4      17467119         1171004             153   \n",
              "57                      4      17793830         1182476             156   \n",
              "58                      4      18116561         1194169             159   \n",
              "59                      6      18477956         1211042             162   \n",
              "60                      6      18843208         1222696             164   \n",
              "\n",
              "    SV_CO2Absorption  NET_CO2_2ndOrder  NET_CO2_1stOrder  \n",
              "0                  0               149               459  \n",
              "1                  0               247               459  \n",
              "2                  0               309               459  \n",
              "3                 -2               345               457  \n",
              "4                 -5               368               454  \n",
              "..               ...               ...               ...  \n",
              "56              -200               350               397  \n",
              "57              -204               351               343  \n",
              "58              -208               360               375  \n",
              "59              -212               414               531  \n",
              "60              -215               466               582  \n",
              "\n",
              "[61 rows x 15 columns]"
            ]
          },
          "execution_count": 6,
          "metadata": {},
          "output_type": "execute_result"
        }
      ],
      "source": [
        "#Obtendo os dados sobre desmatamento e emissões de carbono\n",
        "#Foram retirados do INEP\n",
        "\n",
        "dados = pd.read_excel(\"Desmatamento.xlsx\")\n",
        "dados"
      ]
    },
    {
      "cell_type": "code",
      "execution_count": 7,
      "metadata": {
        "id": "PKZwUgZ3kbTz"
      },
      "outputs": [],
      "source": [
        "#Calculando a variação percentual\n",
        "dados[\"Variação Percentual\"] = dados[\"D_Area\"].pct_change()*100\n",
        "dados[\"Variação Percentual Area Acumulada\"] = dados[\"D_AreaAcc\"].pct_change()*100"
      ]
    },
    {
      "cell_type": "markdown",
      "metadata": {
        "id": "J4ESEgWMkbT0"
      },
      "source": [
        "## O Desmatamento\n",
        "#### Como se sabe, o desmatamento tem em suas raízes causas econômicas. Empresas e organizações criminosas buscam explorar recursos de forma ilegal pois, além de serem mais baratos, podem trazer um grande retorno para eles.\n",
        "#### O Gráfico a seguir mostra em termos de m² o quanto já se desmatou no Brasil nos últimos anos."
      ]
    },
    {
      "cell_type": "code",
      "execution_count": 8,
      "metadata": {
        "colab": {
          "base_uri": "https://localhost:8080/",
          "height": 228
        },
        "id": "QnvMkoO3kbT2",
        "outputId": "54ea8970-ced6-4369-afd6-cf7cf28e6095"
      },
      "outputs": [
        {
          "data": {
            "application/vnd.plotly.v1+json": {
              "config": {
                "plotlyServerURL": "https://plot.ly"
              },
              "data": [
                {
                  "alignmentgroup": "True",
                  "hovertemplate": "Year=%{x}<br>D_Area=%{y}<extra></extra>",
                  "legendgroup": "",
                  "marker": {
                    "color": "yellow",
                    "pattern": {
                      "shape": ""
                    }
                  },
                  "name": "",
                  "offsetgroup": "",
                  "orientation": "v",
                  "showlegend": false,
                  "textposition": "auto",
                  "type": "bar",
                  "x": [
                    1960,
                    1961,
                    1962,
                    1963,
                    1964,
                    1965,
                    1966,
                    1967,
                    1968,
                    1969,
                    1970,
                    1971,
                    1972,
                    1973,
                    1974,
                    1975,
                    1976,
                    1977,
                    1978,
                    1979,
                    1980,
                    1981,
                    1982,
                    1983,
                    1984,
                    1985,
                    1986,
                    1987,
                    1988,
                    1989,
                    1990,
                    1991,
                    1992,
                    1993,
                    1994,
                    1995,
                    1996,
                    1997,
                    1998,
                    1999,
                    2000,
                    2001,
                    2002,
                    2003,
                    2004,
                    2005,
                    2006,
                    2007,
                    2008,
                    2009,
                    2010,
                    2011,
                    2012,
                    2013,
                    2014,
                    2015,
                    2016,
                    2017,
                    2018,
                    2019,
                    2020
                  ],
                  "xaxis": "x",
                  "y": [
                    842754,
                    842754,
                    842754,
                    842754,
                    842754,
                    842754,
                    842754,
                    842754,
                    842754,
                    842754,
                    842754,
                    842754,
                    842754,
                    842754,
                    842754,
                    842754,
                    842754,
                    842754,
                    842754,
                    2150000,
                    2150000,
                    2105000,
                    2105000,
                    2105000,
                    2105000,
                    2105000,
                    2105000,
                    2105000,
                    2105000,
                    1777000,
                    1373000,
                    1103000,
                    1378600,
                    1489600,
                    1489600,
                    2905900,
                    1816100,
                    1322700,
                    1738300,
                    1725900,
                    1822600,
                    1816500,
                    2165088,
                    2539514,
                    2777131,
                    1901393,
                    1428628,
                    1164972,
                    1291096,
                    746365,
                    700000,
                    641799,
                    457100,
                    589095,
                    501199,
                    620687,
                    789300,
                    694713,
                    753584,
                    1012933,
                    1108800
                  ],
                  "yaxis": "y"
                }
              ],
              "layout": {
                "barmode": "relative",
                "height": 400,
                "legend": {
                  "tracegroupgap": 0
                },
                "template": {
                  "data": {
                    "bar": [
                      {
                        "error_x": {
                          "color": "#f2f5fa"
                        },
                        "error_y": {
                          "color": "#f2f5fa"
                        },
                        "marker": {
                          "line": {
                            "color": "rgb(17,17,17)",
                            "width": 0.5
                          },
                          "pattern": {
                            "fillmode": "overlay",
                            "size": 10,
                            "solidity": 0.2
                          }
                        },
                        "type": "bar"
                      }
                    ],
                    "barpolar": [
                      {
                        "marker": {
                          "line": {
                            "color": "rgb(17,17,17)",
                            "width": 0.5
                          },
                          "pattern": {
                            "fillmode": "overlay",
                            "size": 10,
                            "solidity": 0.2
                          }
                        },
                        "type": "barpolar"
                      }
                    ],
                    "carpet": [
                      {
                        "aaxis": {
                          "endlinecolor": "#A2B1C6",
                          "gridcolor": "#506784",
                          "linecolor": "#506784",
                          "minorgridcolor": "#506784",
                          "startlinecolor": "#A2B1C6"
                        },
                        "baxis": {
                          "endlinecolor": "#A2B1C6",
                          "gridcolor": "#506784",
                          "linecolor": "#506784",
                          "minorgridcolor": "#506784",
                          "startlinecolor": "#A2B1C6"
                        },
                        "type": "carpet"
                      }
                    ],
                    "choropleth": [
                      {
                        "colorbar": {
                          "outlinewidth": 0,
                          "ticks": ""
                        },
                        "type": "choropleth"
                      }
                    ],
                    "contour": [
                      {
                        "colorbar": {
                          "outlinewidth": 0,
                          "ticks": ""
                        },
                        "colorscale": [
                          [
                            0,
                            "#0d0887"
                          ],
                          [
                            0.1111111111111111,
                            "#46039f"
                          ],
                          [
                            0.2222222222222222,
                            "#7201a8"
                          ],
                          [
                            0.3333333333333333,
                            "#9c179e"
                          ],
                          [
                            0.4444444444444444,
                            "#bd3786"
                          ],
                          [
                            0.5555555555555556,
                            "#d8576b"
                          ],
                          [
                            0.6666666666666666,
                            "#ed7953"
                          ],
                          [
                            0.7777777777777778,
                            "#fb9f3a"
                          ],
                          [
                            0.8888888888888888,
                            "#fdca26"
                          ],
                          [
                            1,
                            "#f0f921"
                          ]
                        ],
                        "type": "contour"
                      }
                    ],
                    "contourcarpet": [
                      {
                        "colorbar": {
                          "outlinewidth": 0,
                          "ticks": ""
                        },
                        "type": "contourcarpet"
                      }
                    ],
                    "heatmap": [
                      {
                        "colorbar": {
                          "outlinewidth": 0,
                          "ticks": ""
                        },
                        "colorscale": [
                          [
                            0,
                            "#0d0887"
                          ],
                          [
                            0.1111111111111111,
                            "#46039f"
                          ],
                          [
                            0.2222222222222222,
                            "#7201a8"
                          ],
                          [
                            0.3333333333333333,
                            "#9c179e"
                          ],
                          [
                            0.4444444444444444,
                            "#bd3786"
                          ],
                          [
                            0.5555555555555556,
                            "#d8576b"
                          ],
                          [
                            0.6666666666666666,
                            "#ed7953"
                          ],
                          [
                            0.7777777777777778,
                            "#fb9f3a"
                          ],
                          [
                            0.8888888888888888,
                            "#fdca26"
                          ],
                          [
                            1,
                            "#f0f921"
                          ]
                        ],
                        "type": "heatmap"
                      }
                    ],
                    "heatmapgl": [
                      {
                        "colorbar": {
                          "outlinewidth": 0,
                          "ticks": ""
                        },
                        "colorscale": [
                          [
                            0,
                            "#0d0887"
                          ],
                          [
                            0.1111111111111111,
                            "#46039f"
                          ],
                          [
                            0.2222222222222222,
                            "#7201a8"
                          ],
                          [
                            0.3333333333333333,
                            "#9c179e"
                          ],
                          [
                            0.4444444444444444,
                            "#bd3786"
                          ],
                          [
                            0.5555555555555556,
                            "#d8576b"
                          ],
                          [
                            0.6666666666666666,
                            "#ed7953"
                          ],
                          [
                            0.7777777777777778,
                            "#fb9f3a"
                          ],
                          [
                            0.8888888888888888,
                            "#fdca26"
                          ],
                          [
                            1,
                            "#f0f921"
                          ]
                        ],
                        "type": "heatmapgl"
                      }
                    ],
                    "histogram": [
                      {
                        "marker": {
                          "pattern": {
                            "fillmode": "overlay",
                            "size": 10,
                            "solidity": 0.2
                          }
                        },
                        "type": "histogram"
                      }
                    ],
                    "histogram2d": [
                      {
                        "colorbar": {
                          "outlinewidth": 0,
                          "ticks": ""
                        },
                        "colorscale": [
                          [
                            0,
                            "#0d0887"
                          ],
                          [
                            0.1111111111111111,
                            "#46039f"
                          ],
                          [
                            0.2222222222222222,
                            "#7201a8"
                          ],
                          [
                            0.3333333333333333,
                            "#9c179e"
                          ],
                          [
                            0.4444444444444444,
                            "#bd3786"
                          ],
                          [
                            0.5555555555555556,
                            "#d8576b"
                          ],
                          [
                            0.6666666666666666,
                            "#ed7953"
                          ],
                          [
                            0.7777777777777778,
                            "#fb9f3a"
                          ],
                          [
                            0.8888888888888888,
                            "#fdca26"
                          ],
                          [
                            1,
                            "#f0f921"
                          ]
                        ],
                        "type": "histogram2d"
                      }
                    ],
                    "histogram2dcontour": [
                      {
                        "colorbar": {
                          "outlinewidth": 0,
                          "ticks": ""
                        },
                        "colorscale": [
                          [
                            0,
                            "#0d0887"
                          ],
                          [
                            0.1111111111111111,
                            "#46039f"
                          ],
                          [
                            0.2222222222222222,
                            "#7201a8"
                          ],
                          [
                            0.3333333333333333,
                            "#9c179e"
                          ],
                          [
                            0.4444444444444444,
                            "#bd3786"
                          ],
                          [
                            0.5555555555555556,
                            "#d8576b"
                          ],
                          [
                            0.6666666666666666,
                            "#ed7953"
                          ],
                          [
                            0.7777777777777778,
                            "#fb9f3a"
                          ],
                          [
                            0.8888888888888888,
                            "#fdca26"
                          ],
                          [
                            1,
                            "#f0f921"
                          ]
                        ],
                        "type": "histogram2dcontour"
                      }
                    ],
                    "mesh3d": [
                      {
                        "colorbar": {
                          "outlinewidth": 0,
                          "ticks": ""
                        },
                        "type": "mesh3d"
                      }
                    ],
                    "parcoords": [
                      {
                        "line": {
                          "colorbar": {
                            "outlinewidth": 0,
                            "ticks": ""
                          }
                        },
                        "type": "parcoords"
                      }
                    ],
                    "pie": [
                      {
                        "automargin": true,
                        "type": "pie"
                      }
                    ],
                    "scatter": [
                      {
                        "marker": {
                          "line": {
                            "color": "#283442"
                          }
                        },
                        "type": "scatter"
                      }
                    ],
                    "scatter3d": [
                      {
                        "line": {
                          "colorbar": {
                            "outlinewidth": 0,
                            "ticks": ""
                          }
                        },
                        "marker": {
                          "colorbar": {
                            "outlinewidth": 0,
                            "ticks": ""
                          }
                        },
                        "type": "scatter3d"
                      }
                    ],
                    "scattercarpet": [
                      {
                        "marker": {
                          "colorbar": {
                            "outlinewidth": 0,
                            "ticks": ""
                          }
                        },
                        "type": "scattercarpet"
                      }
                    ],
                    "scattergeo": [
                      {
                        "marker": {
                          "colorbar": {
                            "outlinewidth": 0,
                            "ticks": ""
                          }
                        },
                        "type": "scattergeo"
                      }
                    ],
                    "scattergl": [
                      {
                        "marker": {
                          "line": {
                            "color": "#283442"
                          }
                        },
                        "type": "scattergl"
                      }
                    ],
                    "scattermapbox": [
                      {
                        "marker": {
                          "colorbar": {
                            "outlinewidth": 0,
                            "ticks": ""
                          }
                        },
                        "type": "scattermapbox"
                      }
                    ],
                    "scatterpolar": [
                      {
                        "marker": {
                          "colorbar": {
                            "outlinewidth": 0,
                            "ticks": ""
                          }
                        },
                        "type": "scatterpolar"
                      }
                    ],
                    "scatterpolargl": [
                      {
                        "marker": {
                          "colorbar": {
                            "outlinewidth": 0,
                            "ticks": ""
                          }
                        },
                        "type": "scatterpolargl"
                      }
                    ],
                    "scatterternary": [
                      {
                        "marker": {
                          "colorbar": {
                            "outlinewidth": 0,
                            "ticks": ""
                          }
                        },
                        "type": "scatterternary"
                      }
                    ],
                    "surface": [
                      {
                        "colorbar": {
                          "outlinewidth": 0,
                          "ticks": ""
                        },
                        "colorscale": [
                          [
                            0,
                            "#0d0887"
                          ],
                          [
                            0.1111111111111111,
                            "#46039f"
                          ],
                          [
                            0.2222222222222222,
                            "#7201a8"
                          ],
                          [
                            0.3333333333333333,
                            "#9c179e"
                          ],
                          [
                            0.4444444444444444,
                            "#bd3786"
                          ],
                          [
                            0.5555555555555556,
                            "#d8576b"
                          ],
                          [
                            0.6666666666666666,
                            "#ed7953"
                          ],
                          [
                            0.7777777777777778,
                            "#fb9f3a"
                          ],
                          [
                            0.8888888888888888,
                            "#fdca26"
                          ],
                          [
                            1,
                            "#f0f921"
                          ]
                        ],
                        "type": "surface"
                      }
                    ],
                    "table": [
                      {
                        "cells": {
                          "fill": {
                            "color": "#506784"
                          },
                          "line": {
                            "color": "rgb(17,17,17)"
                          }
                        },
                        "header": {
                          "fill": {
                            "color": "#2a3f5f"
                          },
                          "line": {
                            "color": "rgb(17,17,17)"
                          }
                        },
                        "type": "table"
                      }
                    ]
                  },
                  "layout": {
                    "annotationdefaults": {
                      "arrowcolor": "#f2f5fa",
                      "arrowhead": 0,
                      "arrowwidth": 1
                    },
                    "autotypenumbers": "strict",
                    "coloraxis": {
                      "colorbar": {
                        "outlinewidth": 0,
                        "ticks": ""
                      }
                    },
                    "colorscale": {
                      "diverging": [
                        [
                          0,
                          "#8e0152"
                        ],
                        [
                          0.1,
                          "#c51b7d"
                        ],
                        [
                          0.2,
                          "#de77ae"
                        ],
                        [
                          0.3,
                          "#f1b6da"
                        ],
                        [
                          0.4,
                          "#fde0ef"
                        ],
                        [
                          0.5,
                          "#f7f7f7"
                        ],
                        [
                          0.6,
                          "#e6f5d0"
                        ],
                        [
                          0.7,
                          "#b8e186"
                        ],
                        [
                          0.8,
                          "#7fbc41"
                        ],
                        [
                          0.9,
                          "#4d9221"
                        ],
                        [
                          1,
                          "#276419"
                        ]
                      ],
                      "sequential": [
                        [
                          0,
                          "#0d0887"
                        ],
                        [
                          0.1111111111111111,
                          "#46039f"
                        ],
                        [
                          0.2222222222222222,
                          "#7201a8"
                        ],
                        [
                          0.3333333333333333,
                          "#9c179e"
                        ],
                        [
                          0.4444444444444444,
                          "#bd3786"
                        ],
                        [
                          0.5555555555555556,
                          "#d8576b"
                        ],
                        [
                          0.6666666666666666,
                          "#ed7953"
                        ],
                        [
                          0.7777777777777778,
                          "#fb9f3a"
                        ],
                        [
                          0.8888888888888888,
                          "#fdca26"
                        ],
                        [
                          1,
                          "#f0f921"
                        ]
                      ],
                      "sequentialminus": [
                        [
                          0,
                          "#0d0887"
                        ],
                        [
                          0.1111111111111111,
                          "#46039f"
                        ],
                        [
                          0.2222222222222222,
                          "#7201a8"
                        ],
                        [
                          0.3333333333333333,
                          "#9c179e"
                        ],
                        [
                          0.4444444444444444,
                          "#bd3786"
                        ],
                        [
                          0.5555555555555556,
                          "#d8576b"
                        ],
                        [
                          0.6666666666666666,
                          "#ed7953"
                        ],
                        [
                          0.7777777777777778,
                          "#fb9f3a"
                        ],
                        [
                          0.8888888888888888,
                          "#fdca26"
                        ],
                        [
                          1,
                          "#f0f921"
                        ]
                      ]
                    },
                    "colorway": [
                      "#636efa",
                      "#EF553B",
                      "#00cc96",
                      "#ab63fa",
                      "#FFA15A",
                      "#19d3f3",
                      "#FF6692",
                      "#B6E880",
                      "#FF97FF",
                      "#FECB52"
                    ],
                    "font": {
                      "color": "#f2f5fa"
                    },
                    "geo": {
                      "bgcolor": "rgb(17,17,17)",
                      "lakecolor": "rgb(17,17,17)",
                      "landcolor": "rgb(17,17,17)",
                      "showlakes": true,
                      "showland": true,
                      "subunitcolor": "#506784"
                    },
                    "hoverlabel": {
                      "align": "left"
                    },
                    "hovermode": "closest",
                    "mapbox": {
                      "style": "dark"
                    },
                    "paper_bgcolor": "rgb(17,17,17)",
                    "plot_bgcolor": "rgb(17,17,17)",
                    "polar": {
                      "angularaxis": {
                        "gridcolor": "#506784",
                        "linecolor": "#506784",
                        "ticks": ""
                      },
                      "bgcolor": "rgb(17,17,17)",
                      "radialaxis": {
                        "gridcolor": "#506784",
                        "linecolor": "#506784",
                        "ticks": ""
                      }
                    },
                    "scene": {
                      "xaxis": {
                        "backgroundcolor": "rgb(17,17,17)",
                        "gridcolor": "#506784",
                        "gridwidth": 2,
                        "linecolor": "#506784",
                        "showbackground": true,
                        "ticks": "",
                        "zerolinecolor": "#C8D4E3"
                      },
                      "yaxis": {
                        "backgroundcolor": "rgb(17,17,17)",
                        "gridcolor": "#506784",
                        "gridwidth": 2,
                        "linecolor": "#506784",
                        "showbackground": true,
                        "ticks": "",
                        "zerolinecolor": "#C8D4E3"
                      },
                      "zaxis": {
                        "backgroundcolor": "rgb(17,17,17)",
                        "gridcolor": "#506784",
                        "gridwidth": 2,
                        "linecolor": "#506784",
                        "showbackground": true,
                        "ticks": "",
                        "zerolinecolor": "#C8D4E3"
                      }
                    },
                    "shapedefaults": {
                      "line": {
                        "color": "#f2f5fa"
                      }
                    },
                    "sliderdefaults": {
                      "bgcolor": "#C8D4E3",
                      "bordercolor": "rgb(17,17,17)",
                      "borderwidth": 1,
                      "tickwidth": 0
                    },
                    "ternary": {
                      "aaxis": {
                        "gridcolor": "#506784",
                        "linecolor": "#506784",
                        "ticks": ""
                      },
                      "baxis": {
                        "gridcolor": "#506784",
                        "linecolor": "#506784",
                        "ticks": ""
                      },
                      "bgcolor": "rgb(17,17,17)",
                      "caxis": {
                        "gridcolor": "#506784",
                        "linecolor": "#506784",
                        "ticks": ""
                      }
                    },
                    "title": {
                      "x": 0.05
                    },
                    "updatemenudefaults": {
                      "bgcolor": "#506784",
                      "borderwidth": 0
                    },
                    "xaxis": {
                      "automargin": true,
                      "gridcolor": "#283442",
                      "linecolor": "#506784",
                      "ticks": "",
                      "title": {
                        "standoff": 15
                      },
                      "zerolinecolor": "#283442",
                      "zerolinewidth": 2
                    },
                    "yaxis": {
                      "automargin": true,
                      "gridcolor": "#283442",
                      "linecolor": "#506784",
                      "ticks": "",
                      "title": {
                        "standoff": 15
                      },
                      "zerolinecolor": "#283442",
                      "zerolinewidth": 2
                    }
                  }
                },
                "title": {
                  "font": {
                    "size": 30
                  },
                  "text": "Área desmatada na amazônia em m²"
                },
                "width": 600,
                "xaxis": {
                  "anchor": "y",
                  "domain": [
                    0,
                    1
                  ],
                  "title": {
                    "font": {
                      "size": 15
                    },
                    "text": "Anos"
                  }
                },
                "yaxis": {
                  "anchor": "x",
                  "domain": [
                    0,
                    1
                  ],
                  "title": {
                    "font": {
                      "size": 15
                    },
                    "text": "Área Desmatada (m²)"
                  }
                }
              }
            }
          },
          "metadata": {},
          "output_type": "display_data"
        }
      ],
      "source": [
        "#Criando um gráfico com o plotly que mostra a variação percentual de um ano para o outro do desmatamento ano-ano\n",
        "fig = px.bar(data_frame=dados, x= dados[\"Year\"], y = dados[\"D_Area\"], color_discrete_sequence=[\"yellow\"], title=\"Área desmatada na amazônia em m²\", width= 600, height= 400, template=\"plotly_dark\")\n",
        "\n",
        "#Aumentando a fonte do gráfico\n",
        "fig.update_layout(title_font_size = 30)\n",
        "\n",
        "#Aumentando a fonte dos eixos X e Y\n",
        "fig.update_xaxes(title_text = \"Anos\")\n",
        "fig.update_yaxes(title_text = \"Área Desmatada (m²)\")\n",
        "fig.update_xaxes(title_font_size = 15)\n",
        "fig.update_yaxes(title_font_size = 15)\n",
        "\n",
        "#Mostra o gráfico\n",
        "fig.show()"
      ]
    },
    {
      "cell_type": "markdown",
      "metadata": {
        "id": "4vE6LAHEkbT3"
      },
      "source": [
        "## Como o desmatamento variou ano-a-ano\n",
        "#### Na floresta amazônica o desmatamento começou a ser contabilizado efetivamente no final dos anos 70. Durante esse período, havia um número grande de desmatamento devido a projetos de infraestrutura por parte da Ditadura Militar, do qual tinha por objetivo aumentar a presença naquele território. Posteriormente, nos anos 90 houve também um grande aumento no desmatamento na amazônia devido ao aumento da atividade econômica na região.\n",
        "#### No inicio do século, o desmatamento na amazônia teve uma diminuição drástica, isso por que houve a implementação de um Plano de Ação para a Prevenção e Controle do Desmatamento na Amazônia, o que possibilitou uma diminuição nos números devido ao aumento de fiscalização por parte do governo, o que diminui em cerca de 67% o desmatamento. No entanto, nos ultimos anos, devido ao afrouxamento da fiscalização e também por causa da expansão de atividades econômicas ilegais como o garimpo, agropecuária e de também extração de madeira, houve um aumento dele chegando até 34% no ano de 2019."
      ]
    },
    {
      "cell_type": "code",
      "execution_count": 9,
      "metadata": {
        "id": "gzh-nuMmkbT4",
        "outputId": "b66aee7b-3e8b-429b-dc2f-2996ec22a931"
      },
      "outputs": [
        {
          "data": {
            "application/vnd.plotly.v1+json": {
              "config": {
                "plotlyServerURL": "https://plot.ly"
              },
              "data": [
                {
                  "hovertemplate": "Year=%{x}<br>Variação Percentual=%{y}<extra></extra>",
                  "legendgroup": "",
                  "line": {
                    "color": "green",
                    "dash": "solid"
                  },
                  "marker": {
                    "symbol": "circle"
                  },
                  "mode": "lines",
                  "name": "",
                  "orientation": "v",
                  "showlegend": false,
                  "type": "scatter",
                  "x": [
                    1960,
                    1961,
                    1962,
                    1963,
                    1964,
                    1965,
                    1966,
                    1967,
                    1968,
                    1969,
                    1970,
                    1971,
                    1972,
                    1973,
                    1974,
                    1975,
                    1976,
                    1977,
                    1978,
                    1979,
                    1980,
                    1981,
                    1982,
                    1983,
                    1984,
                    1985,
                    1986,
                    1987,
                    1988,
                    1989,
                    1990,
                    1991,
                    1992,
                    1993,
                    1994,
                    1995,
                    1996,
                    1997,
                    1998,
                    1999,
                    2000,
                    2001,
                    2002,
                    2003,
                    2004,
                    2005,
                    2006,
                    2007,
                    2008,
                    2009,
                    2010,
                    2011,
                    2012,
                    2013,
                    2014,
                    2015,
                    2016,
                    2017,
                    2018,
                    2019,
                    2020
                  ],
                  "xaxis": "x",
                  "y": [
                    null,
                    0,
                    0,
                    0,
                    0,
                    0,
                    0,
                    0,
                    0,
                    0,
                    0,
                    0,
                    0,
                    0,
                    0,
                    0,
                    0,
                    0,
                    0,
                    155.1159650384335,
                    0,
                    -2.0930232558139528,
                    0,
                    0,
                    0,
                    0,
                    0,
                    0,
                    0,
                    -15.58194774346794,
                    -22.734946539110858,
                    -19.66496722505463,
                    24.986400725294654,
                    8.051646597997975,
                    0,
                    95.07921589688506,
                    -37.50301111531711,
                    -27.168107483068116,
                    31.420579118469803,
                    -0.713340620146119,
                    5.602873862912094,
                    -0.33468671129156524,
                    19.19009083402148,
                    17.293800529123992,
                    9.356790314997276,
                    -31.533910355687222,
                    -24.864139081189418,
                    -18.45518917450869,
                    10.826354624832192,
                    -42.19136299701959,
                    -6.212108016855023,
                    -8.314428571428568,
                    -28.778324677975508,
                    28.87661343250929,
                    -14.920513669272362,
                    23.840430647307763,
                    27.165543985938157,
                    -11.983656404408972,
                    8.474146877919363,
                    34.415406908851566,
                    9.464298230978763
                  ],
                  "yaxis": "y"
                }
              ],
              "layout": {
                "height": 400,
                "legend": {
                  "tracegroupgap": 0
                },
                "template": {
                  "data": {
                    "bar": [
                      {
                        "error_x": {
                          "color": "#f2f5fa"
                        },
                        "error_y": {
                          "color": "#f2f5fa"
                        },
                        "marker": {
                          "line": {
                            "color": "rgb(17,17,17)",
                            "width": 0.5
                          },
                          "pattern": {
                            "fillmode": "overlay",
                            "size": 10,
                            "solidity": 0.2
                          }
                        },
                        "type": "bar"
                      }
                    ],
                    "barpolar": [
                      {
                        "marker": {
                          "line": {
                            "color": "rgb(17,17,17)",
                            "width": 0.5
                          },
                          "pattern": {
                            "fillmode": "overlay",
                            "size": 10,
                            "solidity": 0.2
                          }
                        },
                        "type": "barpolar"
                      }
                    ],
                    "carpet": [
                      {
                        "aaxis": {
                          "endlinecolor": "#A2B1C6",
                          "gridcolor": "#506784",
                          "linecolor": "#506784",
                          "minorgridcolor": "#506784",
                          "startlinecolor": "#A2B1C6"
                        },
                        "baxis": {
                          "endlinecolor": "#A2B1C6",
                          "gridcolor": "#506784",
                          "linecolor": "#506784",
                          "minorgridcolor": "#506784",
                          "startlinecolor": "#A2B1C6"
                        },
                        "type": "carpet"
                      }
                    ],
                    "choropleth": [
                      {
                        "colorbar": {
                          "outlinewidth": 0,
                          "ticks": ""
                        },
                        "type": "choropleth"
                      }
                    ],
                    "contour": [
                      {
                        "colorbar": {
                          "outlinewidth": 0,
                          "ticks": ""
                        },
                        "colorscale": [
                          [
                            0,
                            "#0d0887"
                          ],
                          [
                            0.1111111111111111,
                            "#46039f"
                          ],
                          [
                            0.2222222222222222,
                            "#7201a8"
                          ],
                          [
                            0.3333333333333333,
                            "#9c179e"
                          ],
                          [
                            0.4444444444444444,
                            "#bd3786"
                          ],
                          [
                            0.5555555555555556,
                            "#d8576b"
                          ],
                          [
                            0.6666666666666666,
                            "#ed7953"
                          ],
                          [
                            0.7777777777777778,
                            "#fb9f3a"
                          ],
                          [
                            0.8888888888888888,
                            "#fdca26"
                          ],
                          [
                            1,
                            "#f0f921"
                          ]
                        ],
                        "type": "contour"
                      }
                    ],
                    "contourcarpet": [
                      {
                        "colorbar": {
                          "outlinewidth": 0,
                          "ticks": ""
                        },
                        "type": "contourcarpet"
                      }
                    ],
                    "heatmap": [
                      {
                        "colorbar": {
                          "outlinewidth": 0,
                          "ticks": ""
                        },
                        "colorscale": [
                          [
                            0,
                            "#0d0887"
                          ],
                          [
                            0.1111111111111111,
                            "#46039f"
                          ],
                          [
                            0.2222222222222222,
                            "#7201a8"
                          ],
                          [
                            0.3333333333333333,
                            "#9c179e"
                          ],
                          [
                            0.4444444444444444,
                            "#bd3786"
                          ],
                          [
                            0.5555555555555556,
                            "#d8576b"
                          ],
                          [
                            0.6666666666666666,
                            "#ed7953"
                          ],
                          [
                            0.7777777777777778,
                            "#fb9f3a"
                          ],
                          [
                            0.8888888888888888,
                            "#fdca26"
                          ],
                          [
                            1,
                            "#f0f921"
                          ]
                        ],
                        "type": "heatmap"
                      }
                    ],
                    "heatmapgl": [
                      {
                        "colorbar": {
                          "outlinewidth": 0,
                          "ticks": ""
                        },
                        "colorscale": [
                          [
                            0,
                            "#0d0887"
                          ],
                          [
                            0.1111111111111111,
                            "#46039f"
                          ],
                          [
                            0.2222222222222222,
                            "#7201a8"
                          ],
                          [
                            0.3333333333333333,
                            "#9c179e"
                          ],
                          [
                            0.4444444444444444,
                            "#bd3786"
                          ],
                          [
                            0.5555555555555556,
                            "#d8576b"
                          ],
                          [
                            0.6666666666666666,
                            "#ed7953"
                          ],
                          [
                            0.7777777777777778,
                            "#fb9f3a"
                          ],
                          [
                            0.8888888888888888,
                            "#fdca26"
                          ],
                          [
                            1,
                            "#f0f921"
                          ]
                        ],
                        "type": "heatmapgl"
                      }
                    ],
                    "histogram": [
                      {
                        "marker": {
                          "pattern": {
                            "fillmode": "overlay",
                            "size": 10,
                            "solidity": 0.2
                          }
                        },
                        "type": "histogram"
                      }
                    ],
                    "histogram2d": [
                      {
                        "colorbar": {
                          "outlinewidth": 0,
                          "ticks": ""
                        },
                        "colorscale": [
                          [
                            0,
                            "#0d0887"
                          ],
                          [
                            0.1111111111111111,
                            "#46039f"
                          ],
                          [
                            0.2222222222222222,
                            "#7201a8"
                          ],
                          [
                            0.3333333333333333,
                            "#9c179e"
                          ],
                          [
                            0.4444444444444444,
                            "#bd3786"
                          ],
                          [
                            0.5555555555555556,
                            "#d8576b"
                          ],
                          [
                            0.6666666666666666,
                            "#ed7953"
                          ],
                          [
                            0.7777777777777778,
                            "#fb9f3a"
                          ],
                          [
                            0.8888888888888888,
                            "#fdca26"
                          ],
                          [
                            1,
                            "#f0f921"
                          ]
                        ],
                        "type": "histogram2d"
                      }
                    ],
                    "histogram2dcontour": [
                      {
                        "colorbar": {
                          "outlinewidth": 0,
                          "ticks": ""
                        },
                        "colorscale": [
                          [
                            0,
                            "#0d0887"
                          ],
                          [
                            0.1111111111111111,
                            "#46039f"
                          ],
                          [
                            0.2222222222222222,
                            "#7201a8"
                          ],
                          [
                            0.3333333333333333,
                            "#9c179e"
                          ],
                          [
                            0.4444444444444444,
                            "#bd3786"
                          ],
                          [
                            0.5555555555555556,
                            "#d8576b"
                          ],
                          [
                            0.6666666666666666,
                            "#ed7953"
                          ],
                          [
                            0.7777777777777778,
                            "#fb9f3a"
                          ],
                          [
                            0.8888888888888888,
                            "#fdca26"
                          ],
                          [
                            1,
                            "#f0f921"
                          ]
                        ],
                        "type": "histogram2dcontour"
                      }
                    ],
                    "mesh3d": [
                      {
                        "colorbar": {
                          "outlinewidth": 0,
                          "ticks": ""
                        },
                        "type": "mesh3d"
                      }
                    ],
                    "parcoords": [
                      {
                        "line": {
                          "colorbar": {
                            "outlinewidth": 0,
                            "ticks": ""
                          }
                        },
                        "type": "parcoords"
                      }
                    ],
                    "pie": [
                      {
                        "automargin": true,
                        "type": "pie"
                      }
                    ],
                    "scatter": [
                      {
                        "marker": {
                          "line": {
                            "color": "#283442"
                          }
                        },
                        "type": "scatter"
                      }
                    ],
                    "scatter3d": [
                      {
                        "line": {
                          "colorbar": {
                            "outlinewidth": 0,
                            "ticks": ""
                          }
                        },
                        "marker": {
                          "colorbar": {
                            "outlinewidth": 0,
                            "ticks": ""
                          }
                        },
                        "type": "scatter3d"
                      }
                    ],
                    "scattercarpet": [
                      {
                        "marker": {
                          "colorbar": {
                            "outlinewidth": 0,
                            "ticks": ""
                          }
                        },
                        "type": "scattercarpet"
                      }
                    ],
                    "scattergeo": [
                      {
                        "marker": {
                          "colorbar": {
                            "outlinewidth": 0,
                            "ticks": ""
                          }
                        },
                        "type": "scattergeo"
                      }
                    ],
                    "scattergl": [
                      {
                        "marker": {
                          "line": {
                            "color": "#283442"
                          }
                        },
                        "type": "scattergl"
                      }
                    ],
                    "scattermapbox": [
                      {
                        "marker": {
                          "colorbar": {
                            "outlinewidth": 0,
                            "ticks": ""
                          }
                        },
                        "type": "scattermapbox"
                      }
                    ],
                    "scatterpolar": [
                      {
                        "marker": {
                          "colorbar": {
                            "outlinewidth": 0,
                            "ticks": ""
                          }
                        },
                        "type": "scatterpolar"
                      }
                    ],
                    "scatterpolargl": [
                      {
                        "marker": {
                          "colorbar": {
                            "outlinewidth": 0,
                            "ticks": ""
                          }
                        },
                        "type": "scatterpolargl"
                      }
                    ],
                    "scatterternary": [
                      {
                        "marker": {
                          "colorbar": {
                            "outlinewidth": 0,
                            "ticks": ""
                          }
                        },
                        "type": "scatterternary"
                      }
                    ],
                    "surface": [
                      {
                        "colorbar": {
                          "outlinewidth": 0,
                          "ticks": ""
                        },
                        "colorscale": [
                          [
                            0,
                            "#0d0887"
                          ],
                          [
                            0.1111111111111111,
                            "#46039f"
                          ],
                          [
                            0.2222222222222222,
                            "#7201a8"
                          ],
                          [
                            0.3333333333333333,
                            "#9c179e"
                          ],
                          [
                            0.4444444444444444,
                            "#bd3786"
                          ],
                          [
                            0.5555555555555556,
                            "#d8576b"
                          ],
                          [
                            0.6666666666666666,
                            "#ed7953"
                          ],
                          [
                            0.7777777777777778,
                            "#fb9f3a"
                          ],
                          [
                            0.8888888888888888,
                            "#fdca26"
                          ],
                          [
                            1,
                            "#f0f921"
                          ]
                        ],
                        "type": "surface"
                      }
                    ],
                    "table": [
                      {
                        "cells": {
                          "fill": {
                            "color": "#506784"
                          },
                          "line": {
                            "color": "rgb(17,17,17)"
                          }
                        },
                        "header": {
                          "fill": {
                            "color": "#2a3f5f"
                          },
                          "line": {
                            "color": "rgb(17,17,17)"
                          }
                        },
                        "type": "table"
                      }
                    ]
                  },
                  "layout": {
                    "annotationdefaults": {
                      "arrowcolor": "#f2f5fa",
                      "arrowhead": 0,
                      "arrowwidth": 1
                    },
                    "autotypenumbers": "strict",
                    "coloraxis": {
                      "colorbar": {
                        "outlinewidth": 0,
                        "ticks": ""
                      }
                    },
                    "colorscale": {
                      "diverging": [
                        [
                          0,
                          "#8e0152"
                        ],
                        [
                          0.1,
                          "#c51b7d"
                        ],
                        [
                          0.2,
                          "#de77ae"
                        ],
                        [
                          0.3,
                          "#f1b6da"
                        ],
                        [
                          0.4,
                          "#fde0ef"
                        ],
                        [
                          0.5,
                          "#f7f7f7"
                        ],
                        [
                          0.6,
                          "#e6f5d0"
                        ],
                        [
                          0.7,
                          "#b8e186"
                        ],
                        [
                          0.8,
                          "#7fbc41"
                        ],
                        [
                          0.9,
                          "#4d9221"
                        ],
                        [
                          1,
                          "#276419"
                        ]
                      ],
                      "sequential": [
                        [
                          0,
                          "#0d0887"
                        ],
                        [
                          0.1111111111111111,
                          "#46039f"
                        ],
                        [
                          0.2222222222222222,
                          "#7201a8"
                        ],
                        [
                          0.3333333333333333,
                          "#9c179e"
                        ],
                        [
                          0.4444444444444444,
                          "#bd3786"
                        ],
                        [
                          0.5555555555555556,
                          "#d8576b"
                        ],
                        [
                          0.6666666666666666,
                          "#ed7953"
                        ],
                        [
                          0.7777777777777778,
                          "#fb9f3a"
                        ],
                        [
                          0.8888888888888888,
                          "#fdca26"
                        ],
                        [
                          1,
                          "#f0f921"
                        ]
                      ],
                      "sequentialminus": [
                        [
                          0,
                          "#0d0887"
                        ],
                        [
                          0.1111111111111111,
                          "#46039f"
                        ],
                        [
                          0.2222222222222222,
                          "#7201a8"
                        ],
                        [
                          0.3333333333333333,
                          "#9c179e"
                        ],
                        [
                          0.4444444444444444,
                          "#bd3786"
                        ],
                        [
                          0.5555555555555556,
                          "#d8576b"
                        ],
                        [
                          0.6666666666666666,
                          "#ed7953"
                        ],
                        [
                          0.7777777777777778,
                          "#fb9f3a"
                        ],
                        [
                          0.8888888888888888,
                          "#fdca26"
                        ],
                        [
                          1,
                          "#f0f921"
                        ]
                      ]
                    },
                    "colorway": [
                      "#636efa",
                      "#EF553B",
                      "#00cc96",
                      "#ab63fa",
                      "#FFA15A",
                      "#19d3f3",
                      "#FF6692",
                      "#B6E880",
                      "#FF97FF",
                      "#FECB52"
                    ],
                    "font": {
                      "color": "#f2f5fa"
                    },
                    "geo": {
                      "bgcolor": "rgb(17,17,17)",
                      "lakecolor": "rgb(17,17,17)",
                      "landcolor": "rgb(17,17,17)",
                      "showlakes": true,
                      "showland": true,
                      "subunitcolor": "#506784"
                    },
                    "hoverlabel": {
                      "align": "left"
                    },
                    "hovermode": "closest",
                    "mapbox": {
                      "style": "dark"
                    },
                    "paper_bgcolor": "rgb(17,17,17)",
                    "plot_bgcolor": "rgb(17,17,17)",
                    "polar": {
                      "angularaxis": {
                        "gridcolor": "#506784",
                        "linecolor": "#506784",
                        "ticks": ""
                      },
                      "bgcolor": "rgb(17,17,17)",
                      "radialaxis": {
                        "gridcolor": "#506784",
                        "linecolor": "#506784",
                        "ticks": ""
                      }
                    },
                    "scene": {
                      "xaxis": {
                        "backgroundcolor": "rgb(17,17,17)",
                        "gridcolor": "#506784",
                        "gridwidth": 2,
                        "linecolor": "#506784",
                        "showbackground": true,
                        "ticks": "",
                        "zerolinecolor": "#C8D4E3"
                      },
                      "yaxis": {
                        "backgroundcolor": "rgb(17,17,17)",
                        "gridcolor": "#506784",
                        "gridwidth": 2,
                        "linecolor": "#506784",
                        "showbackground": true,
                        "ticks": "",
                        "zerolinecolor": "#C8D4E3"
                      },
                      "zaxis": {
                        "backgroundcolor": "rgb(17,17,17)",
                        "gridcolor": "#506784",
                        "gridwidth": 2,
                        "linecolor": "#506784",
                        "showbackground": true,
                        "ticks": "",
                        "zerolinecolor": "#C8D4E3"
                      }
                    },
                    "shapedefaults": {
                      "line": {
                        "color": "#f2f5fa"
                      }
                    },
                    "sliderdefaults": {
                      "bgcolor": "#C8D4E3",
                      "bordercolor": "rgb(17,17,17)",
                      "borderwidth": 1,
                      "tickwidth": 0
                    },
                    "ternary": {
                      "aaxis": {
                        "gridcolor": "#506784",
                        "linecolor": "#506784",
                        "ticks": ""
                      },
                      "baxis": {
                        "gridcolor": "#506784",
                        "linecolor": "#506784",
                        "ticks": ""
                      },
                      "bgcolor": "rgb(17,17,17)",
                      "caxis": {
                        "gridcolor": "#506784",
                        "linecolor": "#506784",
                        "ticks": ""
                      }
                    },
                    "title": {
                      "x": 0.05
                    },
                    "updatemenudefaults": {
                      "bgcolor": "#506784",
                      "borderwidth": 0
                    },
                    "xaxis": {
                      "automargin": true,
                      "gridcolor": "#283442",
                      "linecolor": "#506784",
                      "ticks": "",
                      "title": {
                        "standoff": 15
                      },
                      "zerolinecolor": "#283442",
                      "zerolinewidth": 2
                    },
                    "yaxis": {
                      "automargin": true,
                      "gridcolor": "#283442",
                      "linecolor": "#506784",
                      "ticks": "",
                      "title": {
                        "standoff": 15
                      },
                      "zerolinecolor": "#283442",
                      "zerolinewidth": 2
                    }
                  }
                },
                "title": {
                  "font": {
                    "size": 30
                  },
                  "text": "Incremento anual desmatamento"
                },
                "width": 600,
                "xaxis": {
                  "anchor": "y",
                  "domain": [
                    0,
                    1
                  ],
                  "title": {
                    "font": {
                      "size": 15
                    },
                    "text": "Anos"
                  }
                },
                "yaxis": {
                  "anchor": "x",
                  "domain": [
                    0,
                    1
                  ],
                  "title": {
                    "font": {
                      "size": 15
                    },
                    "text": "Variação Percentual"
                  }
                }
              }
            }
          },
          "metadata": {},
          "output_type": "display_data"
        }
      ],
      "source": [
        "#Criando um gráfico com o plotly que mostra a variação percentual de um ano para o outro do desmatamento ano-ano\n",
        "fig = px.line(data_frame=dados, x= dados[\"Year\"], y = dados[\"Variação Percentual\"], color_discrete_sequence=[\"green\"], title=\"Incremento anual desmatamento\", width= 600, height= 400, template=\"plotly_dark\")\n",
        "\n",
        "#Aumentando a fonte do gráfico\n",
        "fig.update_layout(title_font_size = 30)\n",
        "\n",
        "#Aumentando a fonte dos eixos X e Y\n",
        "fig.update_xaxes(title_text = \"Anos\")\n",
        "fig.update_xaxes(title_font_size = 15)\n",
        "fig.update_yaxes(title_font_size = 15)\n",
        "\n",
        "#Mostra o gráfico\n",
        "fig.show()"
      ]
    },
    {
      "cell_type": "markdown",
      "metadata": {
        "id": "n6ml9lwokbT5"
      },
      "source": [
        "#### A Área acumulada ao longo dos anos diminui em termos de variação percentual ao longo do tempo, o que não significa que houve uma diminuição mas sim pode indicar que a variação de um ano para o outro foi baixa pois os números ainda são altos em termos de area desmatada acumulada."
      ]
    },
    {
      "cell_type": "code",
      "execution_count": 10,
      "metadata": {
        "id": "BWe7ZaeRkbT6",
        "outputId": "c4b4a408-e2ff-4aa5-c1fc-ed047eb65e9b"
      },
      "outputs": [
        {
          "data": {
            "application/vnd.plotly.v1+json": {
              "config": {
                "plotlyServerURL": "https://plot.ly"
              },
              "data": [
                {
                  "hovertemplate": "Year=%{x}<br>Variação Percentual Area Acumulada=%{y}<extra></extra>",
                  "legendgroup": "",
                  "line": {
                    "color": "green",
                    "dash": "solid"
                  },
                  "marker": {
                    "symbol": "circle"
                  },
                  "mode": "lines",
                  "name": "",
                  "orientation": "v",
                  "showlegend": false,
                  "type": "scatter",
                  "x": [
                    1960,
                    1961,
                    1962,
                    1963,
                    1964,
                    1965,
                    1966,
                    1967,
                    1968,
                    1969,
                    1970,
                    1971,
                    1972,
                    1973,
                    1974,
                    1975,
                    1976,
                    1977,
                    1978,
                    1979,
                    1980,
                    1981,
                    1982,
                    1983,
                    1984,
                    1985,
                    1986,
                    1987,
                    1988,
                    1989,
                    1990,
                    1991,
                    1992,
                    1993,
                    1994,
                    1995,
                    1996,
                    1997,
                    1998,
                    1999,
                    2000,
                    2001,
                    2002,
                    2003,
                    2004,
                    2005,
                    2006,
                    2007,
                    2008,
                    2009,
                    2010,
                    2011,
                    2012,
                    2013,
                    2014,
                    2015,
                    2016,
                    2017,
                    2018,
                    2019,
                    2020
                  ],
                  "xaxis": "x",
                  "y": [
                    null,
                    100,
                    50,
                    33.33333333333333,
                    25,
                    19.999999999999996,
                    16.666666666666675,
                    14.28571428571428,
                    12.5,
                    11.111111111111116,
                    10.000000000000009,
                    9.090909090909083,
                    8.333333333333325,
                    7.692307692307687,
                    7.14285714285714,
                    6.666666666666665,
                    6.25,
                    5.882352941176472,
                    5.555555555555558,
                    13.427156054654388,
                    11.837690833211557,
                    10.363165695548604,
                    9.390058386089395,
                    8.58401442016552,
                    7.905412657658517,
                    7.326242922344672,
                    6.826143096843085,
                    6.389955584799933,
                    6.006164350455734,
                    4.78301143244706,
                    3.526904113366869,
                    2.7368147436453105,
                    3.3295233564879956,
                    3.4816814146509056,
                    3.3645388894482986,
                    6.349872165638337,
                    3.7315314261682664,
                    2.61997959557434,
                    3.3552845857689473,
                    3.2232023657509767,
                    3.2975089424078563,
                    3.1815603801310433,
                    1.3697769076761457,
                    4.25250632233185,
                    4.4607105909268085,
                    2.92365971943942,
                    2.1343156191746315,
                    1.7040552114982566,
                    1.8568995202885796,
                    1.053878015947718,
                    0.9781019735582763,
                    0.8880933225843268,
                    0.626946090865621,
                    0.8029528087094118,
                    0.677707814226669,
                    0.8336250589690897,
                    1.0513211079037799,
                    0.9157062135692451,
                    0.9842925927530111,
                    1.3101434927070388,
                    1.4155943561856343
                  ],
                  "yaxis": "y"
                }
              ],
              "layout": {
                "height": 400,
                "legend": {
                  "tracegroupgap": 0
                },
                "template": {
                  "data": {
                    "bar": [
                      {
                        "error_x": {
                          "color": "#f2f5fa"
                        },
                        "error_y": {
                          "color": "#f2f5fa"
                        },
                        "marker": {
                          "line": {
                            "color": "rgb(17,17,17)",
                            "width": 0.5
                          },
                          "pattern": {
                            "fillmode": "overlay",
                            "size": 10,
                            "solidity": 0.2
                          }
                        },
                        "type": "bar"
                      }
                    ],
                    "barpolar": [
                      {
                        "marker": {
                          "line": {
                            "color": "rgb(17,17,17)",
                            "width": 0.5
                          },
                          "pattern": {
                            "fillmode": "overlay",
                            "size": 10,
                            "solidity": 0.2
                          }
                        },
                        "type": "barpolar"
                      }
                    ],
                    "carpet": [
                      {
                        "aaxis": {
                          "endlinecolor": "#A2B1C6",
                          "gridcolor": "#506784",
                          "linecolor": "#506784",
                          "minorgridcolor": "#506784",
                          "startlinecolor": "#A2B1C6"
                        },
                        "baxis": {
                          "endlinecolor": "#A2B1C6",
                          "gridcolor": "#506784",
                          "linecolor": "#506784",
                          "minorgridcolor": "#506784",
                          "startlinecolor": "#A2B1C6"
                        },
                        "type": "carpet"
                      }
                    ],
                    "choropleth": [
                      {
                        "colorbar": {
                          "outlinewidth": 0,
                          "ticks": ""
                        },
                        "type": "choropleth"
                      }
                    ],
                    "contour": [
                      {
                        "colorbar": {
                          "outlinewidth": 0,
                          "ticks": ""
                        },
                        "colorscale": [
                          [
                            0,
                            "#0d0887"
                          ],
                          [
                            0.1111111111111111,
                            "#46039f"
                          ],
                          [
                            0.2222222222222222,
                            "#7201a8"
                          ],
                          [
                            0.3333333333333333,
                            "#9c179e"
                          ],
                          [
                            0.4444444444444444,
                            "#bd3786"
                          ],
                          [
                            0.5555555555555556,
                            "#d8576b"
                          ],
                          [
                            0.6666666666666666,
                            "#ed7953"
                          ],
                          [
                            0.7777777777777778,
                            "#fb9f3a"
                          ],
                          [
                            0.8888888888888888,
                            "#fdca26"
                          ],
                          [
                            1,
                            "#f0f921"
                          ]
                        ],
                        "type": "contour"
                      }
                    ],
                    "contourcarpet": [
                      {
                        "colorbar": {
                          "outlinewidth": 0,
                          "ticks": ""
                        },
                        "type": "contourcarpet"
                      }
                    ],
                    "heatmap": [
                      {
                        "colorbar": {
                          "outlinewidth": 0,
                          "ticks": ""
                        },
                        "colorscale": [
                          [
                            0,
                            "#0d0887"
                          ],
                          [
                            0.1111111111111111,
                            "#46039f"
                          ],
                          [
                            0.2222222222222222,
                            "#7201a8"
                          ],
                          [
                            0.3333333333333333,
                            "#9c179e"
                          ],
                          [
                            0.4444444444444444,
                            "#bd3786"
                          ],
                          [
                            0.5555555555555556,
                            "#d8576b"
                          ],
                          [
                            0.6666666666666666,
                            "#ed7953"
                          ],
                          [
                            0.7777777777777778,
                            "#fb9f3a"
                          ],
                          [
                            0.8888888888888888,
                            "#fdca26"
                          ],
                          [
                            1,
                            "#f0f921"
                          ]
                        ],
                        "type": "heatmap"
                      }
                    ],
                    "heatmapgl": [
                      {
                        "colorbar": {
                          "outlinewidth": 0,
                          "ticks": ""
                        },
                        "colorscale": [
                          [
                            0,
                            "#0d0887"
                          ],
                          [
                            0.1111111111111111,
                            "#46039f"
                          ],
                          [
                            0.2222222222222222,
                            "#7201a8"
                          ],
                          [
                            0.3333333333333333,
                            "#9c179e"
                          ],
                          [
                            0.4444444444444444,
                            "#bd3786"
                          ],
                          [
                            0.5555555555555556,
                            "#d8576b"
                          ],
                          [
                            0.6666666666666666,
                            "#ed7953"
                          ],
                          [
                            0.7777777777777778,
                            "#fb9f3a"
                          ],
                          [
                            0.8888888888888888,
                            "#fdca26"
                          ],
                          [
                            1,
                            "#f0f921"
                          ]
                        ],
                        "type": "heatmapgl"
                      }
                    ],
                    "histogram": [
                      {
                        "marker": {
                          "pattern": {
                            "fillmode": "overlay",
                            "size": 10,
                            "solidity": 0.2
                          }
                        },
                        "type": "histogram"
                      }
                    ],
                    "histogram2d": [
                      {
                        "colorbar": {
                          "outlinewidth": 0,
                          "ticks": ""
                        },
                        "colorscale": [
                          [
                            0,
                            "#0d0887"
                          ],
                          [
                            0.1111111111111111,
                            "#46039f"
                          ],
                          [
                            0.2222222222222222,
                            "#7201a8"
                          ],
                          [
                            0.3333333333333333,
                            "#9c179e"
                          ],
                          [
                            0.4444444444444444,
                            "#bd3786"
                          ],
                          [
                            0.5555555555555556,
                            "#d8576b"
                          ],
                          [
                            0.6666666666666666,
                            "#ed7953"
                          ],
                          [
                            0.7777777777777778,
                            "#fb9f3a"
                          ],
                          [
                            0.8888888888888888,
                            "#fdca26"
                          ],
                          [
                            1,
                            "#f0f921"
                          ]
                        ],
                        "type": "histogram2d"
                      }
                    ],
                    "histogram2dcontour": [
                      {
                        "colorbar": {
                          "outlinewidth": 0,
                          "ticks": ""
                        },
                        "colorscale": [
                          [
                            0,
                            "#0d0887"
                          ],
                          [
                            0.1111111111111111,
                            "#46039f"
                          ],
                          [
                            0.2222222222222222,
                            "#7201a8"
                          ],
                          [
                            0.3333333333333333,
                            "#9c179e"
                          ],
                          [
                            0.4444444444444444,
                            "#bd3786"
                          ],
                          [
                            0.5555555555555556,
                            "#d8576b"
                          ],
                          [
                            0.6666666666666666,
                            "#ed7953"
                          ],
                          [
                            0.7777777777777778,
                            "#fb9f3a"
                          ],
                          [
                            0.8888888888888888,
                            "#fdca26"
                          ],
                          [
                            1,
                            "#f0f921"
                          ]
                        ],
                        "type": "histogram2dcontour"
                      }
                    ],
                    "mesh3d": [
                      {
                        "colorbar": {
                          "outlinewidth": 0,
                          "ticks": ""
                        },
                        "type": "mesh3d"
                      }
                    ],
                    "parcoords": [
                      {
                        "line": {
                          "colorbar": {
                            "outlinewidth": 0,
                            "ticks": ""
                          }
                        },
                        "type": "parcoords"
                      }
                    ],
                    "pie": [
                      {
                        "automargin": true,
                        "type": "pie"
                      }
                    ],
                    "scatter": [
                      {
                        "marker": {
                          "line": {
                            "color": "#283442"
                          }
                        },
                        "type": "scatter"
                      }
                    ],
                    "scatter3d": [
                      {
                        "line": {
                          "colorbar": {
                            "outlinewidth": 0,
                            "ticks": ""
                          }
                        },
                        "marker": {
                          "colorbar": {
                            "outlinewidth": 0,
                            "ticks": ""
                          }
                        },
                        "type": "scatter3d"
                      }
                    ],
                    "scattercarpet": [
                      {
                        "marker": {
                          "colorbar": {
                            "outlinewidth": 0,
                            "ticks": ""
                          }
                        },
                        "type": "scattercarpet"
                      }
                    ],
                    "scattergeo": [
                      {
                        "marker": {
                          "colorbar": {
                            "outlinewidth": 0,
                            "ticks": ""
                          }
                        },
                        "type": "scattergeo"
                      }
                    ],
                    "scattergl": [
                      {
                        "marker": {
                          "line": {
                            "color": "#283442"
                          }
                        },
                        "type": "scattergl"
                      }
                    ],
                    "scattermapbox": [
                      {
                        "marker": {
                          "colorbar": {
                            "outlinewidth": 0,
                            "ticks": ""
                          }
                        },
                        "type": "scattermapbox"
                      }
                    ],
                    "scatterpolar": [
                      {
                        "marker": {
                          "colorbar": {
                            "outlinewidth": 0,
                            "ticks": ""
                          }
                        },
                        "type": "scatterpolar"
                      }
                    ],
                    "scatterpolargl": [
                      {
                        "marker": {
                          "colorbar": {
                            "outlinewidth": 0,
                            "ticks": ""
                          }
                        },
                        "type": "scatterpolargl"
                      }
                    ],
                    "scatterternary": [
                      {
                        "marker": {
                          "colorbar": {
                            "outlinewidth": 0,
                            "ticks": ""
                          }
                        },
                        "type": "scatterternary"
                      }
                    ],
                    "surface": [
                      {
                        "colorbar": {
                          "outlinewidth": 0,
                          "ticks": ""
                        },
                        "colorscale": [
                          [
                            0,
                            "#0d0887"
                          ],
                          [
                            0.1111111111111111,
                            "#46039f"
                          ],
                          [
                            0.2222222222222222,
                            "#7201a8"
                          ],
                          [
                            0.3333333333333333,
                            "#9c179e"
                          ],
                          [
                            0.4444444444444444,
                            "#bd3786"
                          ],
                          [
                            0.5555555555555556,
                            "#d8576b"
                          ],
                          [
                            0.6666666666666666,
                            "#ed7953"
                          ],
                          [
                            0.7777777777777778,
                            "#fb9f3a"
                          ],
                          [
                            0.8888888888888888,
                            "#fdca26"
                          ],
                          [
                            1,
                            "#f0f921"
                          ]
                        ],
                        "type": "surface"
                      }
                    ],
                    "table": [
                      {
                        "cells": {
                          "fill": {
                            "color": "#506784"
                          },
                          "line": {
                            "color": "rgb(17,17,17)"
                          }
                        },
                        "header": {
                          "fill": {
                            "color": "#2a3f5f"
                          },
                          "line": {
                            "color": "rgb(17,17,17)"
                          }
                        },
                        "type": "table"
                      }
                    ]
                  },
                  "layout": {
                    "annotationdefaults": {
                      "arrowcolor": "#f2f5fa",
                      "arrowhead": 0,
                      "arrowwidth": 1
                    },
                    "autotypenumbers": "strict",
                    "coloraxis": {
                      "colorbar": {
                        "outlinewidth": 0,
                        "ticks": ""
                      }
                    },
                    "colorscale": {
                      "diverging": [
                        [
                          0,
                          "#8e0152"
                        ],
                        [
                          0.1,
                          "#c51b7d"
                        ],
                        [
                          0.2,
                          "#de77ae"
                        ],
                        [
                          0.3,
                          "#f1b6da"
                        ],
                        [
                          0.4,
                          "#fde0ef"
                        ],
                        [
                          0.5,
                          "#f7f7f7"
                        ],
                        [
                          0.6,
                          "#e6f5d0"
                        ],
                        [
                          0.7,
                          "#b8e186"
                        ],
                        [
                          0.8,
                          "#7fbc41"
                        ],
                        [
                          0.9,
                          "#4d9221"
                        ],
                        [
                          1,
                          "#276419"
                        ]
                      ],
                      "sequential": [
                        [
                          0,
                          "#0d0887"
                        ],
                        [
                          0.1111111111111111,
                          "#46039f"
                        ],
                        [
                          0.2222222222222222,
                          "#7201a8"
                        ],
                        [
                          0.3333333333333333,
                          "#9c179e"
                        ],
                        [
                          0.4444444444444444,
                          "#bd3786"
                        ],
                        [
                          0.5555555555555556,
                          "#d8576b"
                        ],
                        [
                          0.6666666666666666,
                          "#ed7953"
                        ],
                        [
                          0.7777777777777778,
                          "#fb9f3a"
                        ],
                        [
                          0.8888888888888888,
                          "#fdca26"
                        ],
                        [
                          1,
                          "#f0f921"
                        ]
                      ],
                      "sequentialminus": [
                        [
                          0,
                          "#0d0887"
                        ],
                        [
                          0.1111111111111111,
                          "#46039f"
                        ],
                        [
                          0.2222222222222222,
                          "#7201a8"
                        ],
                        [
                          0.3333333333333333,
                          "#9c179e"
                        ],
                        [
                          0.4444444444444444,
                          "#bd3786"
                        ],
                        [
                          0.5555555555555556,
                          "#d8576b"
                        ],
                        [
                          0.6666666666666666,
                          "#ed7953"
                        ],
                        [
                          0.7777777777777778,
                          "#fb9f3a"
                        ],
                        [
                          0.8888888888888888,
                          "#fdca26"
                        ],
                        [
                          1,
                          "#f0f921"
                        ]
                      ]
                    },
                    "colorway": [
                      "#636efa",
                      "#EF553B",
                      "#00cc96",
                      "#ab63fa",
                      "#FFA15A",
                      "#19d3f3",
                      "#FF6692",
                      "#B6E880",
                      "#FF97FF",
                      "#FECB52"
                    ],
                    "font": {
                      "color": "#f2f5fa"
                    },
                    "geo": {
                      "bgcolor": "rgb(17,17,17)",
                      "lakecolor": "rgb(17,17,17)",
                      "landcolor": "rgb(17,17,17)",
                      "showlakes": true,
                      "showland": true,
                      "subunitcolor": "#506784"
                    },
                    "hoverlabel": {
                      "align": "left"
                    },
                    "hovermode": "closest",
                    "mapbox": {
                      "style": "dark"
                    },
                    "paper_bgcolor": "rgb(17,17,17)",
                    "plot_bgcolor": "rgb(17,17,17)",
                    "polar": {
                      "angularaxis": {
                        "gridcolor": "#506784",
                        "linecolor": "#506784",
                        "ticks": ""
                      },
                      "bgcolor": "rgb(17,17,17)",
                      "radialaxis": {
                        "gridcolor": "#506784",
                        "linecolor": "#506784",
                        "ticks": ""
                      }
                    },
                    "scene": {
                      "xaxis": {
                        "backgroundcolor": "rgb(17,17,17)",
                        "gridcolor": "#506784",
                        "gridwidth": 2,
                        "linecolor": "#506784",
                        "showbackground": true,
                        "ticks": "",
                        "zerolinecolor": "#C8D4E3"
                      },
                      "yaxis": {
                        "backgroundcolor": "rgb(17,17,17)",
                        "gridcolor": "#506784",
                        "gridwidth": 2,
                        "linecolor": "#506784",
                        "showbackground": true,
                        "ticks": "",
                        "zerolinecolor": "#C8D4E3"
                      },
                      "zaxis": {
                        "backgroundcolor": "rgb(17,17,17)",
                        "gridcolor": "#506784",
                        "gridwidth": 2,
                        "linecolor": "#506784",
                        "showbackground": true,
                        "ticks": "",
                        "zerolinecolor": "#C8D4E3"
                      }
                    },
                    "shapedefaults": {
                      "line": {
                        "color": "#f2f5fa"
                      }
                    },
                    "sliderdefaults": {
                      "bgcolor": "#C8D4E3",
                      "bordercolor": "rgb(17,17,17)",
                      "borderwidth": 1,
                      "tickwidth": 0
                    },
                    "ternary": {
                      "aaxis": {
                        "gridcolor": "#506784",
                        "linecolor": "#506784",
                        "ticks": ""
                      },
                      "baxis": {
                        "gridcolor": "#506784",
                        "linecolor": "#506784",
                        "ticks": ""
                      },
                      "bgcolor": "rgb(17,17,17)",
                      "caxis": {
                        "gridcolor": "#506784",
                        "linecolor": "#506784",
                        "ticks": ""
                      }
                    },
                    "title": {
                      "x": 0.05
                    },
                    "updatemenudefaults": {
                      "bgcolor": "#506784",
                      "borderwidth": 0
                    },
                    "xaxis": {
                      "automargin": true,
                      "gridcolor": "#283442",
                      "linecolor": "#506784",
                      "ticks": "",
                      "title": {
                        "standoff": 15
                      },
                      "zerolinecolor": "#283442",
                      "zerolinewidth": 2
                    },
                    "yaxis": {
                      "automargin": true,
                      "gridcolor": "#283442",
                      "linecolor": "#506784",
                      "ticks": "",
                      "title": {
                        "standoff": 15
                      },
                      "zerolinecolor": "#283442",
                      "zerolinewidth": 2
                    }
                  }
                },
                "title": {
                  "font": {
                    "size": 30
                  },
                  "text": "Incremento anual desmatamento"
                },
                "width": 600,
                "xaxis": {
                  "anchor": "y",
                  "domain": [
                    0,
                    1
                  ],
                  "title": {
                    "font": {
                      "size": 15
                    },
                    "text": "Anos"
                  }
                },
                "yaxis": {
                  "anchor": "x",
                  "domain": [
                    0,
                    1
                  ],
                  "title": {
                    "font": {
                      "size": 15
                    },
                    "text": "Variação Percentual Area Acumulada"
                  }
                }
              }
            }
          },
          "metadata": {},
          "output_type": "display_data"
        }
      ],
      "source": [
        "#Mesma Lógica\n",
        "fig = px.line(data_frame=dados, x= dados[\"Year\"], y = dados[\"Variação Percentual Area Acumulada\"], color_discrete_sequence=[\"green\"], title=\"Incremento anual desmatamento\", width= 600, height= 400, template=\"plotly_dark\")\n",
        "fig.update_layout(title_font_size = 30)\n",
        "fig.update_xaxes(title_text = \"Anos\")\n",
        "fig.update_xaxes(title_font_size = 15)\n",
        "fig.update_yaxes(title_font_size = 15)\n",
        "fig.show()"
      ]
    },
    {
      "cell_type": "markdown",
      "metadata": {
        "id": "Vo0uAkTkkbT6"
      },
      "source": [
        "## A Emissão de Carbono\n",
        "#### Como os dados começaram a serem contabilizados no ano de 1980 a emissão de carbono em toneladas é alta mas posteriormente foi diminuindo. Devido a política realizada pelo governo Lula, o carbono emitido por queimadas teve uma diminuição nos anos seguintes devido a fiscalização realizada entretanto, no governo bolsonaro, voltou a subir chegando a um aumento de 25% nas emissões em comparação a 2018, o que novamente confirma um afrouxamento na política de desmatamento."
      ]
    },
    {
      "cell_type": "code",
      "execution_count": 11,
      "metadata": {
        "id": "4oV_NM5ZkbT7",
        "outputId": "c4d54f72-8a7c-40fc-ae72-5b2eefe6a4bf"
      },
      "outputs": [],
      "source": [
        "#Somando a quantidade de carbono emitida em primeira e segunda ordem e calculando a variação percentual usando a função pct_change\n",
        "\n",
        "dados[\"Emissão de Carbono Total\"] = (dados[\"VR_CO2_1stOrder\"]+dados[\"VR_CO2_2ndOrder\"]).pct_change()*100"
      ]
    },
    {
      "cell_type": "code",
      "execution_count": 12,
      "metadata": {
        "id": "B7M4rHXgEt_3"
      },
      "outputs": [],
      "source": [
        "dados[\"Emissão por desmatamento\"] = dados[\"VR_CO2_2ndOrderFire\"].pct_change()*100"
      ]
    },
    {
      "cell_type": "code",
      "execution_count": 13,
      "metadata": {
        "id": "Qu4NLXMtkbT7",
        "outputId": "0c7fb1f5-543f-41a5-b7d0-a47b6cbaec2a"
      },
      "outputs": [
        {
          "data": {
            "application/vnd.plotly.v1+json": {
              "config": {
                "plotlyServerURL": "https://plot.ly"
              },
              "data": [
                {
                  "hovertemplate": "variable=Emissão por desmatamento<br>Year=%{x}<br>value=%{y}<extra></extra>",
                  "legendgroup": "Emissão por desmatamento",
                  "line": {
                    "color": "red",
                    "dash": "solid"
                  },
                  "marker": {
                    "symbol": "circle"
                  },
                  "mode": "lines",
                  "name": "Emissão por desmatamento",
                  "orientation": "v",
                  "showlegend": true,
                  "type": "scatter",
                  "x": [
                    1960,
                    1961,
                    1962,
                    1963,
                    1964,
                    1965,
                    1966,
                    1967,
                    1968,
                    1969,
                    1970,
                    1971,
                    1972,
                    1973,
                    1974,
                    1975,
                    1976,
                    1977,
                    1978,
                    1979,
                    1980,
                    1981,
                    1982,
                    1983,
                    1984,
                    1985,
                    1986,
                    1987,
                    1988,
                    1989,
                    1990,
                    1991,
                    1992,
                    1993,
                    1994,
                    1995,
                    1996,
                    1997,
                    1998,
                    1999,
                    2000,
                    2001,
                    2002,
                    2003,
                    2004,
                    2005,
                    2006,
                    2007,
                    2008,
                    2009,
                    2010,
                    2011,
                    2012,
                    2013,
                    2014,
                    2015,
                    2016,
                    2017,
                    2018,
                    2019,
                    2020
                  ],
                  "xaxis": "x",
                  "y": [
                    null,
                    0,
                    0,
                    0,
                    0,
                    0,
                    0,
                    0,
                    0,
                    0,
                    0,
                    0,
                    0,
                    0,
                    0,
                    0,
                    0,
                    0,
                    0,
                    155.03355704697987,
                    0,
                    -2.1052631578947323,
                    0,
                    0,
                    0,
                    0,
                    0,
                    0,
                    0,
                    -15.591397849462362,
                    -22.92993630573248,
                    -19.42148760330579,
                    24.615384615384617,
                    8.230452674897126,
                    0,
                    95.43726235741445,
                    -37.54863813229572,
                    -27.41433021806854,
                    31.759656652360512,
                    -0.6514657980456029,
                    5.573770491803276,
                    -0.31055900621117516,
                    12.772585669781922,
                    19.33701657458564,
                    8.564814814814813,
                    -31.769722814498934,
                    -23.124999999999996,
                    -16.260162601626014,
                    11.165048543689316,
                    -38.427947598253276,
                    -4.964539007092195,
                    -10.447761194029848,
                    -31.666666666666664,
                    30.487804878048784,
                    -14.953271028037385,
                    21.97802197802199,
                    30.630630630630627,
                    -11.724137931034484,
                    8.59375,
                    35.97122302158273,
                    8.994708994709
                  ],
                  "yaxis": "y"
                },
                {
                  "hovertemplate": "variable=Emissão de Carbono Total<br>Year=%{x}<br>value=%{y}<extra></extra>",
                  "legendgroup": "Emissão de Carbono Total",
                  "line": {
                    "color": "orange",
                    "dash": "solid"
                  },
                  "marker": {
                    "symbol": "circle"
                  },
                  "mode": "lines",
                  "name": "Emissão de Carbono Total",
                  "orientation": "v",
                  "showlegend": true,
                  "type": "scatter",
                  "x": [
                    1960,
                    1961,
                    1962,
                    1963,
                    1964,
                    1965,
                    1966,
                    1967,
                    1968,
                    1969,
                    1970,
                    1971,
                    1972,
                    1973,
                    1974,
                    1975,
                    1976,
                    1977,
                    1978,
                    1979,
                    1980,
                    1981,
                    1982,
                    1983,
                    1984,
                    1985,
                    1986,
                    1987,
                    1988,
                    1989,
                    1990,
                    1991,
                    1992,
                    1993,
                    1994,
                    1995,
                    1996,
                    1997,
                    1998,
                    1999,
                    2000,
                    2001,
                    2002,
                    2003,
                    2004,
                    2005,
                    2006,
                    2007,
                    2008,
                    2009,
                    2010,
                    2011,
                    2012,
                    2013,
                    2014,
                    2015,
                    2016,
                    2017,
                    2018,
                    2019,
                    2020
                  ],
                  "xaxis": "x",
                  "y": [
                    null,
                    16.11842105263157,
                    8.78186968838528,
                    4.947916666666674,
                    3.2258064516129004,
                    2.043269230769229,
                    1.4134275618374659,
                    1.0452961672473782,
                    0.6896551724137945,
                    0.5707762557077611,
                    0.4540295119182858,
                    0.3389830508474523,
                    0.22522522522523403,
                    0.22471910112360494,
                    0.22421524663676085,
                    0.22371364653244186,
                    0.11160714285713969,
                    0.11148272017837968,
                    0.11135857461024301,
                    105.22803114571748,
                    8.346883468834697,
                    3.101550775387696,
                    2.7171276079573037,
                    1.7477562588568807,
                    1.160631383472599,
                    0.8260670032124828,
                    0.591715976331364,
                    0.40723981900452344,
                    0.3605227579990933,
                    -10.37269869779973,
                    -16.28256513026052,
                    -15.679233991621789,
                    8.942512420156135,
                    4.364820846905548,
                    0.24968789013732895,
                    63.82316313823164,
                    -23.56518434055492,
                    -18.945798110392843,
                    13.987730061349701,
                    -0.16146393972013007,
                    3.827493261455528,
                    0.41536863966771254,
                    7.8593588417787075,
                    13.854266538830306,
                    8.294736842105266,
                    -21.461897356143076,
                    -16.683168316831686,
                    -13.428401663695777,
                    1.5099519560741292,
                    -25.5578093306288,
                    -9.173478655767486,
                    -10.7,
                    -22.73236282194849,
                    6.376811594202891,
                    -11.580381471389645,
                    9.090909090909083,
                    18.926553672316395,
                    -6.175771971496435,
                    5.443037974683551,
                    25.450180072028814,
                    10.047846889952151
                  ],
                  "yaxis": "y"
                }
              ],
              "layout": {
                "legend": {
                  "title": {
                    "text": "Emissão de Carbono"
                  },
                  "tracegroupgap": 0
                },
                "template": {
                  "data": {
                    "bar": [
                      {
                        "error_x": {
                          "color": "#f2f5fa"
                        },
                        "error_y": {
                          "color": "#f2f5fa"
                        },
                        "marker": {
                          "line": {
                            "color": "rgb(17,17,17)",
                            "width": 0.5
                          },
                          "pattern": {
                            "fillmode": "overlay",
                            "size": 10,
                            "solidity": 0.2
                          }
                        },
                        "type": "bar"
                      }
                    ],
                    "barpolar": [
                      {
                        "marker": {
                          "line": {
                            "color": "rgb(17,17,17)",
                            "width": 0.5
                          },
                          "pattern": {
                            "fillmode": "overlay",
                            "size": 10,
                            "solidity": 0.2
                          }
                        },
                        "type": "barpolar"
                      }
                    ],
                    "carpet": [
                      {
                        "aaxis": {
                          "endlinecolor": "#A2B1C6",
                          "gridcolor": "#506784",
                          "linecolor": "#506784",
                          "minorgridcolor": "#506784",
                          "startlinecolor": "#A2B1C6"
                        },
                        "baxis": {
                          "endlinecolor": "#A2B1C6",
                          "gridcolor": "#506784",
                          "linecolor": "#506784",
                          "minorgridcolor": "#506784",
                          "startlinecolor": "#A2B1C6"
                        },
                        "type": "carpet"
                      }
                    ],
                    "choropleth": [
                      {
                        "colorbar": {
                          "outlinewidth": 0,
                          "ticks": ""
                        },
                        "type": "choropleth"
                      }
                    ],
                    "contour": [
                      {
                        "colorbar": {
                          "outlinewidth": 0,
                          "ticks": ""
                        },
                        "colorscale": [
                          [
                            0,
                            "#0d0887"
                          ],
                          [
                            0.1111111111111111,
                            "#46039f"
                          ],
                          [
                            0.2222222222222222,
                            "#7201a8"
                          ],
                          [
                            0.3333333333333333,
                            "#9c179e"
                          ],
                          [
                            0.4444444444444444,
                            "#bd3786"
                          ],
                          [
                            0.5555555555555556,
                            "#d8576b"
                          ],
                          [
                            0.6666666666666666,
                            "#ed7953"
                          ],
                          [
                            0.7777777777777778,
                            "#fb9f3a"
                          ],
                          [
                            0.8888888888888888,
                            "#fdca26"
                          ],
                          [
                            1,
                            "#f0f921"
                          ]
                        ],
                        "type": "contour"
                      }
                    ],
                    "contourcarpet": [
                      {
                        "colorbar": {
                          "outlinewidth": 0,
                          "ticks": ""
                        },
                        "type": "contourcarpet"
                      }
                    ],
                    "heatmap": [
                      {
                        "colorbar": {
                          "outlinewidth": 0,
                          "ticks": ""
                        },
                        "colorscale": [
                          [
                            0,
                            "#0d0887"
                          ],
                          [
                            0.1111111111111111,
                            "#46039f"
                          ],
                          [
                            0.2222222222222222,
                            "#7201a8"
                          ],
                          [
                            0.3333333333333333,
                            "#9c179e"
                          ],
                          [
                            0.4444444444444444,
                            "#bd3786"
                          ],
                          [
                            0.5555555555555556,
                            "#d8576b"
                          ],
                          [
                            0.6666666666666666,
                            "#ed7953"
                          ],
                          [
                            0.7777777777777778,
                            "#fb9f3a"
                          ],
                          [
                            0.8888888888888888,
                            "#fdca26"
                          ],
                          [
                            1,
                            "#f0f921"
                          ]
                        ],
                        "type": "heatmap"
                      }
                    ],
                    "heatmapgl": [
                      {
                        "colorbar": {
                          "outlinewidth": 0,
                          "ticks": ""
                        },
                        "colorscale": [
                          [
                            0,
                            "#0d0887"
                          ],
                          [
                            0.1111111111111111,
                            "#46039f"
                          ],
                          [
                            0.2222222222222222,
                            "#7201a8"
                          ],
                          [
                            0.3333333333333333,
                            "#9c179e"
                          ],
                          [
                            0.4444444444444444,
                            "#bd3786"
                          ],
                          [
                            0.5555555555555556,
                            "#d8576b"
                          ],
                          [
                            0.6666666666666666,
                            "#ed7953"
                          ],
                          [
                            0.7777777777777778,
                            "#fb9f3a"
                          ],
                          [
                            0.8888888888888888,
                            "#fdca26"
                          ],
                          [
                            1,
                            "#f0f921"
                          ]
                        ],
                        "type": "heatmapgl"
                      }
                    ],
                    "histogram": [
                      {
                        "marker": {
                          "pattern": {
                            "fillmode": "overlay",
                            "size": 10,
                            "solidity": 0.2
                          }
                        },
                        "type": "histogram"
                      }
                    ],
                    "histogram2d": [
                      {
                        "colorbar": {
                          "outlinewidth": 0,
                          "ticks": ""
                        },
                        "colorscale": [
                          [
                            0,
                            "#0d0887"
                          ],
                          [
                            0.1111111111111111,
                            "#46039f"
                          ],
                          [
                            0.2222222222222222,
                            "#7201a8"
                          ],
                          [
                            0.3333333333333333,
                            "#9c179e"
                          ],
                          [
                            0.4444444444444444,
                            "#bd3786"
                          ],
                          [
                            0.5555555555555556,
                            "#d8576b"
                          ],
                          [
                            0.6666666666666666,
                            "#ed7953"
                          ],
                          [
                            0.7777777777777778,
                            "#fb9f3a"
                          ],
                          [
                            0.8888888888888888,
                            "#fdca26"
                          ],
                          [
                            1,
                            "#f0f921"
                          ]
                        ],
                        "type": "histogram2d"
                      }
                    ],
                    "histogram2dcontour": [
                      {
                        "colorbar": {
                          "outlinewidth": 0,
                          "ticks": ""
                        },
                        "colorscale": [
                          [
                            0,
                            "#0d0887"
                          ],
                          [
                            0.1111111111111111,
                            "#46039f"
                          ],
                          [
                            0.2222222222222222,
                            "#7201a8"
                          ],
                          [
                            0.3333333333333333,
                            "#9c179e"
                          ],
                          [
                            0.4444444444444444,
                            "#bd3786"
                          ],
                          [
                            0.5555555555555556,
                            "#d8576b"
                          ],
                          [
                            0.6666666666666666,
                            "#ed7953"
                          ],
                          [
                            0.7777777777777778,
                            "#fb9f3a"
                          ],
                          [
                            0.8888888888888888,
                            "#fdca26"
                          ],
                          [
                            1,
                            "#f0f921"
                          ]
                        ],
                        "type": "histogram2dcontour"
                      }
                    ],
                    "mesh3d": [
                      {
                        "colorbar": {
                          "outlinewidth": 0,
                          "ticks": ""
                        },
                        "type": "mesh3d"
                      }
                    ],
                    "parcoords": [
                      {
                        "line": {
                          "colorbar": {
                            "outlinewidth": 0,
                            "ticks": ""
                          }
                        },
                        "type": "parcoords"
                      }
                    ],
                    "pie": [
                      {
                        "automargin": true,
                        "type": "pie"
                      }
                    ],
                    "scatter": [
                      {
                        "marker": {
                          "line": {
                            "color": "#283442"
                          }
                        },
                        "type": "scatter"
                      }
                    ],
                    "scatter3d": [
                      {
                        "line": {
                          "colorbar": {
                            "outlinewidth": 0,
                            "ticks": ""
                          }
                        },
                        "marker": {
                          "colorbar": {
                            "outlinewidth": 0,
                            "ticks": ""
                          }
                        },
                        "type": "scatter3d"
                      }
                    ],
                    "scattercarpet": [
                      {
                        "marker": {
                          "colorbar": {
                            "outlinewidth": 0,
                            "ticks": ""
                          }
                        },
                        "type": "scattercarpet"
                      }
                    ],
                    "scattergeo": [
                      {
                        "marker": {
                          "colorbar": {
                            "outlinewidth": 0,
                            "ticks": ""
                          }
                        },
                        "type": "scattergeo"
                      }
                    ],
                    "scattergl": [
                      {
                        "marker": {
                          "line": {
                            "color": "#283442"
                          }
                        },
                        "type": "scattergl"
                      }
                    ],
                    "scattermapbox": [
                      {
                        "marker": {
                          "colorbar": {
                            "outlinewidth": 0,
                            "ticks": ""
                          }
                        },
                        "type": "scattermapbox"
                      }
                    ],
                    "scatterpolar": [
                      {
                        "marker": {
                          "colorbar": {
                            "outlinewidth": 0,
                            "ticks": ""
                          }
                        },
                        "type": "scatterpolar"
                      }
                    ],
                    "scatterpolargl": [
                      {
                        "marker": {
                          "colorbar": {
                            "outlinewidth": 0,
                            "ticks": ""
                          }
                        },
                        "type": "scatterpolargl"
                      }
                    ],
                    "scatterternary": [
                      {
                        "marker": {
                          "colorbar": {
                            "outlinewidth": 0,
                            "ticks": ""
                          }
                        },
                        "type": "scatterternary"
                      }
                    ],
                    "surface": [
                      {
                        "colorbar": {
                          "outlinewidth": 0,
                          "ticks": ""
                        },
                        "colorscale": [
                          [
                            0,
                            "#0d0887"
                          ],
                          [
                            0.1111111111111111,
                            "#46039f"
                          ],
                          [
                            0.2222222222222222,
                            "#7201a8"
                          ],
                          [
                            0.3333333333333333,
                            "#9c179e"
                          ],
                          [
                            0.4444444444444444,
                            "#bd3786"
                          ],
                          [
                            0.5555555555555556,
                            "#d8576b"
                          ],
                          [
                            0.6666666666666666,
                            "#ed7953"
                          ],
                          [
                            0.7777777777777778,
                            "#fb9f3a"
                          ],
                          [
                            0.8888888888888888,
                            "#fdca26"
                          ],
                          [
                            1,
                            "#f0f921"
                          ]
                        ],
                        "type": "surface"
                      }
                    ],
                    "table": [
                      {
                        "cells": {
                          "fill": {
                            "color": "#506784"
                          },
                          "line": {
                            "color": "rgb(17,17,17)"
                          }
                        },
                        "header": {
                          "fill": {
                            "color": "#2a3f5f"
                          },
                          "line": {
                            "color": "rgb(17,17,17)"
                          }
                        },
                        "type": "table"
                      }
                    ]
                  },
                  "layout": {
                    "annotationdefaults": {
                      "arrowcolor": "#f2f5fa",
                      "arrowhead": 0,
                      "arrowwidth": 1
                    },
                    "autotypenumbers": "strict",
                    "coloraxis": {
                      "colorbar": {
                        "outlinewidth": 0,
                        "ticks": ""
                      }
                    },
                    "colorscale": {
                      "diverging": [
                        [
                          0,
                          "#8e0152"
                        ],
                        [
                          0.1,
                          "#c51b7d"
                        ],
                        [
                          0.2,
                          "#de77ae"
                        ],
                        [
                          0.3,
                          "#f1b6da"
                        ],
                        [
                          0.4,
                          "#fde0ef"
                        ],
                        [
                          0.5,
                          "#f7f7f7"
                        ],
                        [
                          0.6,
                          "#e6f5d0"
                        ],
                        [
                          0.7,
                          "#b8e186"
                        ],
                        [
                          0.8,
                          "#7fbc41"
                        ],
                        [
                          0.9,
                          "#4d9221"
                        ],
                        [
                          1,
                          "#276419"
                        ]
                      ],
                      "sequential": [
                        [
                          0,
                          "#0d0887"
                        ],
                        [
                          0.1111111111111111,
                          "#46039f"
                        ],
                        [
                          0.2222222222222222,
                          "#7201a8"
                        ],
                        [
                          0.3333333333333333,
                          "#9c179e"
                        ],
                        [
                          0.4444444444444444,
                          "#bd3786"
                        ],
                        [
                          0.5555555555555556,
                          "#d8576b"
                        ],
                        [
                          0.6666666666666666,
                          "#ed7953"
                        ],
                        [
                          0.7777777777777778,
                          "#fb9f3a"
                        ],
                        [
                          0.8888888888888888,
                          "#fdca26"
                        ],
                        [
                          1,
                          "#f0f921"
                        ]
                      ],
                      "sequentialminus": [
                        [
                          0,
                          "#0d0887"
                        ],
                        [
                          0.1111111111111111,
                          "#46039f"
                        ],
                        [
                          0.2222222222222222,
                          "#7201a8"
                        ],
                        [
                          0.3333333333333333,
                          "#9c179e"
                        ],
                        [
                          0.4444444444444444,
                          "#bd3786"
                        ],
                        [
                          0.5555555555555556,
                          "#d8576b"
                        ],
                        [
                          0.6666666666666666,
                          "#ed7953"
                        ],
                        [
                          0.7777777777777778,
                          "#fb9f3a"
                        ],
                        [
                          0.8888888888888888,
                          "#fdca26"
                        ],
                        [
                          1,
                          "#f0f921"
                        ]
                      ]
                    },
                    "colorway": [
                      "#636efa",
                      "#EF553B",
                      "#00cc96",
                      "#ab63fa",
                      "#FFA15A",
                      "#19d3f3",
                      "#FF6692",
                      "#B6E880",
                      "#FF97FF",
                      "#FECB52"
                    ],
                    "font": {
                      "color": "#f2f5fa"
                    },
                    "geo": {
                      "bgcolor": "rgb(17,17,17)",
                      "lakecolor": "rgb(17,17,17)",
                      "landcolor": "rgb(17,17,17)",
                      "showlakes": true,
                      "showland": true,
                      "subunitcolor": "#506784"
                    },
                    "hoverlabel": {
                      "align": "left"
                    },
                    "hovermode": "closest",
                    "mapbox": {
                      "style": "dark"
                    },
                    "paper_bgcolor": "rgb(17,17,17)",
                    "plot_bgcolor": "rgb(17,17,17)",
                    "polar": {
                      "angularaxis": {
                        "gridcolor": "#506784",
                        "linecolor": "#506784",
                        "ticks": ""
                      },
                      "bgcolor": "rgb(17,17,17)",
                      "radialaxis": {
                        "gridcolor": "#506784",
                        "linecolor": "#506784",
                        "ticks": ""
                      }
                    },
                    "scene": {
                      "xaxis": {
                        "backgroundcolor": "rgb(17,17,17)",
                        "gridcolor": "#506784",
                        "gridwidth": 2,
                        "linecolor": "#506784",
                        "showbackground": true,
                        "ticks": "",
                        "zerolinecolor": "#C8D4E3"
                      },
                      "yaxis": {
                        "backgroundcolor": "rgb(17,17,17)",
                        "gridcolor": "#506784",
                        "gridwidth": 2,
                        "linecolor": "#506784",
                        "showbackground": true,
                        "ticks": "",
                        "zerolinecolor": "#C8D4E3"
                      },
                      "zaxis": {
                        "backgroundcolor": "rgb(17,17,17)",
                        "gridcolor": "#506784",
                        "gridwidth": 2,
                        "linecolor": "#506784",
                        "showbackground": true,
                        "ticks": "",
                        "zerolinecolor": "#C8D4E3"
                      }
                    },
                    "shapedefaults": {
                      "line": {
                        "color": "#f2f5fa"
                      }
                    },
                    "sliderdefaults": {
                      "bgcolor": "#C8D4E3",
                      "bordercolor": "rgb(17,17,17)",
                      "borderwidth": 1,
                      "tickwidth": 0
                    },
                    "ternary": {
                      "aaxis": {
                        "gridcolor": "#506784",
                        "linecolor": "#506784",
                        "ticks": ""
                      },
                      "baxis": {
                        "gridcolor": "#506784",
                        "linecolor": "#506784",
                        "ticks": ""
                      },
                      "bgcolor": "rgb(17,17,17)",
                      "caxis": {
                        "gridcolor": "#506784",
                        "linecolor": "#506784",
                        "ticks": ""
                      }
                    },
                    "title": {
                      "x": 0.05
                    },
                    "updatemenudefaults": {
                      "bgcolor": "#506784",
                      "borderwidth": 0
                    },
                    "xaxis": {
                      "automargin": true,
                      "gridcolor": "#283442",
                      "linecolor": "#506784",
                      "ticks": "",
                      "title": {
                        "standoff": 15
                      },
                      "zerolinecolor": "#283442",
                      "zerolinewidth": 2
                    },
                    "yaxis": {
                      "automargin": true,
                      "gridcolor": "#283442",
                      "linecolor": "#506784",
                      "ticks": "",
                      "title": {
                        "standoff": 15
                      },
                      "zerolinecolor": "#283442",
                      "zerolinewidth": 2
                    }
                  }
                },
                "title": {
                  "font": {
                    "size": 30
                  },
                  "text": "Emissão de Carbono na Amazônia (em MtonCo2/Ano)"
                },
                "xaxis": {
                  "anchor": "y",
                  "domain": [
                    0,
                    1
                  ],
                  "title": {
                    "font": {
                      "size": 15
                    },
                    "text": "Anos"
                  }
                },
                "yaxis": {
                  "anchor": "x",
                  "domain": [
                    0,
                    1
                  ],
                  "title": {
                    "font": {
                      "size": 15
                    },
                    "text": "Emissão de Carbono"
                  }
                }
              }
            }
          },
          "metadata": {},
          "output_type": "display_data"
        }
      ],
      "source": [
        "#Plotando o gráfico que compara quantidade total emitida de carbono com a quantidade de carbono emitida por desmatamento\n",
        "\n",
        "fig = px.line(data_frame= dados, x = dados[\"Year\"], y = [dados[\"Emissão por desmatamento\"], dados[\"Emissão de Carbono Total\"]], template= \"plotly_dark\", color_discrete_sequence= [\"red\", \"orange\"], labels={\"Emissão Total de Carbono\", \"Emissão por desmatamento\"}, title=\"Emissão de Carbono na Amazônia (em MtonCo2/Ano)\")\n",
        "fig.update_layout(title_font_size = 30)\n",
        "fig.update_xaxes(title_font_size = 15)\n",
        "fig.update_yaxes(title_font_size = 15)\n",
        "fig.update_yaxes(title_text = \"Emissão de Carbono\")\n",
        "fig.update_xaxes(title_text = \"Anos\")\n",
        "fig.update_layout(legend_title_text = \"Emissão de Carbono\")\n",
        "fig.show()"
      ]
    },
    {
      "cell_type": "code",
      "execution_count": 14,
      "metadata": {
        "id": "55g68ePLkbT7",
        "outputId": "4de01970-3c73-439a-ab6c-9781a31ab7a5"
      },
      "outputs": [
        {
          "data": {
            "text/html": [
              "<div>\n",
              "<style scoped>\n",
              "    .dataframe tbody tr th:only-of-type {\n",
              "        vertical-align: middle;\n",
              "    }\n",
              "\n",
              "    .dataframe tbody tr th {\n",
              "        vertical-align: top;\n",
              "    }\n",
              "\n",
              "    .dataframe thead th {\n",
              "        text-align: right;\n",
              "    }\n",
              "</style>\n",
              "<table border=\"1\" class=\"dataframe\">\n",
              "  <thead>\n",
              "    <tr style=\"text-align: right;\">\n",
              "      <th></th>\n",
              "      <th>Unnamed: 0</th>\n",
              "      <th>Janeiro</th>\n",
              "      <th>Fevereiro</th>\n",
              "      <th>Março</th>\n",
              "      <th>Abril</th>\n",
              "      <th>Maio</th>\n",
              "      <th>Junho</th>\n",
              "      <th>Julho</th>\n",
              "      <th>Agosto</th>\n",
              "      <th>Setembro</th>\n",
              "      <th>Outubro</th>\n",
              "      <th>Novembro</th>\n",
              "      <th>Dezembro</th>\n",
              "      <th>Total</th>\n",
              "    </tr>\n",
              "  </thead>\n",
              "  <tbody>\n",
              "    <tr>\n",
              "      <th>0</th>\n",
              "      <td>1998</td>\n",
              "      <td>NaN</td>\n",
              "      <td>NaN</td>\n",
              "      <td>NaN</td>\n",
              "      <td>NaN</td>\n",
              "      <td>NaN</td>\n",
              "      <td>1549.0</td>\n",
              "      <td>3192.0</td>\n",
              "      <td>20075.0</td>\n",
              "      <td>19214.0</td>\n",
              "      <td>8777.0</td>\n",
              "      <td>3833.0</td>\n",
              "      <td>2547.0</td>\n",
              "      <td>59187.0</td>\n",
              "    </tr>\n",
              "    <tr>\n",
              "      <th>1</th>\n",
              "      <td>1999</td>\n",
              "      <td>160.0</td>\n",
              "      <td>358.0</td>\n",
              "      <td>130.0</td>\n",
              "      <td>70.0</td>\n",
              "      <td>449.0</td>\n",
              "      <td>1439.0</td>\n",
              "      <td>3675.0</td>\n",
              "      <td>21525.0</td>\n",
              "      <td>16106.0</td>\n",
              "      <td>12794.0</td>\n",
              "      <td>4449.0</td>\n",
              "      <td>1703.0</td>\n",
              "      <td>62858.0</td>\n",
              "    </tr>\n",
              "    <tr>\n",
              "      <th>2</th>\n",
              "      <td>2000</td>\n",
              "      <td>87.0</td>\n",
              "      <td>182.0</td>\n",
              "      <td>405.0</td>\n",
              "      <td>92.0</td>\n",
              "      <td>930.0</td>\n",
              "      <td>3211.0</td>\n",
              "      <td>1510.0</td>\n",
              "      <td>12791.0</td>\n",
              "      <td>10062.0</td>\n",
              "      <td>10226.0</td>\n",
              "      <td>5497.0</td>\n",
              "      <td>3175.0</td>\n",
              "      <td>48168.0</td>\n",
              "    </tr>\n",
              "    <tr>\n",
              "      <th>3</th>\n",
              "      <td>2001</td>\n",
              "      <td>165.0</td>\n",
              "      <td>699.0</td>\n",
              "      <td>1134.0</td>\n",
              "      <td>617.0</td>\n",
              "      <td>916.0</td>\n",
              "      <td>4227.0</td>\n",
              "      <td>1816.0</td>\n",
              "      <td>17679.0</td>\n",
              "      <td>15528.0</td>\n",
              "      <td>14292.0</td>\n",
              "      <td>8346.0</td>\n",
              "      <td>4256.0</td>\n",
              "      <td>69675.0</td>\n",
              "    </tr>\n",
              "    <tr>\n",
              "      <th>4</th>\n",
              "      <td>2002</td>\n",
              "      <td>590.0</td>\n",
              "      <td>667.0</td>\n",
              "      <td>901.0</td>\n",
              "      <td>405.0</td>\n",
              "      <td>1490.0</td>\n",
              "      <td>5702.0</td>\n",
              "      <td>7529.0</td>\n",
              "      <td>43484.0</td>\n",
              "      <td>48549.0</td>\n",
              "      <td>27110.0</td>\n",
              "      <td>23660.0</td>\n",
              "      <td>9174.0</td>\n",
              "      <td>169261.0</td>\n",
              "    </tr>\n",
              "    <tr>\n",
              "      <th>5</th>\n",
              "      <td>2003</td>\n",
              "      <td>3704.0</td>\n",
              "      <td>1573.0</td>\n",
              "      <td>1997.0</td>\n",
              "      <td>1038.0</td>\n",
              "      <td>1983.0</td>\n",
              "      <td>6848.0</td>\n",
              "      <td>15918.0</td>\n",
              "      <td>34765.0</td>\n",
              "      <td>47789.0</td>\n",
              "      <td>25341.0</td>\n",
              "      <td>19631.0</td>\n",
              "      <td>13813.0</td>\n",
              "      <td>174400.0</td>\n",
              "    </tr>\n",
              "    <tr>\n",
              "      <th>6</th>\n",
              "      <td>2004</td>\n",
              "      <td>2178.0</td>\n",
              "      <td>805.0</td>\n",
              "      <td>1035.0</td>\n",
              "      <td>1012.0</td>\n",
              "      <td>3131.0</td>\n",
              "      <td>9179.0</td>\n",
              "      <td>19179.0</td>\n",
              "      <td>43320.0</td>\n",
              "      <td>71522.0</td>\n",
              "      <td>23928.0</td>\n",
              "      <td>26424.0</td>\n",
              "      <td>16924.0</td>\n",
              "      <td>218637.0</td>\n",
              "    </tr>\n",
              "    <tr>\n",
              "      <th>7</th>\n",
              "      <td>2005</td>\n",
              "      <td>4314.0</td>\n",
              "      <td>1048.0</td>\n",
              "      <td>758.0</td>\n",
              "      <td>832.0</td>\n",
              "      <td>1746.0</td>\n",
              "      <td>2954.0</td>\n",
              "      <td>19364.0</td>\n",
              "      <td>63764.0</td>\n",
              "      <td>68560.0</td>\n",
              "      <td>26624.0</td>\n",
              "      <td>16790.0</td>\n",
              "      <td>6966.0</td>\n",
              "      <td>213720.0</td>\n",
              "    </tr>\n",
              "    <tr>\n",
              "      <th>8</th>\n",
              "      <td>2006</td>\n",
              "      <td>1973.0</td>\n",
              "      <td>879.0</td>\n",
              "      <td>903.0</td>\n",
              "      <td>709.0</td>\n",
              "      <td>843.0</td>\n",
              "      <td>2522.0</td>\n",
              "      <td>6995.0</td>\n",
              "      <td>34208.0</td>\n",
              "      <td>51028.0</td>\n",
              "      <td>18309.0</td>\n",
              "      <td>17474.0</td>\n",
              "      <td>8579.0</td>\n",
              "      <td>144422.0</td>\n",
              "    </tr>\n",
              "    <tr>\n",
              "      <th>9</th>\n",
              "      <td>2007</td>\n",
              "      <td>1918.0</td>\n",
              "      <td>1761.0</td>\n",
              "      <td>1431.0</td>\n",
              "      <td>760.0</td>\n",
              "      <td>1176.0</td>\n",
              "      <td>3519.0</td>\n",
              "      <td>6196.0</td>\n",
              "      <td>46385.0</td>\n",
              "      <td>73141.0</td>\n",
              "      <td>28731.0</td>\n",
              "      <td>16025.0</td>\n",
              "      <td>5437.0</td>\n",
              "      <td>186480.0</td>\n",
              "    </tr>\n",
              "    <tr>\n",
              "      <th>10</th>\n",
              "      <td>2008</td>\n",
              "      <td>938.0</td>\n",
              "      <td>527.0</td>\n",
              "      <td>860.0</td>\n",
              "      <td>569.0</td>\n",
              "      <td>383.0</td>\n",
              "      <td>1248.0</td>\n",
              "      <td>5901.0</td>\n",
              "      <td>21445.0</td>\n",
              "      <td>26469.0</td>\n",
              "      <td>23518.0</td>\n",
              "      <td>15450.0</td>\n",
              "      <td>6145.0</td>\n",
              "      <td>103453.0</td>\n",
              "    </tr>\n",
              "    <tr>\n",
              "      <th>11</th>\n",
              "      <td>2009</td>\n",
              "      <td>1095.0</td>\n",
              "      <td>354.0</td>\n",
              "      <td>584.0</td>\n",
              "      <td>435.0</td>\n",
              "      <td>673.0</td>\n",
              "      <td>1023.0</td>\n",
              "      <td>2327.0</td>\n",
              "      <td>9732.0</td>\n",
              "      <td>20527.0</td>\n",
              "      <td>19323.0</td>\n",
              "      <td>19104.0</td>\n",
              "      <td>6505.0</td>\n",
              "      <td>81682.0</td>\n",
              "    </tr>\n",
              "    <tr>\n",
              "      <th>12</th>\n",
              "      <td>2010</td>\n",
              "      <td>1697.0</td>\n",
              "      <td>1147.0</td>\n",
              "      <td>1176.0</td>\n",
              "      <td>633.0</td>\n",
              "      <td>1026.0</td>\n",
              "      <td>1911.0</td>\n",
              "      <td>5868.0</td>\n",
              "      <td>45018.0</td>\n",
              "      <td>43933.0</td>\n",
              "      <td>14798.0</td>\n",
              "      <td>12167.0</td>\n",
              "      <td>5240.0</td>\n",
              "      <td>134614.0</td>\n",
              "    </tr>\n",
              "    <tr>\n",
              "      <th>13</th>\n",
              "      <td>2011</td>\n",
              "      <td>771.0</td>\n",
              "      <td>271.0</td>\n",
              "      <td>427.0</td>\n",
              "      <td>465.0</td>\n",
              "      <td>528.0</td>\n",
              "      <td>1083.0</td>\n",
              "      <td>2445.0</td>\n",
              "      <td>8002.0</td>\n",
              "      <td>16987.0</td>\n",
              "      <td>9760.0</td>\n",
              "      <td>9815.0</td>\n",
              "      <td>7632.0</td>\n",
              "      <td>58186.0</td>\n",
              "    </tr>\n",
              "    <tr>\n",
              "      <th>14</th>\n",
              "      <td>2012</td>\n",
              "      <td>1203.0</td>\n",
              "      <td>438.0</td>\n",
              "      <td>484.0</td>\n",
              "      <td>473.0</td>\n",
              "      <td>855.0</td>\n",
              "      <td>1875.0</td>\n",
              "      <td>3095.0</td>\n",
              "      <td>20687.0</td>\n",
              "      <td>24067.0</td>\n",
              "      <td>14814.0</td>\n",
              "      <td>13259.0</td>\n",
              "      <td>5469.0</td>\n",
              "      <td>86719.0</td>\n",
              "    </tr>\n",
              "    <tr>\n",
              "      <th>15</th>\n",
              "      <td>2013</td>\n",
              "      <td>1181.0</td>\n",
              "      <td>374.0</td>\n",
              "      <td>738.0</td>\n",
              "      <td>518.0</td>\n",
              "      <td>796.0</td>\n",
              "      <td>1450.0</td>\n",
              "      <td>2531.0</td>\n",
              "      <td>9444.0</td>\n",
              "      <td>16786.0</td>\n",
              "      <td>10242.0</td>\n",
              "      <td>6615.0</td>\n",
              "      <td>8013.0</td>\n",
              "      <td>58688.0</td>\n",
              "    </tr>\n",
              "    <tr>\n",
              "      <th>16</th>\n",
              "      <td>2014</td>\n",
              "      <td>1573.0</td>\n",
              "      <td>473.0</td>\n",
              "      <td>1010.0</td>\n",
              "      <td>632.0</td>\n",
              "      <td>673.0</td>\n",
              "      <td>1628.0</td>\n",
              "      <td>2766.0</td>\n",
              "      <td>20113.0</td>\n",
              "      <td>20522.0</td>\n",
              "      <td>13221.0</td>\n",
              "      <td>12169.0</td>\n",
              "      <td>7773.0</td>\n",
              "      <td>82553.0</td>\n",
              "    </tr>\n",
              "    <tr>\n",
              "      <th>17</th>\n",
              "      <td>2015</td>\n",
              "      <td>2042.0</td>\n",
              "      <td>1047.0</td>\n",
              "      <td>572.0</td>\n",
              "      <td>762.0</td>\n",
              "      <td>407.0</td>\n",
              "      <td>1287.0</td>\n",
              "      <td>2817.0</td>\n",
              "      <td>20471.0</td>\n",
              "      <td>29326.0</td>\n",
              "      <td>19469.0</td>\n",
              "      <td>16935.0</td>\n",
              "      <td>11303.0</td>\n",
              "      <td>106438.0</td>\n",
              "    </tr>\n",
              "    <tr>\n",
              "      <th>18</th>\n",
              "      <td>2016</td>\n",
              "      <td>4657.0</td>\n",
              "      <td>1559.0</td>\n",
              "      <td>2024.0</td>\n",
              "      <td>1075.0</td>\n",
              "      <td>895.0</td>\n",
              "      <td>1663.0</td>\n",
              "      <td>6120.0</td>\n",
              "      <td>18340.0</td>\n",
              "      <td>20460.0</td>\n",
              "      <td>14234.0</td>\n",
              "      <td>11610.0</td>\n",
              "      <td>5124.0</td>\n",
              "      <td>87761.0</td>\n",
              "    </tr>\n",
              "    <tr>\n",
              "      <th>19</th>\n",
              "      <td>2017</td>\n",
              "      <td>796.0</td>\n",
              "      <td>379.0</td>\n",
              "      <td>736.0</td>\n",
              "      <td>618.0</td>\n",
              "      <td>805.0</td>\n",
              "      <td>1759.0</td>\n",
              "      <td>7986.0</td>\n",
              "      <td>21244.0</td>\n",
              "      <td>36569.0</td>\n",
              "      <td>14457.0</td>\n",
              "      <td>14105.0</td>\n",
              "      <td>7985.0</td>\n",
              "      <td>107439.0</td>\n",
              "    </tr>\n",
              "    <tr>\n",
              "      <th>20</th>\n",
              "      <td>2018</td>\n",
              "      <td>1444.0</td>\n",
              "      <td>888.0</td>\n",
              "      <td>1359.0</td>\n",
              "      <td>513.0</td>\n",
              "      <td>772.0</td>\n",
              "      <td>1980.0</td>\n",
              "      <td>4788.0</td>\n",
              "      <td>10421.0</td>\n",
              "      <td>24803.0</td>\n",
              "      <td>10654.0</td>\n",
              "      <td>8881.0</td>\n",
              "      <td>1842.0</td>\n",
              "      <td>68345.0</td>\n",
              "    </tr>\n",
              "    <tr>\n",
              "      <th>21</th>\n",
              "      <td>2019</td>\n",
              "      <td>1419.0</td>\n",
              "      <td>1368.0</td>\n",
              "      <td>3383.0</td>\n",
              "      <td>1702.0</td>\n",
              "      <td>854.0</td>\n",
              "      <td>1880.0</td>\n",
              "      <td>5318.0</td>\n",
              "      <td>30900.0</td>\n",
              "      <td>19925.0</td>\n",
              "      <td>7855.0</td>\n",
              "      <td>11297.0</td>\n",
              "      <td>3275.0</td>\n",
              "      <td>89176.0</td>\n",
              "    </tr>\n",
              "    <tr>\n",
              "      <th>22</th>\n",
              "      <td>2020</td>\n",
              "      <td>1200.0</td>\n",
              "      <td>1196.0</td>\n",
              "      <td>1641.0</td>\n",
              "      <td>789.0</td>\n",
              "      <td>829.0</td>\n",
              "      <td>2248.0</td>\n",
              "      <td>6803.0</td>\n",
              "      <td>29307.0</td>\n",
              "      <td>32017.0</td>\n",
              "      <td>17326.0</td>\n",
              "      <td>6321.0</td>\n",
              "      <td>3484.0</td>\n",
              "      <td>103161.0</td>\n",
              "    </tr>\n",
              "    <tr>\n",
              "      <th>23</th>\n",
              "      <td>2021</td>\n",
              "      <td>794.0</td>\n",
              "      <td>864.0</td>\n",
              "      <td>643.0</td>\n",
              "      <td>615.0</td>\n",
              "      <td>1166.0</td>\n",
              "      <td>2305.0</td>\n",
              "      <td>4977.0</td>\n",
              "      <td>28060.0</td>\n",
              "      <td>16742.0</td>\n",
              "      <td>11549.0</td>\n",
              "      <td>5779.0</td>\n",
              "      <td>1596.0</td>\n",
              "      <td>75090.0</td>\n",
              "    </tr>\n",
              "    <tr>\n",
              "      <th>24</th>\n",
              "      <td>2022</td>\n",
              "      <td>1226.0</td>\n",
              "      <td>584.0</td>\n",
              "      <td>490.0</td>\n",
              "      <td>384.0</td>\n",
              "      <td>2287.0</td>\n",
              "      <td>2562.0</td>\n",
              "      <td>5373.0</td>\n",
              "      <td>33116.0</td>\n",
              "      <td>41282.0</td>\n",
              "      <td>13911.0</td>\n",
              "      <td>11062.0</td>\n",
              "      <td>2756.0</td>\n",
              "      <td>115033.0</td>\n",
              "    </tr>\n",
              "    <tr>\n",
              "      <th>25</th>\n",
              "      <td>2023</td>\n",
              "      <td>1056.0</td>\n",
              "      <td>734.0</td>\n",
              "      <td>1019.0</td>\n",
              "      <td>768.0</td>\n",
              "      <td>1692.0</td>\n",
              "      <td>3075.0</td>\n",
              "      <td>5772.0</td>\n",
              "      <td>17373.0</td>\n",
              "      <td>26452.0</td>\n",
              "      <td>22061.0</td>\n",
              "      <td>13943.0</td>\n",
              "      <td>4701.0</td>\n",
              "      <td>98646.0</td>\n",
              "    </tr>\n",
              "    <tr>\n",
              "      <th>26</th>\n",
              "      <td>2024</td>\n",
              "      <td>2049.0</td>\n",
              "      <td>3157.0</td>\n",
              "      <td>2654.0</td>\n",
              "      <td>1117.0</td>\n",
              "      <td>1670.0</td>\n",
              "      <td>2842.0</td>\n",
              "      <td>11434.0</td>\n",
              "      <td>38266.0</td>\n",
              "      <td>28875.0</td>\n",
              "      <td>NaN</td>\n",
              "      <td>NaN</td>\n",
              "      <td>NaN</td>\n",
              "      <td>92064.0</td>\n",
              "    </tr>\n",
              "    <tr>\n",
              "      <th>27</th>\n",
              "      <td>Máximo*</td>\n",
              "      <td>4657.0</td>\n",
              "      <td>1761.0</td>\n",
              "      <td>3383.0</td>\n",
              "      <td>1702.0</td>\n",
              "      <td>3131.0</td>\n",
              "      <td>9179.0</td>\n",
              "      <td>19364.0</td>\n",
              "      <td>63764.0</td>\n",
              "      <td>73141.0</td>\n",
              "      <td>28731.0</td>\n",
              "      <td>26424.0</td>\n",
              "      <td>16924.0</td>\n",
              "      <td>218637.0</td>\n",
              "    </tr>\n",
              "    <tr>\n",
              "      <th>28</th>\n",
              "      <td>Média*</td>\n",
              "      <td>1527.0</td>\n",
              "      <td>807.0</td>\n",
              "      <td>1034.0</td>\n",
              "      <td>659.0</td>\n",
              "      <td>1092.0</td>\n",
              "      <td>2697.0</td>\n",
              "      <td>6164.0</td>\n",
              "      <td>26218.0</td>\n",
              "      <td>32245.0</td>\n",
              "      <td>16666.0</td>\n",
              "      <td>12717.0</td>\n",
              "      <td>6208.0</td>\n",
              "      <td>107838.0</td>\n",
              "    </tr>\n",
              "    <tr>\n",
              "      <th>29</th>\n",
              "      <td>Mínimo*</td>\n",
              "      <td>87.0</td>\n",
              "      <td>182.0</td>\n",
              "      <td>130.0</td>\n",
              "      <td>70.0</td>\n",
              "      <td>383.0</td>\n",
              "      <td>1023.0</td>\n",
              "      <td>1510.0</td>\n",
              "      <td>8002.0</td>\n",
              "      <td>10062.0</td>\n",
              "      <td>7855.0</td>\n",
              "      <td>3833.0</td>\n",
              "      <td>1596.0</td>\n",
              "      <td>48168.0</td>\n",
              "    </tr>\n",
              "  </tbody>\n",
              "</table>\n",
              "</div>"
            ],
            "text/plain": [
              "   Unnamed: 0  Janeiro  Fevereiro   Março   Abril    Maio   Junho    Julho  \\\n",
              "0        1998      NaN        NaN     NaN     NaN     NaN  1549.0   3192.0   \n",
              "1        1999    160.0      358.0   130.0    70.0   449.0  1439.0   3675.0   \n",
              "2        2000     87.0      182.0   405.0    92.0   930.0  3211.0   1510.0   \n",
              "3        2001    165.0      699.0  1134.0   617.0   916.0  4227.0   1816.0   \n",
              "4        2002    590.0      667.0   901.0   405.0  1490.0  5702.0   7529.0   \n",
              "5        2003   3704.0     1573.0  1997.0  1038.0  1983.0  6848.0  15918.0   \n",
              "6        2004   2178.0      805.0  1035.0  1012.0  3131.0  9179.0  19179.0   \n",
              "7        2005   4314.0     1048.0   758.0   832.0  1746.0  2954.0  19364.0   \n",
              "8        2006   1973.0      879.0   903.0   709.0   843.0  2522.0   6995.0   \n",
              "9        2007   1918.0     1761.0  1431.0   760.0  1176.0  3519.0   6196.0   \n",
              "10       2008    938.0      527.0   860.0   569.0   383.0  1248.0   5901.0   \n",
              "11       2009   1095.0      354.0   584.0   435.0   673.0  1023.0   2327.0   \n",
              "12       2010   1697.0     1147.0  1176.0   633.0  1026.0  1911.0   5868.0   \n",
              "13       2011    771.0      271.0   427.0   465.0   528.0  1083.0   2445.0   \n",
              "14       2012   1203.0      438.0   484.0   473.0   855.0  1875.0   3095.0   \n",
              "15       2013   1181.0      374.0   738.0   518.0   796.0  1450.0   2531.0   \n",
              "16       2014   1573.0      473.0  1010.0   632.0   673.0  1628.0   2766.0   \n",
              "17       2015   2042.0     1047.0   572.0   762.0   407.0  1287.0   2817.0   \n",
              "18       2016   4657.0     1559.0  2024.0  1075.0   895.0  1663.0   6120.0   \n",
              "19       2017    796.0      379.0   736.0   618.0   805.0  1759.0   7986.0   \n",
              "20       2018   1444.0      888.0  1359.0   513.0   772.0  1980.0   4788.0   \n",
              "21       2019   1419.0     1368.0  3383.0  1702.0   854.0  1880.0   5318.0   \n",
              "22       2020   1200.0     1196.0  1641.0   789.0   829.0  2248.0   6803.0   \n",
              "23       2021    794.0      864.0   643.0   615.0  1166.0  2305.0   4977.0   \n",
              "24       2022   1226.0      584.0   490.0   384.0  2287.0  2562.0   5373.0   \n",
              "25       2023   1056.0      734.0  1019.0   768.0  1692.0  3075.0   5772.0   \n",
              "26       2024   2049.0     3157.0  2654.0  1117.0  1670.0  2842.0  11434.0   \n",
              "27    Máximo*   4657.0     1761.0  3383.0  1702.0  3131.0  9179.0  19364.0   \n",
              "28     Média*   1527.0      807.0  1034.0   659.0  1092.0  2697.0   6164.0   \n",
              "29    Mínimo*     87.0      182.0   130.0    70.0   383.0  1023.0   1510.0   \n",
              "\n",
              "     Agosto  Setembro  Outubro  Novembro  Dezembro     Total  \n",
              "0   20075.0   19214.0   8777.0    3833.0    2547.0   59187.0  \n",
              "1   21525.0   16106.0  12794.0    4449.0    1703.0   62858.0  \n",
              "2   12791.0   10062.0  10226.0    5497.0    3175.0   48168.0  \n",
              "3   17679.0   15528.0  14292.0    8346.0    4256.0   69675.0  \n",
              "4   43484.0   48549.0  27110.0   23660.0    9174.0  169261.0  \n",
              "5   34765.0   47789.0  25341.0   19631.0   13813.0  174400.0  \n",
              "6   43320.0   71522.0  23928.0   26424.0   16924.0  218637.0  \n",
              "7   63764.0   68560.0  26624.0   16790.0    6966.0  213720.0  \n",
              "8   34208.0   51028.0  18309.0   17474.0    8579.0  144422.0  \n",
              "9   46385.0   73141.0  28731.0   16025.0    5437.0  186480.0  \n",
              "10  21445.0   26469.0  23518.0   15450.0    6145.0  103453.0  \n",
              "11   9732.0   20527.0  19323.0   19104.0    6505.0   81682.0  \n",
              "12  45018.0   43933.0  14798.0   12167.0    5240.0  134614.0  \n",
              "13   8002.0   16987.0   9760.0    9815.0    7632.0   58186.0  \n",
              "14  20687.0   24067.0  14814.0   13259.0    5469.0   86719.0  \n",
              "15   9444.0   16786.0  10242.0    6615.0    8013.0   58688.0  \n",
              "16  20113.0   20522.0  13221.0   12169.0    7773.0   82553.0  \n",
              "17  20471.0   29326.0  19469.0   16935.0   11303.0  106438.0  \n",
              "18  18340.0   20460.0  14234.0   11610.0    5124.0   87761.0  \n",
              "19  21244.0   36569.0  14457.0   14105.0    7985.0  107439.0  \n",
              "20  10421.0   24803.0  10654.0    8881.0    1842.0   68345.0  \n",
              "21  30900.0   19925.0   7855.0   11297.0    3275.0   89176.0  \n",
              "22  29307.0   32017.0  17326.0    6321.0    3484.0  103161.0  \n",
              "23  28060.0   16742.0  11549.0    5779.0    1596.0   75090.0  \n",
              "24  33116.0   41282.0  13911.0   11062.0    2756.0  115033.0  \n",
              "25  17373.0   26452.0  22061.0   13943.0    4701.0   98646.0  \n",
              "26  38266.0   28875.0      NaN       NaN       NaN   92064.0  \n",
              "27  63764.0   73141.0  28731.0   26424.0   16924.0  218637.0  \n",
              "28  26218.0   32245.0  16666.0   12717.0    6208.0  107838.0  \n",
              "29   8002.0   10062.0   7855.0    3833.0    1596.0   48168.0  "
            ]
          },
          "execution_count": 14,
          "metadata": {},
          "output_type": "execute_result"
        }
      ],
      "source": [
        "#Dados sobre queimadas no bioma amazônico nos ultimos tempos\n",
        "\n",
        "historico_desmatamento = pd.read_csv(\"historico_bioma_amazonia.csv\")\n",
        "historico_desmatamento"
      ]
    },
    {
      "cell_type": "code",
      "execution_count": 15,
      "metadata": {
        "id": "YZ6o2CMkkbT8",
        "outputId": "343586fe-7eef-435c-a10c-ee6f2b548df4"
      },
      "outputs": [
        {
          "data": {
            "text/html": [
              "<div>\n",
              "<style scoped>\n",
              "    .dataframe tbody tr th:only-of-type {\n",
              "        vertical-align: middle;\n",
              "    }\n",
              "\n",
              "    .dataframe tbody tr th {\n",
              "        vertical-align: top;\n",
              "    }\n",
              "\n",
              "    .dataframe thead th {\n",
              "        text-align: right;\n",
              "    }\n",
              "</style>\n",
              "<table border=\"1\" class=\"dataframe\">\n",
              "  <thead>\n",
              "    <tr style=\"text-align: right;\">\n",
              "      <th></th>\n",
              "      <th>Anos</th>\n",
              "      <th>Janeiro</th>\n",
              "      <th>Fevereiro</th>\n",
              "      <th>Março</th>\n",
              "      <th>Abril</th>\n",
              "      <th>Maio</th>\n",
              "      <th>Junho</th>\n",
              "      <th>Julho</th>\n",
              "      <th>Agosto</th>\n",
              "      <th>Setembro</th>\n",
              "      <th>Outubro</th>\n",
              "      <th>Novembro</th>\n",
              "      <th>Dezembro</th>\n",
              "      <th>Total</th>\n",
              "    </tr>\n",
              "  </thead>\n",
              "  <tbody>\n",
              "    <tr>\n",
              "      <th>0</th>\n",
              "      <td>1998</td>\n",
              "      <td>NaN</td>\n",
              "      <td>NaN</td>\n",
              "      <td>NaN</td>\n",
              "      <td>NaN</td>\n",
              "      <td>NaN</td>\n",
              "      <td>1549.0</td>\n",
              "      <td>3192.0</td>\n",
              "      <td>20075.0</td>\n",
              "      <td>19214.0</td>\n",
              "      <td>8777.0</td>\n",
              "      <td>3833.0</td>\n",
              "      <td>2547.0</td>\n",
              "      <td>59187.0</td>\n",
              "    </tr>\n",
              "    <tr>\n",
              "      <th>1</th>\n",
              "      <td>1999</td>\n",
              "      <td>160.0</td>\n",
              "      <td>358.0</td>\n",
              "      <td>130.0</td>\n",
              "      <td>70.0</td>\n",
              "      <td>449.0</td>\n",
              "      <td>1439.0</td>\n",
              "      <td>3675.0</td>\n",
              "      <td>21525.0</td>\n",
              "      <td>16106.0</td>\n",
              "      <td>12794.0</td>\n",
              "      <td>4449.0</td>\n",
              "      <td>1703.0</td>\n",
              "      <td>62858.0</td>\n",
              "    </tr>\n",
              "    <tr>\n",
              "      <th>2</th>\n",
              "      <td>2000</td>\n",
              "      <td>87.0</td>\n",
              "      <td>182.0</td>\n",
              "      <td>405.0</td>\n",
              "      <td>92.0</td>\n",
              "      <td>930.0</td>\n",
              "      <td>3211.0</td>\n",
              "      <td>1510.0</td>\n",
              "      <td>12791.0</td>\n",
              "      <td>10062.0</td>\n",
              "      <td>10226.0</td>\n",
              "      <td>5497.0</td>\n",
              "      <td>3175.0</td>\n",
              "      <td>48168.0</td>\n",
              "    </tr>\n",
              "    <tr>\n",
              "      <th>3</th>\n",
              "      <td>2001</td>\n",
              "      <td>165.0</td>\n",
              "      <td>699.0</td>\n",
              "      <td>1134.0</td>\n",
              "      <td>617.0</td>\n",
              "      <td>916.0</td>\n",
              "      <td>4227.0</td>\n",
              "      <td>1816.0</td>\n",
              "      <td>17679.0</td>\n",
              "      <td>15528.0</td>\n",
              "      <td>14292.0</td>\n",
              "      <td>8346.0</td>\n",
              "      <td>4256.0</td>\n",
              "      <td>69675.0</td>\n",
              "    </tr>\n",
              "    <tr>\n",
              "      <th>4</th>\n",
              "      <td>2002</td>\n",
              "      <td>590.0</td>\n",
              "      <td>667.0</td>\n",
              "      <td>901.0</td>\n",
              "      <td>405.0</td>\n",
              "      <td>1490.0</td>\n",
              "      <td>5702.0</td>\n",
              "      <td>7529.0</td>\n",
              "      <td>43484.0</td>\n",
              "      <td>48549.0</td>\n",
              "      <td>27110.0</td>\n",
              "      <td>23660.0</td>\n",
              "      <td>9174.0</td>\n",
              "      <td>169261.0</td>\n",
              "    </tr>\n",
              "    <tr>\n",
              "      <th>5</th>\n",
              "      <td>2003</td>\n",
              "      <td>3704.0</td>\n",
              "      <td>1573.0</td>\n",
              "      <td>1997.0</td>\n",
              "      <td>1038.0</td>\n",
              "      <td>1983.0</td>\n",
              "      <td>6848.0</td>\n",
              "      <td>15918.0</td>\n",
              "      <td>34765.0</td>\n",
              "      <td>47789.0</td>\n",
              "      <td>25341.0</td>\n",
              "      <td>19631.0</td>\n",
              "      <td>13813.0</td>\n",
              "      <td>174400.0</td>\n",
              "    </tr>\n",
              "    <tr>\n",
              "      <th>6</th>\n",
              "      <td>2004</td>\n",
              "      <td>2178.0</td>\n",
              "      <td>805.0</td>\n",
              "      <td>1035.0</td>\n",
              "      <td>1012.0</td>\n",
              "      <td>3131.0</td>\n",
              "      <td>9179.0</td>\n",
              "      <td>19179.0</td>\n",
              "      <td>43320.0</td>\n",
              "      <td>71522.0</td>\n",
              "      <td>23928.0</td>\n",
              "      <td>26424.0</td>\n",
              "      <td>16924.0</td>\n",
              "      <td>218637.0</td>\n",
              "    </tr>\n",
              "    <tr>\n",
              "      <th>7</th>\n",
              "      <td>2005</td>\n",
              "      <td>4314.0</td>\n",
              "      <td>1048.0</td>\n",
              "      <td>758.0</td>\n",
              "      <td>832.0</td>\n",
              "      <td>1746.0</td>\n",
              "      <td>2954.0</td>\n",
              "      <td>19364.0</td>\n",
              "      <td>63764.0</td>\n",
              "      <td>68560.0</td>\n",
              "      <td>26624.0</td>\n",
              "      <td>16790.0</td>\n",
              "      <td>6966.0</td>\n",
              "      <td>213720.0</td>\n",
              "    </tr>\n",
              "    <tr>\n",
              "      <th>8</th>\n",
              "      <td>2006</td>\n",
              "      <td>1973.0</td>\n",
              "      <td>879.0</td>\n",
              "      <td>903.0</td>\n",
              "      <td>709.0</td>\n",
              "      <td>843.0</td>\n",
              "      <td>2522.0</td>\n",
              "      <td>6995.0</td>\n",
              "      <td>34208.0</td>\n",
              "      <td>51028.0</td>\n",
              "      <td>18309.0</td>\n",
              "      <td>17474.0</td>\n",
              "      <td>8579.0</td>\n",
              "      <td>144422.0</td>\n",
              "    </tr>\n",
              "    <tr>\n",
              "      <th>9</th>\n",
              "      <td>2007</td>\n",
              "      <td>1918.0</td>\n",
              "      <td>1761.0</td>\n",
              "      <td>1431.0</td>\n",
              "      <td>760.0</td>\n",
              "      <td>1176.0</td>\n",
              "      <td>3519.0</td>\n",
              "      <td>6196.0</td>\n",
              "      <td>46385.0</td>\n",
              "      <td>73141.0</td>\n",
              "      <td>28731.0</td>\n",
              "      <td>16025.0</td>\n",
              "      <td>5437.0</td>\n",
              "      <td>186480.0</td>\n",
              "    </tr>\n",
              "    <tr>\n",
              "      <th>10</th>\n",
              "      <td>2008</td>\n",
              "      <td>938.0</td>\n",
              "      <td>527.0</td>\n",
              "      <td>860.0</td>\n",
              "      <td>569.0</td>\n",
              "      <td>383.0</td>\n",
              "      <td>1248.0</td>\n",
              "      <td>5901.0</td>\n",
              "      <td>21445.0</td>\n",
              "      <td>26469.0</td>\n",
              "      <td>23518.0</td>\n",
              "      <td>15450.0</td>\n",
              "      <td>6145.0</td>\n",
              "      <td>103453.0</td>\n",
              "    </tr>\n",
              "    <tr>\n",
              "      <th>11</th>\n",
              "      <td>2009</td>\n",
              "      <td>1095.0</td>\n",
              "      <td>354.0</td>\n",
              "      <td>584.0</td>\n",
              "      <td>435.0</td>\n",
              "      <td>673.0</td>\n",
              "      <td>1023.0</td>\n",
              "      <td>2327.0</td>\n",
              "      <td>9732.0</td>\n",
              "      <td>20527.0</td>\n",
              "      <td>19323.0</td>\n",
              "      <td>19104.0</td>\n",
              "      <td>6505.0</td>\n",
              "      <td>81682.0</td>\n",
              "    </tr>\n",
              "    <tr>\n",
              "      <th>12</th>\n",
              "      <td>2010</td>\n",
              "      <td>1697.0</td>\n",
              "      <td>1147.0</td>\n",
              "      <td>1176.0</td>\n",
              "      <td>633.0</td>\n",
              "      <td>1026.0</td>\n",
              "      <td>1911.0</td>\n",
              "      <td>5868.0</td>\n",
              "      <td>45018.0</td>\n",
              "      <td>43933.0</td>\n",
              "      <td>14798.0</td>\n",
              "      <td>12167.0</td>\n",
              "      <td>5240.0</td>\n",
              "      <td>134614.0</td>\n",
              "    </tr>\n",
              "    <tr>\n",
              "      <th>13</th>\n",
              "      <td>2011</td>\n",
              "      <td>771.0</td>\n",
              "      <td>271.0</td>\n",
              "      <td>427.0</td>\n",
              "      <td>465.0</td>\n",
              "      <td>528.0</td>\n",
              "      <td>1083.0</td>\n",
              "      <td>2445.0</td>\n",
              "      <td>8002.0</td>\n",
              "      <td>16987.0</td>\n",
              "      <td>9760.0</td>\n",
              "      <td>9815.0</td>\n",
              "      <td>7632.0</td>\n",
              "      <td>58186.0</td>\n",
              "    </tr>\n",
              "    <tr>\n",
              "      <th>14</th>\n",
              "      <td>2012</td>\n",
              "      <td>1203.0</td>\n",
              "      <td>438.0</td>\n",
              "      <td>484.0</td>\n",
              "      <td>473.0</td>\n",
              "      <td>855.0</td>\n",
              "      <td>1875.0</td>\n",
              "      <td>3095.0</td>\n",
              "      <td>20687.0</td>\n",
              "      <td>24067.0</td>\n",
              "      <td>14814.0</td>\n",
              "      <td>13259.0</td>\n",
              "      <td>5469.0</td>\n",
              "      <td>86719.0</td>\n",
              "    </tr>\n",
              "    <tr>\n",
              "      <th>15</th>\n",
              "      <td>2013</td>\n",
              "      <td>1181.0</td>\n",
              "      <td>374.0</td>\n",
              "      <td>738.0</td>\n",
              "      <td>518.0</td>\n",
              "      <td>796.0</td>\n",
              "      <td>1450.0</td>\n",
              "      <td>2531.0</td>\n",
              "      <td>9444.0</td>\n",
              "      <td>16786.0</td>\n",
              "      <td>10242.0</td>\n",
              "      <td>6615.0</td>\n",
              "      <td>8013.0</td>\n",
              "      <td>58688.0</td>\n",
              "    </tr>\n",
              "    <tr>\n",
              "      <th>16</th>\n",
              "      <td>2014</td>\n",
              "      <td>1573.0</td>\n",
              "      <td>473.0</td>\n",
              "      <td>1010.0</td>\n",
              "      <td>632.0</td>\n",
              "      <td>673.0</td>\n",
              "      <td>1628.0</td>\n",
              "      <td>2766.0</td>\n",
              "      <td>20113.0</td>\n",
              "      <td>20522.0</td>\n",
              "      <td>13221.0</td>\n",
              "      <td>12169.0</td>\n",
              "      <td>7773.0</td>\n",
              "      <td>82553.0</td>\n",
              "    </tr>\n",
              "    <tr>\n",
              "      <th>17</th>\n",
              "      <td>2015</td>\n",
              "      <td>2042.0</td>\n",
              "      <td>1047.0</td>\n",
              "      <td>572.0</td>\n",
              "      <td>762.0</td>\n",
              "      <td>407.0</td>\n",
              "      <td>1287.0</td>\n",
              "      <td>2817.0</td>\n",
              "      <td>20471.0</td>\n",
              "      <td>29326.0</td>\n",
              "      <td>19469.0</td>\n",
              "      <td>16935.0</td>\n",
              "      <td>11303.0</td>\n",
              "      <td>106438.0</td>\n",
              "    </tr>\n",
              "    <tr>\n",
              "      <th>18</th>\n",
              "      <td>2016</td>\n",
              "      <td>4657.0</td>\n",
              "      <td>1559.0</td>\n",
              "      <td>2024.0</td>\n",
              "      <td>1075.0</td>\n",
              "      <td>895.0</td>\n",
              "      <td>1663.0</td>\n",
              "      <td>6120.0</td>\n",
              "      <td>18340.0</td>\n",
              "      <td>20460.0</td>\n",
              "      <td>14234.0</td>\n",
              "      <td>11610.0</td>\n",
              "      <td>5124.0</td>\n",
              "      <td>87761.0</td>\n",
              "    </tr>\n",
              "    <tr>\n",
              "      <th>19</th>\n",
              "      <td>2017</td>\n",
              "      <td>796.0</td>\n",
              "      <td>379.0</td>\n",
              "      <td>736.0</td>\n",
              "      <td>618.0</td>\n",
              "      <td>805.0</td>\n",
              "      <td>1759.0</td>\n",
              "      <td>7986.0</td>\n",
              "      <td>21244.0</td>\n",
              "      <td>36569.0</td>\n",
              "      <td>14457.0</td>\n",
              "      <td>14105.0</td>\n",
              "      <td>7985.0</td>\n",
              "      <td>107439.0</td>\n",
              "    </tr>\n",
              "    <tr>\n",
              "      <th>20</th>\n",
              "      <td>2018</td>\n",
              "      <td>1444.0</td>\n",
              "      <td>888.0</td>\n",
              "      <td>1359.0</td>\n",
              "      <td>513.0</td>\n",
              "      <td>772.0</td>\n",
              "      <td>1980.0</td>\n",
              "      <td>4788.0</td>\n",
              "      <td>10421.0</td>\n",
              "      <td>24803.0</td>\n",
              "      <td>10654.0</td>\n",
              "      <td>8881.0</td>\n",
              "      <td>1842.0</td>\n",
              "      <td>68345.0</td>\n",
              "    </tr>\n",
              "    <tr>\n",
              "      <th>21</th>\n",
              "      <td>2019</td>\n",
              "      <td>1419.0</td>\n",
              "      <td>1368.0</td>\n",
              "      <td>3383.0</td>\n",
              "      <td>1702.0</td>\n",
              "      <td>854.0</td>\n",
              "      <td>1880.0</td>\n",
              "      <td>5318.0</td>\n",
              "      <td>30900.0</td>\n",
              "      <td>19925.0</td>\n",
              "      <td>7855.0</td>\n",
              "      <td>11297.0</td>\n",
              "      <td>3275.0</td>\n",
              "      <td>89176.0</td>\n",
              "    </tr>\n",
              "    <tr>\n",
              "      <th>22</th>\n",
              "      <td>2020</td>\n",
              "      <td>1200.0</td>\n",
              "      <td>1196.0</td>\n",
              "      <td>1641.0</td>\n",
              "      <td>789.0</td>\n",
              "      <td>829.0</td>\n",
              "      <td>2248.0</td>\n",
              "      <td>6803.0</td>\n",
              "      <td>29307.0</td>\n",
              "      <td>32017.0</td>\n",
              "      <td>17326.0</td>\n",
              "      <td>6321.0</td>\n",
              "      <td>3484.0</td>\n",
              "      <td>103161.0</td>\n",
              "    </tr>\n",
              "    <tr>\n",
              "      <th>23</th>\n",
              "      <td>2021</td>\n",
              "      <td>794.0</td>\n",
              "      <td>864.0</td>\n",
              "      <td>643.0</td>\n",
              "      <td>615.0</td>\n",
              "      <td>1166.0</td>\n",
              "      <td>2305.0</td>\n",
              "      <td>4977.0</td>\n",
              "      <td>28060.0</td>\n",
              "      <td>16742.0</td>\n",
              "      <td>11549.0</td>\n",
              "      <td>5779.0</td>\n",
              "      <td>1596.0</td>\n",
              "      <td>75090.0</td>\n",
              "    </tr>\n",
              "    <tr>\n",
              "      <th>24</th>\n",
              "      <td>2022</td>\n",
              "      <td>1226.0</td>\n",
              "      <td>584.0</td>\n",
              "      <td>490.0</td>\n",
              "      <td>384.0</td>\n",
              "      <td>2287.0</td>\n",
              "      <td>2562.0</td>\n",
              "      <td>5373.0</td>\n",
              "      <td>33116.0</td>\n",
              "      <td>41282.0</td>\n",
              "      <td>13911.0</td>\n",
              "      <td>11062.0</td>\n",
              "      <td>2756.0</td>\n",
              "      <td>115033.0</td>\n",
              "    </tr>\n",
              "    <tr>\n",
              "      <th>25</th>\n",
              "      <td>2023</td>\n",
              "      <td>1056.0</td>\n",
              "      <td>734.0</td>\n",
              "      <td>1019.0</td>\n",
              "      <td>768.0</td>\n",
              "      <td>1692.0</td>\n",
              "      <td>3075.0</td>\n",
              "      <td>5772.0</td>\n",
              "      <td>17373.0</td>\n",
              "      <td>26452.0</td>\n",
              "      <td>22061.0</td>\n",
              "      <td>13943.0</td>\n",
              "      <td>4701.0</td>\n",
              "      <td>98646.0</td>\n",
              "    </tr>\n",
              "    <tr>\n",
              "      <th>26</th>\n",
              "      <td>2024</td>\n",
              "      <td>2049.0</td>\n",
              "      <td>3157.0</td>\n",
              "      <td>2654.0</td>\n",
              "      <td>1117.0</td>\n",
              "      <td>1670.0</td>\n",
              "      <td>2842.0</td>\n",
              "      <td>11434.0</td>\n",
              "      <td>38266.0</td>\n",
              "      <td>28875.0</td>\n",
              "      <td>NaN</td>\n",
              "      <td>NaN</td>\n",
              "      <td>NaN</td>\n",
              "      <td>92064.0</td>\n",
              "    </tr>\n",
              "    <tr>\n",
              "      <th>27</th>\n",
              "      <td>Máximo*</td>\n",
              "      <td>4657.0</td>\n",
              "      <td>1761.0</td>\n",
              "      <td>3383.0</td>\n",
              "      <td>1702.0</td>\n",
              "      <td>3131.0</td>\n",
              "      <td>9179.0</td>\n",
              "      <td>19364.0</td>\n",
              "      <td>63764.0</td>\n",
              "      <td>73141.0</td>\n",
              "      <td>28731.0</td>\n",
              "      <td>26424.0</td>\n",
              "      <td>16924.0</td>\n",
              "      <td>218637.0</td>\n",
              "    </tr>\n",
              "    <tr>\n",
              "      <th>28</th>\n",
              "      <td>Média*</td>\n",
              "      <td>1527.0</td>\n",
              "      <td>807.0</td>\n",
              "      <td>1034.0</td>\n",
              "      <td>659.0</td>\n",
              "      <td>1092.0</td>\n",
              "      <td>2697.0</td>\n",
              "      <td>6164.0</td>\n",
              "      <td>26218.0</td>\n",
              "      <td>32245.0</td>\n",
              "      <td>16666.0</td>\n",
              "      <td>12717.0</td>\n",
              "      <td>6208.0</td>\n",
              "      <td>107838.0</td>\n",
              "    </tr>\n",
              "    <tr>\n",
              "      <th>29</th>\n",
              "      <td>Mínimo*</td>\n",
              "      <td>87.0</td>\n",
              "      <td>182.0</td>\n",
              "      <td>130.0</td>\n",
              "      <td>70.0</td>\n",
              "      <td>383.0</td>\n",
              "      <td>1023.0</td>\n",
              "      <td>1510.0</td>\n",
              "      <td>8002.0</td>\n",
              "      <td>10062.0</td>\n",
              "      <td>7855.0</td>\n",
              "      <td>3833.0</td>\n",
              "      <td>1596.0</td>\n",
              "      <td>48168.0</td>\n",
              "    </tr>\n",
              "  </tbody>\n",
              "</table>\n",
              "</div>"
            ],
            "text/plain": [
              "       Anos  Janeiro  Fevereiro   Março   Abril    Maio   Junho    Julho  \\\n",
              "0      1998      NaN        NaN     NaN     NaN     NaN  1549.0   3192.0   \n",
              "1      1999    160.0      358.0   130.0    70.0   449.0  1439.0   3675.0   \n",
              "2      2000     87.0      182.0   405.0    92.0   930.0  3211.0   1510.0   \n",
              "3      2001    165.0      699.0  1134.0   617.0   916.0  4227.0   1816.0   \n",
              "4      2002    590.0      667.0   901.0   405.0  1490.0  5702.0   7529.0   \n",
              "5      2003   3704.0     1573.0  1997.0  1038.0  1983.0  6848.0  15918.0   \n",
              "6      2004   2178.0      805.0  1035.0  1012.0  3131.0  9179.0  19179.0   \n",
              "7      2005   4314.0     1048.0   758.0   832.0  1746.0  2954.0  19364.0   \n",
              "8      2006   1973.0      879.0   903.0   709.0   843.0  2522.0   6995.0   \n",
              "9      2007   1918.0     1761.0  1431.0   760.0  1176.0  3519.0   6196.0   \n",
              "10     2008    938.0      527.0   860.0   569.0   383.0  1248.0   5901.0   \n",
              "11     2009   1095.0      354.0   584.0   435.0   673.0  1023.0   2327.0   \n",
              "12     2010   1697.0     1147.0  1176.0   633.0  1026.0  1911.0   5868.0   \n",
              "13     2011    771.0      271.0   427.0   465.0   528.0  1083.0   2445.0   \n",
              "14     2012   1203.0      438.0   484.0   473.0   855.0  1875.0   3095.0   \n",
              "15     2013   1181.0      374.0   738.0   518.0   796.0  1450.0   2531.0   \n",
              "16     2014   1573.0      473.0  1010.0   632.0   673.0  1628.0   2766.0   \n",
              "17     2015   2042.0     1047.0   572.0   762.0   407.0  1287.0   2817.0   \n",
              "18     2016   4657.0     1559.0  2024.0  1075.0   895.0  1663.0   6120.0   \n",
              "19     2017    796.0      379.0   736.0   618.0   805.0  1759.0   7986.0   \n",
              "20     2018   1444.0      888.0  1359.0   513.0   772.0  1980.0   4788.0   \n",
              "21     2019   1419.0     1368.0  3383.0  1702.0   854.0  1880.0   5318.0   \n",
              "22     2020   1200.0     1196.0  1641.0   789.0   829.0  2248.0   6803.0   \n",
              "23     2021    794.0      864.0   643.0   615.0  1166.0  2305.0   4977.0   \n",
              "24     2022   1226.0      584.0   490.0   384.0  2287.0  2562.0   5373.0   \n",
              "25     2023   1056.0      734.0  1019.0   768.0  1692.0  3075.0   5772.0   \n",
              "26     2024   2049.0     3157.0  2654.0  1117.0  1670.0  2842.0  11434.0   \n",
              "27  Máximo*   4657.0     1761.0  3383.0  1702.0  3131.0  9179.0  19364.0   \n",
              "28   Média*   1527.0      807.0  1034.0   659.0  1092.0  2697.0   6164.0   \n",
              "29  Mínimo*     87.0      182.0   130.0    70.0   383.0  1023.0   1510.0   \n",
              "\n",
              "     Agosto  Setembro  Outubro  Novembro  Dezembro     Total  \n",
              "0   20075.0   19214.0   8777.0    3833.0    2547.0   59187.0  \n",
              "1   21525.0   16106.0  12794.0    4449.0    1703.0   62858.0  \n",
              "2   12791.0   10062.0  10226.0    5497.0    3175.0   48168.0  \n",
              "3   17679.0   15528.0  14292.0    8346.0    4256.0   69675.0  \n",
              "4   43484.0   48549.0  27110.0   23660.0    9174.0  169261.0  \n",
              "5   34765.0   47789.0  25341.0   19631.0   13813.0  174400.0  \n",
              "6   43320.0   71522.0  23928.0   26424.0   16924.0  218637.0  \n",
              "7   63764.0   68560.0  26624.0   16790.0    6966.0  213720.0  \n",
              "8   34208.0   51028.0  18309.0   17474.0    8579.0  144422.0  \n",
              "9   46385.0   73141.0  28731.0   16025.0    5437.0  186480.0  \n",
              "10  21445.0   26469.0  23518.0   15450.0    6145.0  103453.0  \n",
              "11   9732.0   20527.0  19323.0   19104.0    6505.0   81682.0  \n",
              "12  45018.0   43933.0  14798.0   12167.0    5240.0  134614.0  \n",
              "13   8002.0   16987.0   9760.0    9815.0    7632.0   58186.0  \n",
              "14  20687.0   24067.0  14814.0   13259.0    5469.0   86719.0  \n",
              "15   9444.0   16786.0  10242.0    6615.0    8013.0   58688.0  \n",
              "16  20113.0   20522.0  13221.0   12169.0    7773.0   82553.0  \n",
              "17  20471.0   29326.0  19469.0   16935.0   11303.0  106438.0  \n",
              "18  18340.0   20460.0  14234.0   11610.0    5124.0   87761.0  \n",
              "19  21244.0   36569.0  14457.0   14105.0    7985.0  107439.0  \n",
              "20  10421.0   24803.0  10654.0    8881.0    1842.0   68345.0  \n",
              "21  30900.0   19925.0   7855.0   11297.0    3275.0   89176.0  \n",
              "22  29307.0   32017.0  17326.0    6321.0    3484.0  103161.0  \n",
              "23  28060.0   16742.0  11549.0    5779.0    1596.0   75090.0  \n",
              "24  33116.0   41282.0  13911.0   11062.0    2756.0  115033.0  \n",
              "25  17373.0   26452.0  22061.0   13943.0    4701.0   98646.0  \n",
              "26  38266.0   28875.0      NaN       NaN       NaN   92064.0  \n",
              "27  63764.0   73141.0  28731.0   26424.0   16924.0  218637.0  \n",
              "28  26218.0   32245.0  16666.0   12717.0    6208.0  107838.0  \n",
              "29   8002.0   10062.0   7855.0    3833.0    1596.0   48168.0  "
            ]
          },
          "execution_count": 15,
          "metadata": {},
          "output_type": "execute_result"
        }
      ],
      "source": [
        "#Renomeando a coluna só pra facilitar a vida\n",
        "historico_desmatamento.rename(columns={\"Unnamed: 0\": \"Anos\"}, inplace=True)\n",
        "historico_desmatamento"
      ]
    },
    {
      "cell_type": "code",
      "execution_count": 16,
      "metadata": {
        "id": "mUlnJHSAkbT8"
      },
      "outputs": [],
      "source": [
        "#Tirando os valores de máximo, média e mínimo\n",
        "historico_desmatamento = historico_desmatamento.drop([27,28,29])"
      ]
    },
    {
      "cell_type": "code",
      "execution_count": 17,
      "metadata": {
        "id": "WtIeAXW5kbT9",
        "outputId": "3ebe6090-b229-47f0-ec3a-74d0d4f0a5e5"
      },
      "outputs": [
        {
          "data": {
            "text/html": [
              "<div>\n",
              "<style scoped>\n",
              "    .dataframe tbody tr th:only-of-type {\n",
              "        vertical-align: middle;\n",
              "    }\n",
              "\n",
              "    .dataframe tbody tr th {\n",
              "        vertical-align: top;\n",
              "    }\n",
              "\n",
              "    .dataframe thead th {\n",
              "        text-align: right;\n",
              "    }\n",
              "</style>\n",
              "<table border=\"1\" class=\"dataframe\">\n",
              "  <thead>\n",
              "    <tr style=\"text-align: right;\">\n",
              "      <th></th>\n",
              "      <th>Anos</th>\n",
              "      <th>Janeiro</th>\n",
              "      <th>Fevereiro</th>\n",
              "      <th>Março</th>\n",
              "      <th>Abril</th>\n",
              "      <th>Maio</th>\n",
              "      <th>Junho</th>\n",
              "      <th>Julho</th>\n",
              "      <th>Agosto</th>\n",
              "      <th>Setembro</th>\n",
              "      <th>Outubro</th>\n",
              "      <th>Novembro</th>\n",
              "      <th>Dezembro</th>\n",
              "      <th>Total</th>\n",
              "      <th>Variação Percentual Queimadas</th>\n",
              "    </tr>\n",
              "  </thead>\n",
              "  <tbody>\n",
              "    <tr>\n",
              "      <th>0</th>\n",
              "      <td>1998</td>\n",
              "      <td>NaN</td>\n",
              "      <td>NaN</td>\n",
              "      <td>NaN</td>\n",
              "      <td>NaN</td>\n",
              "      <td>NaN</td>\n",
              "      <td>1549.0</td>\n",
              "      <td>3192.0</td>\n",
              "      <td>20075.0</td>\n",
              "      <td>19214.0</td>\n",
              "      <td>8777.0</td>\n",
              "      <td>3833.0</td>\n",
              "      <td>2547.0</td>\n",
              "      <td>59187.0</td>\n",
              "      <td>NaN</td>\n",
              "    </tr>\n",
              "    <tr>\n",
              "      <th>1</th>\n",
              "      <td>1999</td>\n",
              "      <td>160.0</td>\n",
              "      <td>358.0</td>\n",
              "      <td>130.0</td>\n",
              "      <td>70.0</td>\n",
              "      <td>449.0</td>\n",
              "      <td>1439.0</td>\n",
              "      <td>3675.0</td>\n",
              "      <td>21525.0</td>\n",
              "      <td>16106.0</td>\n",
              "      <td>12794.0</td>\n",
              "      <td>4449.0</td>\n",
              "      <td>1703.0</td>\n",
              "      <td>62858.0</td>\n",
              "      <td>6.202376</td>\n",
              "    </tr>\n",
              "    <tr>\n",
              "      <th>2</th>\n",
              "      <td>2000</td>\n",
              "      <td>87.0</td>\n",
              "      <td>182.0</td>\n",
              "      <td>405.0</td>\n",
              "      <td>92.0</td>\n",
              "      <td>930.0</td>\n",
              "      <td>3211.0</td>\n",
              "      <td>1510.0</td>\n",
              "      <td>12791.0</td>\n",
              "      <td>10062.0</td>\n",
              "      <td>10226.0</td>\n",
              "      <td>5497.0</td>\n",
              "      <td>3175.0</td>\n",
              "      <td>48168.0</td>\n",
              "      <td>-23.370136</td>\n",
              "    </tr>\n",
              "    <tr>\n",
              "      <th>3</th>\n",
              "      <td>2001</td>\n",
              "      <td>165.0</td>\n",
              "      <td>699.0</td>\n",
              "      <td>1134.0</td>\n",
              "      <td>617.0</td>\n",
              "      <td>916.0</td>\n",
              "      <td>4227.0</td>\n",
              "      <td>1816.0</td>\n",
              "      <td>17679.0</td>\n",
              "      <td>15528.0</td>\n",
              "      <td>14292.0</td>\n",
              "      <td>8346.0</td>\n",
              "      <td>4256.0</td>\n",
              "      <td>69675.0</td>\n",
              "      <td>44.649975</td>\n",
              "    </tr>\n",
              "    <tr>\n",
              "      <th>4</th>\n",
              "      <td>2002</td>\n",
              "      <td>590.0</td>\n",
              "      <td>667.0</td>\n",
              "      <td>901.0</td>\n",
              "      <td>405.0</td>\n",
              "      <td>1490.0</td>\n",
              "      <td>5702.0</td>\n",
              "      <td>7529.0</td>\n",
              "      <td>43484.0</td>\n",
              "      <td>48549.0</td>\n",
              "      <td>27110.0</td>\n",
              "      <td>23660.0</td>\n",
              "      <td>9174.0</td>\n",
              "      <td>169261.0</td>\n",
              "      <td>142.929315</td>\n",
              "    </tr>\n",
              "    <tr>\n",
              "      <th>5</th>\n",
              "      <td>2003</td>\n",
              "      <td>3704.0</td>\n",
              "      <td>1573.0</td>\n",
              "      <td>1997.0</td>\n",
              "      <td>1038.0</td>\n",
              "      <td>1983.0</td>\n",
              "      <td>6848.0</td>\n",
              "      <td>15918.0</td>\n",
              "      <td>34765.0</td>\n",
              "      <td>47789.0</td>\n",
              "      <td>25341.0</td>\n",
              "      <td>19631.0</td>\n",
              "      <td>13813.0</td>\n",
              "      <td>174400.0</td>\n",
              "      <td>3.036139</td>\n",
              "    </tr>\n",
              "    <tr>\n",
              "      <th>6</th>\n",
              "      <td>2004</td>\n",
              "      <td>2178.0</td>\n",
              "      <td>805.0</td>\n",
              "      <td>1035.0</td>\n",
              "      <td>1012.0</td>\n",
              "      <td>3131.0</td>\n",
              "      <td>9179.0</td>\n",
              "      <td>19179.0</td>\n",
              "      <td>43320.0</td>\n",
              "      <td>71522.0</td>\n",
              "      <td>23928.0</td>\n",
              "      <td>26424.0</td>\n",
              "      <td>16924.0</td>\n",
              "      <td>218637.0</td>\n",
              "      <td>25.365252</td>\n",
              "    </tr>\n",
              "    <tr>\n",
              "      <th>7</th>\n",
              "      <td>2005</td>\n",
              "      <td>4314.0</td>\n",
              "      <td>1048.0</td>\n",
              "      <td>758.0</td>\n",
              "      <td>832.0</td>\n",
              "      <td>1746.0</td>\n",
              "      <td>2954.0</td>\n",
              "      <td>19364.0</td>\n",
              "      <td>63764.0</td>\n",
              "      <td>68560.0</td>\n",
              "      <td>26624.0</td>\n",
              "      <td>16790.0</td>\n",
              "      <td>6966.0</td>\n",
              "      <td>213720.0</td>\n",
              "      <td>-2.248933</td>\n",
              "    </tr>\n",
              "    <tr>\n",
              "      <th>8</th>\n",
              "      <td>2006</td>\n",
              "      <td>1973.0</td>\n",
              "      <td>879.0</td>\n",
              "      <td>903.0</td>\n",
              "      <td>709.0</td>\n",
              "      <td>843.0</td>\n",
              "      <td>2522.0</td>\n",
              "      <td>6995.0</td>\n",
              "      <td>34208.0</td>\n",
              "      <td>51028.0</td>\n",
              "      <td>18309.0</td>\n",
              "      <td>17474.0</td>\n",
              "      <td>8579.0</td>\n",
              "      <td>144422.0</td>\n",
              "      <td>-32.424668</td>\n",
              "    </tr>\n",
              "    <tr>\n",
              "      <th>9</th>\n",
              "      <td>2007</td>\n",
              "      <td>1918.0</td>\n",
              "      <td>1761.0</td>\n",
              "      <td>1431.0</td>\n",
              "      <td>760.0</td>\n",
              "      <td>1176.0</td>\n",
              "      <td>3519.0</td>\n",
              "      <td>6196.0</td>\n",
              "      <td>46385.0</td>\n",
              "      <td>73141.0</td>\n",
              "      <td>28731.0</td>\n",
              "      <td>16025.0</td>\n",
              "      <td>5437.0</td>\n",
              "      <td>186480.0</td>\n",
              "      <td>29.121602</td>\n",
              "    </tr>\n",
              "    <tr>\n",
              "      <th>10</th>\n",
              "      <td>2008</td>\n",
              "      <td>938.0</td>\n",
              "      <td>527.0</td>\n",
              "      <td>860.0</td>\n",
              "      <td>569.0</td>\n",
              "      <td>383.0</td>\n",
              "      <td>1248.0</td>\n",
              "      <td>5901.0</td>\n",
              "      <td>21445.0</td>\n",
              "      <td>26469.0</td>\n",
              "      <td>23518.0</td>\n",
              "      <td>15450.0</td>\n",
              "      <td>6145.0</td>\n",
              "      <td>103453.0</td>\n",
              "      <td>-44.523273</td>\n",
              "    </tr>\n",
              "    <tr>\n",
              "      <th>11</th>\n",
              "      <td>2009</td>\n",
              "      <td>1095.0</td>\n",
              "      <td>354.0</td>\n",
              "      <td>584.0</td>\n",
              "      <td>435.0</td>\n",
              "      <td>673.0</td>\n",
              "      <td>1023.0</td>\n",
              "      <td>2327.0</td>\n",
              "      <td>9732.0</td>\n",
              "      <td>20527.0</td>\n",
              "      <td>19323.0</td>\n",
              "      <td>19104.0</td>\n",
              "      <td>6505.0</td>\n",
              "      <td>81682.0</td>\n",
              "      <td>-21.044339</td>\n",
              "    </tr>\n",
              "    <tr>\n",
              "      <th>12</th>\n",
              "      <td>2010</td>\n",
              "      <td>1697.0</td>\n",
              "      <td>1147.0</td>\n",
              "      <td>1176.0</td>\n",
              "      <td>633.0</td>\n",
              "      <td>1026.0</td>\n",
              "      <td>1911.0</td>\n",
              "      <td>5868.0</td>\n",
              "      <td>45018.0</td>\n",
              "      <td>43933.0</td>\n",
              "      <td>14798.0</td>\n",
              "      <td>12167.0</td>\n",
              "      <td>5240.0</td>\n",
              "      <td>134614.0</td>\n",
              "      <td>64.802527</td>\n",
              "    </tr>\n",
              "    <tr>\n",
              "      <th>13</th>\n",
              "      <td>2011</td>\n",
              "      <td>771.0</td>\n",
              "      <td>271.0</td>\n",
              "      <td>427.0</td>\n",
              "      <td>465.0</td>\n",
              "      <td>528.0</td>\n",
              "      <td>1083.0</td>\n",
              "      <td>2445.0</td>\n",
              "      <td>8002.0</td>\n",
              "      <td>16987.0</td>\n",
              "      <td>9760.0</td>\n",
              "      <td>9815.0</td>\n",
              "      <td>7632.0</td>\n",
              "      <td>58186.0</td>\n",
              "      <td>-56.775670</td>\n",
              "    </tr>\n",
              "    <tr>\n",
              "      <th>14</th>\n",
              "      <td>2012</td>\n",
              "      <td>1203.0</td>\n",
              "      <td>438.0</td>\n",
              "      <td>484.0</td>\n",
              "      <td>473.0</td>\n",
              "      <td>855.0</td>\n",
              "      <td>1875.0</td>\n",
              "      <td>3095.0</td>\n",
              "      <td>20687.0</td>\n",
              "      <td>24067.0</td>\n",
              "      <td>14814.0</td>\n",
              "      <td>13259.0</td>\n",
              "      <td>5469.0</td>\n",
              "      <td>86719.0</td>\n",
              "      <td>49.037569</td>\n",
              "    </tr>\n",
              "    <tr>\n",
              "      <th>15</th>\n",
              "      <td>2013</td>\n",
              "      <td>1181.0</td>\n",
              "      <td>374.0</td>\n",
              "      <td>738.0</td>\n",
              "      <td>518.0</td>\n",
              "      <td>796.0</td>\n",
              "      <td>1450.0</td>\n",
              "      <td>2531.0</td>\n",
              "      <td>9444.0</td>\n",
              "      <td>16786.0</td>\n",
              "      <td>10242.0</td>\n",
              "      <td>6615.0</td>\n",
              "      <td>8013.0</td>\n",
              "      <td>58688.0</td>\n",
              "      <td>-32.323943</td>\n",
              "    </tr>\n",
              "    <tr>\n",
              "      <th>16</th>\n",
              "      <td>2014</td>\n",
              "      <td>1573.0</td>\n",
              "      <td>473.0</td>\n",
              "      <td>1010.0</td>\n",
              "      <td>632.0</td>\n",
              "      <td>673.0</td>\n",
              "      <td>1628.0</td>\n",
              "      <td>2766.0</td>\n",
              "      <td>20113.0</td>\n",
              "      <td>20522.0</td>\n",
              "      <td>13221.0</td>\n",
              "      <td>12169.0</td>\n",
              "      <td>7773.0</td>\n",
              "      <td>82553.0</td>\n",
              "      <td>40.664190</td>\n",
              "    </tr>\n",
              "    <tr>\n",
              "      <th>17</th>\n",
              "      <td>2015</td>\n",
              "      <td>2042.0</td>\n",
              "      <td>1047.0</td>\n",
              "      <td>572.0</td>\n",
              "      <td>762.0</td>\n",
              "      <td>407.0</td>\n",
              "      <td>1287.0</td>\n",
              "      <td>2817.0</td>\n",
              "      <td>20471.0</td>\n",
              "      <td>29326.0</td>\n",
              "      <td>19469.0</td>\n",
              "      <td>16935.0</td>\n",
              "      <td>11303.0</td>\n",
              "      <td>106438.0</td>\n",
              "      <td>28.932928</td>\n",
              "    </tr>\n",
              "    <tr>\n",
              "      <th>18</th>\n",
              "      <td>2016</td>\n",
              "      <td>4657.0</td>\n",
              "      <td>1559.0</td>\n",
              "      <td>2024.0</td>\n",
              "      <td>1075.0</td>\n",
              "      <td>895.0</td>\n",
              "      <td>1663.0</td>\n",
              "      <td>6120.0</td>\n",
              "      <td>18340.0</td>\n",
              "      <td>20460.0</td>\n",
              "      <td>14234.0</td>\n",
              "      <td>11610.0</td>\n",
              "      <td>5124.0</td>\n",
              "      <td>87761.0</td>\n",
              "      <td>-17.547305</td>\n",
              "    </tr>\n",
              "    <tr>\n",
              "      <th>19</th>\n",
              "      <td>2017</td>\n",
              "      <td>796.0</td>\n",
              "      <td>379.0</td>\n",
              "      <td>736.0</td>\n",
              "      <td>618.0</td>\n",
              "      <td>805.0</td>\n",
              "      <td>1759.0</td>\n",
              "      <td>7986.0</td>\n",
              "      <td>21244.0</td>\n",
              "      <td>36569.0</td>\n",
              "      <td>14457.0</td>\n",
              "      <td>14105.0</td>\n",
              "      <td>7985.0</td>\n",
              "      <td>107439.0</td>\n",
              "      <td>22.422260</td>\n",
              "    </tr>\n",
              "    <tr>\n",
              "      <th>20</th>\n",
              "      <td>2018</td>\n",
              "      <td>1444.0</td>\n",
              "      <td>888.0</td>\n",
              "      <td>1359.0</td>\n",
              "      <td>513.0</td>\n",
              "      <td>772.0</td>\n",
              "      <td>1980.0</td>\n",
              "      <td>4788.0</td>\n",
              "      <td>10421.0</td>\n",
              "      <td>24803.0</td>\n",
              "      <td>10654.0</td>\n",
              "      <td>8881.0</td>\n",
              "      <td>1842.0</td>\n",
              "      <td>68345.0</td>\n",
              "      <td>-36.387159</td>\n",
              "    </tr>\n",
              "    <tr>\n",
              "      <th>21</th>\n",
              "      <td>2019</td>\n",
              "      <td>1419.0</td>\n",
              "      <td>1368.0</td>\n",
              "      <td>3383.0</td>\n",
              "      <td>1702.0</td>\n",
              "      <td>854.0</td>\n",
              "      <td>1880.0</td>\n",
              "      <td>5318.0</td>\n",
              "      <td>30900.0</td>\n",
              "      <td>19925.0</td>\n",
              "      <td>7855.0</td>\n",
              "      <td>11297.0</td>\n",
              "      <td>3275.0</td>\n",
              "      <td>89176.0</td>\n",
              "      <td>30.479186</td>\n",
              "    </tr>\n",
              "    <tr>\n",
              "      <th>22</th>\n",
              "      <td>2020</td>\n",
              "      <td>1200.0</td>\n",
              "      <td>1196.0</td>\n",
              "      <td>1641.0</td>\n",
              "      <td>789.0</td>\n",
              "      <td>829.0</td>\n",
              "      <td>2248.0</td>\n",
              "      <td>6803.0</td>\n",
              "      <td>29307.0</td>\n",
              "      <td>32017.0</td>\n",
              "      <td>17326.0</td>\n",
              "      <td>6321.0</td>\n",
              "      <td>3484.0</td>\n",
              "      <td>103161.0</td>\n",
              "      <td>15.682471</td>\n",
              "    </tr>\n",
              "    <tr>\n",
              "      <th>23</th>\n",
              "      <td>2021</td>\n",
              "      <td>794.0</td>\n",
              "      <td>864.0</td>\n",
              "      <td>643.0</td>\n",
              "      <td>615.0</td>\n",
              "      <td>1166.0</td>\n",
              "      <td>2305.0</td>\n",
              "      <td>4977.0</td>\n",
              "      <td>28060.0</td>\n",
              "      <td>16742.0</td>\n",
              "      <td>11549.0</td>\n",
              "      <td>5779.0</td>\n",
              "      <td>1596.0</td>\n",
              "      <td>75090.0</td>\n",
              "      <td>-27.210865</td>\n",
              "    </tr>\n",
              "    <tr>\n",
              "      <th>24</th>\n",
              "      <td>2022</td>\n",
              "      <td>1226.0</td>\n",
              "      <td>584.0</td>\n",
              "      <td>490.0</td>\n",
              "      <td>384.0</td>\n",
              "      <td>2287.0</td>\n",
              "      <td>2562.0</td>\n",
              "      <td>5373.0</td>\n",
              "      <td>33116.0</td>\n",
              "      <td>41282.0</td>\n",
              "      <td>13911.0</td>\n",
              "      <td>11062.0</td>\n",
              "      <td>2756.0</td>\n",
              "      <td>115033.0</td>\n",
              "      <td>53.193501</td>\n",
              "    </tr>\n",
              "    <tr>\n",
              "      <th>25</th>\n",
              "      <td>2023</td>\n",
              "      <td>1056.0</td>\n",
              "      <td>734.0</td>\n",
              "      <td>1019.0</td>\n",
              "      <td>768.0</td>\n",
              "      <td>1692.0</td>\n",
              "      <td>3075.0</td>\n",
              "      <td>5772.0</td>\n",
              "      <td>17373.0</td>\n",
              "      <td>26452.0</td>\n",
              "      <td>22061.0</td>\n",
              "      <td>13943.0</td>\n",
              "      <td>4701.0</td>\n",
              "      <td>98646.0</td>\n",
              "      <td>-14.245477</td>\n",
              "    </tr>\n",
              "    <tr>\n",
              "      <th>26</th>\n",
              "      <td>2024</td>\n",
              "      <td>2049.0</td>\n",
              "      <td>3157.0</td>\n",
              "      <td>2654.0</td>\n",
              "      <td>1117.0</td>\n",
              "      <td>1670.0</td>\n",
              "      <td>2842.0</td>\n",
              "      <td>11434.0</td>\n",
              "      <td>38266.0</td>\n",
              "      <td>28875.0</td>\n",
              "      <td>NaN</td>\n",
              "      <td>NaN</td>\n",
              "      <td>NaN</td>\n",
              "      <td>92064.0</td>\n",
              "      <td>-6.672344</td>\n",
              "    </tr>\n",
              "  </tbody>\n",
              "</table>\n",
              "</div>"
            ],
            "text/plain": [
              "    Anos  Janeiro  Fevereiro   Março   Abril    Maio   Junho    Julho  \\\n",
              "0   1998      NaN        NaN     NaN     NaN     NaN  1549.0   3192.0   \n",
              "1   1999    160.0      358.0   130.0    70.0   449.0  1439.0   3675.0   \n",
              "2   2000     87.0      182.0   405.0    92.0   930.0  3211.0   1510.0   \n",
              "3   2001    165.0      699.0  1134.0   617.0   916.0  4227.0   1816.0   \n",
              "4   2002    590.0      667.0   901.0   405.0  1490.0  5702.0   7529.0   \n",
              "5   2003   3704.0     1573.0  1997.0  1038.0  1983.0  6848.0  15918.0   \n",
              "6   2004   2178.0      805.0  1035.0  1012.0  3131.0  9179.0  19179.0   \n",
              "7   2005   4314.0     1048.0   758.0   832.0  1746.0  2954.0  19364.0   \n",
              "8   2006   1973.0      879.0   903.0   709.0   843.0  2522.0   6995.0   \n",
              "9   2007   1918.0     1761.0  1431.0   760.0  1176.0  3519.0   6196.0   \n",
              "10  2008    938.0      527.0   860.0   569.0   383.0  1248.0   5901.0   \n",
              "11  2009   1095.0      354.0   584.0   435.0   673.0  1023.0   2327.0   \n",
              "12  2010   1697.0     1147.0  1176.0   633.0  1026.0  1911.0   5868.0   \n",
              "13  2011    771.0      271.0   427.0   465.0   528.0  1083.0   2445.0   \n",
              "14  2012   1203.0      438.0   484.0   473.0   855.0  1875.0   3095.0   \n",
              "15  2013   1181.0      374.0   738.0   518.0   796.0  1450.0   2531.0   \n",
              "16  2014   1573.0      473.0  1010.0   632.0   673.0  1628.0   2766.0   \n",
              "17  2015   2042.0     1047.0   572.0   762.0   407.0  1287.0   2817.0   \n",
              "18  2016   4657.0     1559.0  2024.0  1075.0   895.0  1663.0   6120.0   \n",
              "19  2017    796.0      379.0   736.0   618.0   805.0  1759.0   7986.0   \n",
              "20  2018   1444.0      888.0  1359.0   513.0   772.0  1980.0   4788.0   \n",
              "21  2019   1419.0     1368.0  3383.0  1702.0   854.0  1880.0   5318.0   \n",
              "22  2020   1200.0     1196.0  1641.0   789.0   829.0  2248.0   6803.0   \n",
              "23  2021    794.0      864.0   643.0   615.0  1166.0  2305.0   4977.0   \n",
              "24  2022   1226.0      584.0   490.0   384.0  2287.0  2562.0   5373.0   \n",
              "25  2023   1056.0      734.0  1019.0   768.0  1692.0  3075.0   5772.0   \n",
              "26  2024   2049.0     3157.0  2654.0  1117.0  1670.0  2842.0  11434.0   \n",
              "\n",
              "     Agosto  Setembro  Outubro  Novembro  Dezembro     Total  \\\n",
              "0   20075.0   19214.0   8777.0    3833.0    2547.0   59187.0   \n",
              "1   21525.0   16106.0  12794.0    4449.0    1703.0   62858.0   \n",
              "2   12791.0   10062.0  10226.0    5497.0    3175.0   48168.0   \n",
              "3   17679.0   15528.0  14292.0    8346.0    4256.0   69675.0   \n",
              "4   43484.0   48549.0  27110.0   23660.0    9174.0  169261.0   \n",
              "5   34765.0   47789.0  25341.0   19631.0   13813.0  174400.0   \n",
              "6   43320.0   71522.0  23928.0   26424.0   16924.0  218637.0   \n",
              "7   63764.0   68560.0  26624.0   16790.0    6966.0  213720.0   \n",
              "8   34208.0   51028.0  18309.0   17474.0    8579.0  144422.0   \n",
              "9   46385.0   73141.0  28731.0   16025.0    5437.0  186480.0   \n",
              "10  21445.0   26469.0  23518.0   15450.0    6145.0  103453.0   \n",
              "11   9732.0   20527.0  19323.0   19104.0    6505.0   81682.0   \n",
              "12  45018.0   43933.0  14798.0   12167.0    5240.0  134614.0   \n",
              "13   8002.0   16987.0   9760.0    9815.0    7632.0   58186.0   \n",
              "14  20687.0   24067.0  14814.0   13259.0    5469.0   86719.0   \n",
              "15   9444.0   16786.0  10242.0    6615.0    8013.0   58688.0   \n",
              "16  20113.0   20522.0  13221.0   12169.0    7773.0   82553.0   \n",
              "17  20471.0   29326.0  19469.0   16935.0   11303.0  106438.0   \n",
              "18  18340.0   20460.0  14234.0   11610.0    5124.0   87761.0   \n",
              "19  21244.0   36569.0  14457.0   14105.0    7985.0  107439.0   \n",
              "20  10421.0   24803.0  10654.0    8881.0    1842.0   68345.0   \n",
              "21  30900.0   19925.0   7855.0   11297.0    3275.0   89176.0   \n",
              "22  29307.0   32017.0  17326.0    6321.0    3484.0  103161.0   \n",
              "23  28060.0   16742.0  11549.0    5779.0    1596.0   75090.0   \n",
              "24  33116.0   41282.0  13911.0   11062.0    2756.0  115033.0   \n",
              "25  17373.0   26452.0  22061.0   13943.0    4701.0   98646.0   \n",
              "26  38266.0   28875.0      NaN       NaN       NaN   92064.0   \n",
              "\n",
              "    Variação Percentual Queimadas  \n",
              "0                             NaN  \n",
              "1                        6.202376  \n",
              "2                      -23.370136  \n",
              "3                       44.649975  \n",
              "4                      142.929315  \n",
              "5                        3.036139  \n",
              "6                       25.365252  \n",
              "7                       -2.248933  \n",
              "8                      -32.424668  \n",
              "9                       29.121602  \n",
              "10                     -44.523273  \n",
              "11                     -21.044339  \n",
              "12                      64.802527  \n",
              "13                     -56.775670  \n",
              "14                      49.037569  \n",
              "15                     -32.323943  \n",
              "16                      40.664190  \n",
              "17                      28.932928  \n",
              "18                     -17.547305  \n",
              "19                      22.422260  \n",
              "20                     -36.387159  \n",
              "21                      30.479186  \n",
              "22                      15.682471  \n",
              "23                     -27.210865  \n",
              "24                      53.193501  \n",
              "25                     -14.245477  \n",
              "26                      -6.672344  "
            ]
          },
          "execution_count": 17,
          "metadata": {},
          "output_type": "execute_result"
        }
      ],
      "source": [
        "#Criando uma coluna que mostra a variação percentual no número de queimadas ano a ano.\n",
        "\n",
        "historico_desmatamento[\"Variação Percentual Queimadas\"] = historico_desmatamento[\"Total\"].pct_change()*100\n",
        "historico_desmatamento"
      ]
    },
    {
      "cell_type": "code",
      "execution_count": null,
      "metadata": {
        "id": "ZYhwfeNWkbT9"
      },
      "outputs": [],
      "source": []
    },
    {
      "cell_type": "markdown",
      "metadata": {
        "id": "uWLDwPIOkbT9"
      },
      "source": [
        "## Número de queimadas\n",
        "#### As queimadas na amazônia também tiveram a sua variação, em suma, pode-se dizer que tiveram seus picos e vales ao longo dos anos de 2004 a 2024. A maior variação percentual foi no ano de 2010, mas não significa necessariamente que foi o ano com o maior número de queimadas. Observa-se então que, apesar das políticas para o desmatamento, as queimadas ainda são uma questão que está precária em relação a políticas e eficiência do governo sobre. Isso mesmo em governos como o do PT que teve uma enfoque alto na implementação de políticas contra o desmatamento. Outro adendo é de que em 2022 já houve uma volta a patamares anteriores semelhantes em termos de variação percentual"
      ]
    },
    {
      "cell_type": "code",
      "execution_count": 18,
      "metadata": {
        "id": "Qrs4biNokbT9",
        "outputId": "ae92280f-b48c-4a0d-f34c-eeb791ac396a"
      },
      "outputs": [
        {
          "data": {
            "application/vnd.plotly.v1+json": {
              "config": {
                "plotlyServerURL": "https://plot.ly"
              },
              "data": [
                {
                  "hovertemplate": "Anos=%{x}<br>Variação Percentual Queimadas=%{y}<extra></extra>",
                  "legendgroup": "",
                  "line": {
                    "color": "red",
                    "dash": "solid"
                  },
                  "marker": {
                    "symbol": "circle"
                  },
                  "mode": "lines",
                  "name": "",
                  "orientation": "v",
                  "showlegend": false,
                  "type": "scatter",
                  "x": [
                    "1998",
                    "1999",
                    "2000",
                    "2001",
                    "2002",
                    "2003",
                    "2004",
                    "2005",
                    "2006",
                    "2007",
                    "2008",
                    "2009",
                    "2010",
                    "2011",
                    "2012",
                    "2013",
                    "2014",
                    "2015",
                    "2016",
                    "2017",
                    "2018",
                    "2019",
                    "2020",
                    "2021",
                    "2022",
                    "2023",
                    "2024"
                  ],
                  "xaxis": "x",
                  "y": [
                    null,
                    6.202375521651704,
                    -23.3701358617837,
                    44.64997508719482,
                    142.9293146752781,
                    3.0361394532703923,
                    25.365252293577978,
                    -2.2489331631882936,
                    -32.424667789631286,
                    29.121601971998736,
                    -44.523273273273276,
                    -21.044338975186804,
                    64.80252687250557,
                    -56.77566969260255,
                    49.03756917471558,
                    -32.32394284989448,
                    40.6641902944384,
                    28.932927937203967,
                    -17.547304534094966,
                    22.422260457378563,
                    -36.38715922523479,
                    30.47918648035701,
                    15.682470619897737,
                    -27.21086457091343,
                    53.19350113197496,
                    -14.24547738475046,
                    -6.672343531415359
                  ],
                  "yaxis": "y"
                }
              ],
              "layout": {
                "legend": {
                  "tracegroupgap": 0
                },
                "template": {
                  "data": {
                    "bar": [
                      {
                        "error_x": {
                          "color": "#f2f5fa"
                        },
                        "error_y": {
                          "color": "#f2f5fa"
                        },
                        "marker": {
                          "line": {
                            "color": "rgb(17,17,17)",
                            "width": 0.5
                          },
                          "pattern": {
                            "fillmode": "overlay",
                            "size": 10,
                            "solidity": 0.2
                          }
                        },
                        "type": "bar"
                      }
                    ],
                    "barpolar": [
                      {
                        "marker": {
                          "line": {
                            "color": "rgb(17,17,17)",
                            "width": 0.5
                          },
                          "pattern": {
                            "fillmode": "overlay",
                            "size": 10,
                            "solidity": 0.2
                          }
                        },
                        "type": "barpolar"
                      }
                    ],
                    "carpet": [
                      {
                        "aaxis": {
                          "endlinecolor": "#A2B1C6",
                          "gridcolor": "#506784",
                          "linecolor": "#506784",
                          "minorgridcolor": "#506784",
                          "startlinecolor": "#A2B1C6"
                        },
                        "baxis": {
                          "endlinecolor": "#A2B1C6",
                          "gridcolor": "#506784",
                          "linecolor": "#506784",
                          "minorgridcolor": "#506784",
                          "startlinecolor": "#A2B1C6"
                        },
                        "type": "carpet"
                      }
                    ],
                    "choropleth": [
                      {
                        "colorbar": {
                          "outlinewidth": 0,
                          "ticks": ""
                        },
                        "type": "choropleth"
                      }
                    ],
                    "contour": [
                      {
                        "colorbar": {
                          "outlinewidth": 0,
                          "ticks": ""
                        },
                        "colorscale": [
                          [
                            0,
                            "#0d0887"
                          ],
                          [
                            0.1111111111111111,
                            "#46039f"
                          ],
                          [
                            0.2222222222222222,
                            "#7201a8"
                          ],
                          [
                            0.3333333333333333,
                            "#9c179e"
                          ],
                          [
                            0.4444444444444444,
                            "#bd3786"
                          ],
                          [
                            0.5555555555555556,
                            "#d8576b"
                          ],
                          [
                            0.6666666666666666,
                            "#ed7953"
                          ],
                          [
                            0.7777777777777778,
                            "#fb9f3a"
                          ],
                          [
                            0.8888888888888888,
                            "#fdca26"
                          ],
                          [
                            1,
                            "#f0f921"
                          ]
                        ],
                        "type": "contour"
                      }
                    ],
                    "contourcarpet": [
                      {
                        "colorbar": {
                          "outlinewidth": 0,
                          "ticks": ""
                        },
                        "type": "contourcarpet"
                      }
                    ],
                    "heatmap": [
                      {
                        "colorbar": {
                          "outlinewidth": 0,
                          "ticks": ""
                        },
                        "colorscale": [
                          [
                            0,
                            "#0d0887"
                          ],
                          [
                            0.1111111111111111,
                            "#46039f"
                          ],
                          [
                            0.2222222222222222,
                            "#7201a8"
                          ],
                          [
                            0.3333333333333333,
                            "#9c179e"
                          ],
                          [
                            0.4444444444444444,
                            "#bd3786"
                          ],
                          [
                            0.5555555555555556,
                            "#d8576b"
                          ],
                          [
                            0.6666666666666666,
                            "#ed7953"
                          ],
                          [
                            0.7777777777777778,
                            "#fb9f3a"
                          ],
                          [
                            0.8888888888888888,
                            "#fdca26"
                          ],
                          [
                            1,
                            "#f0f921"
                          ]
                        ],
                        "type": "heatmap"
                      }
                    ],
                    "heatmapgl": [
                      {
                        "colorbar": {
                          "outlinewidth": 0,
                          "ticks": ""
                        },
                        "colorscale": [
                          [
                            0,
                            "#0d0887"
                          ],
                          [
                            0.1111111111111111,
                            "#46039f"
                          ],
                          [
                            0.2222222222222222,
                            "#7201a8"
                          ],
                          [
                            0.3333333333333333,
                            "#9c179e"
                          ],
                          [
                            0.4444444444444444,
                            "#bd3786"
                          ],
                          [
                            0.5555555555555556,
                            "#d8576b"
                          ],
                          [
                            0.6666666666666666,
                            "#ed7953"
                          ],
                          [
                            0.7777777777777778,
                            "#fb9f3a"
                          ],
                          [
                            0.8888888888888888,
                            "#fdca26"
                          ],
                          [
                            1,
                            "#f0f921"
                          ]
                        ],
                        "type": "heatmapgl"
                      }
                    ],
                    "histogram": [
                      {
                        "marker": {
                          "pattern": {
                            "fillmode": "overlay",
                            "size": 10,
                            "solidity": 0.2
                          }
                        },
                        "type": "histogram"
                      }
                    ],
                    "histogram2d": [
                      {
                        "colorbar": {
                          "outlinewidth": 0,
                          "ticks": ""
                        },
                        "colorscale": [
                          [
                            0,
                            "#0d0887"
                          ],
                          [
                            0.1111111111111111,
                            "#46039f"
                          ],
                          [
                            0.2222222222222222,
                            "#7201a8"
                          ],
                          [
                            0.3333333333333333,
                            "#9c179e"
                          ],
                          [
                            0.4444444444444444,
                            "#bd3786"
                          ],
                          [
                            0.5555555555555556,
                            "#d8576b"
                          ],
                          [
                            0.6666666666666666,
                            "#ed7953"
                          ],
                          [
                            0.7777777777777778,
                            "#fb9f3a"
                          ],
                          [
                            0.8888888888888888,
                            "#fdca26"
                          ],
                          [
                            1,
                            "#f0f921"
                          ]
                        ],
                        "type": "histogram2d"
                      }
                    ],
                    "histogram2dcontour": [
                      {
                        "colorbar": {
                          "outlinewidth": 0,
                          "ticks": ""
                        },
                        "colorscale": [
                          [
                            0,
                            "#0d0887"
                          ],
                          [
                            0.1111111111111111,
                            "#46039f"
                          ],
                          [
                            0.2222222222222222,
                            "#7201a8"
                          ],
                          [
                            0.3333333333333333,
                            "#9c179e"
                          ],
                          [
                            0.4444444444444444,
                            "#bd3786"
                          ],
                          [
                            0.5555555555555556,
                            "#d8576b"
                          ],
                          [
                            0.6666666666666666,
                            "#ed7953"
                          ],
                          [
                            0.7777777777777778,
                            "#fb9f3a"
                          ],
                          [
                            0.8888888888888888,
                            "#fdca26"
                          ],
                          [
                            1,
                            "#f0f921"
                          ]
                        ],
                        "type": "histogram2dcontour"
                      }
                    ],
                    "mesh3d": [
                      {
                        "colorbar": {
                          "outlinewidth": 0,
                          "ticks": ""
                        },
                        "type": "mesh3d"
                      }
                    ],
                    "parcoords": [
                      {
                        "line": {
                          "colorbar": {
                            "outlinewidth": 0,
                            "ticks": ""
                          }
                        },
                        "type": "parcoords"
                      }
                    ],
                    "pie": [
                      {
                        "automargin": true,
                        "type": "pie"
                      }
                    ],
                    "scatter": [
                      {
                        "marker": {
                          "line": {
                            "color": "#283442"
                          }
                        },
                        "type": "scatter"
                      }
                    ],
                    "scatter3d": [
                      {
                        "line": {
                          "colorbar": {
                            "outlinewidth": 0,
                            "ticks": ""
                          }
                        },
                        "marker": {
                          "colorbar": {
                            "outlinewidth": 0,
                            "ticks": ""
                          }
                        },
                        "type": "scatter3d"
                      }
                    ],
                    "scattercarpet": [
                      {
                        "marker": {
                          "colorbar": {
                            "outlinewidth": 0,
                            "ticks": ""
                          }
                        },
                        "type": "scattercarpet"
                      }
                    ],
                    "scattergeo": [
                      {
                        "marker": {
                          "colorbar": {
                            "outlinewidth": 0,
                            "ticks": ""
                          }
                        },
                        "type": "scattergeo"
                      }
                    ],
                    "scattergl": [
                      {
                        "marker": {
                          "line": {
                            "color": "#283442"
                          }
                        },
                        "type": "scattergl"
                      }
                    ],
                    "scattermapbox": [
                      {
                        "marker": {
                          "colorbar": {
                            "outlinewidth": 0,
                            "ticks": ""
                          }
                        },
                        "type": "scattermapbox"
                      }
                    ],
                    "scatterpolar": [
                      {
                        "marker": {
                          "colorbar": {
                            "outlinewidth": 0,
                            "ticks": ""
                          }
                        },
                        "type": "scatterpolar"
                      }
                    ],
                    "scatterpolargl": [
                      {
                        "marker": {
                          "colorbar": {
                            "outlinewidth": 0,
                            "ticks": ""
                          }
                        },
                        "type": "scatterpolargl"
                      }
                    ],
                    "scatterternary": [
                      {
                        "marker": {
                          "colorbar": {
                            "outlinewidth": 0,
                            "ticks": ""
                          }
                        },
                        "type": "scatterternary"
                      }
                    ],
                    "surface": [
                      {
                        "colorbar": {
                          "outlinewidth": 0,
                          "ticks": ""
                        },
                        "colorscale": [
                          [
                            0,
                            "#0d0887"
                          ],
                          [
                            0.1111111111111111,
                            "#46039f"
                          ],
                          [
                            0.2222222222222222,
                            "#7201a8"
                          ],
                          [
                            0.3333333333333333,
                            "#9c179e"
                          ],
                          [
                            0.4444444444444444,
                            "#bd3786"
                          ],
                          [
                            0.5555555555555556,
                            "#d8576b"
                          ],
                          [
                            0.6666666666666666,
                            "#ed7953"
                          ],
                          [
                            0.7777777777777778,
                            "#fb9f3a"
                          ],
                          [
                            0.8888888888888888,
                            "#fdca26"
                          ],
                          [
                            1,
                            "#f0f921"
                          ]
                        ],
                        "type": "surface"
                      }
                    ],
                    "table": [
                      {
                        "cells": {
                          "fill": {
                            "color": "#506784"
                          },
                          "line": {
                            "color": "rgb(17,17,17)"
                          }
                        },
                        "header": {
                          "fill": {
                            "color": "#2a3f5f"
                          },
                          "line": {
                            "color": "rgb(17,17,17)"
                          }
                        },
                        "type": "table"
                      }
                    ]
                  },
                  "layout": {
                    "annotationdefaults": {
                      "arrowcolor": "#f2f5fa",
                      "arrowhead": 0,
                      "arrowwidth": 1
                    },
                    "autotypenumbers": "strict",
                    "coloraxis": {
                      "colorbar": {
                        "outlinewidth": 0,
                        "ticks": ""
                      }
                    },
                    "colorscale": {
                      "diverging": [
                        [
                          0,
                          "#8e0152"
                        ],
                        [
                          0.1,
                          "#c51b7d"
                        ],
                        [
                          0.2,
                          "#de77ae"
                        ],
                        [
                          0.3,
                          "#f1b6da"
                        ],
                        [
                          0.4,
                          "#fde0ef"
                        ],
                        [
                          0.5,
                          "#f7f7f7"
                        ],
                        [
                          0.6,
                          "#e6f5d0"
                        ],
                        [
                          0.7,
                          "#b8e186"
                        ],
                        [
                          0.8,
                          "#7fbc41"
                        ],
                        [
                          0.9,
                          "#4d9221"
                        ],
                        [
                          1,
                          "#276419"
                        ]
                      ],
                      "sequential": [
                        [
                          0,
                          "#0d0887"
                        ],
                        [
                          0.1111111111111111,
                          "#46039f"
                        ],
                        [
                          0.2222222222222222,
                          "#7201a8"
                        ],
                        [
                          0.3333333333333333,
                          "#9c179e"
                        ],
                        [
                          0.4444444444444444,
                          "#bd3786"
                        ],
                        [
                          0.5555555555555556,
                          "#d8576b"
                        ],
                        [
                          0.6666666666666666,
                          "#ed7953"
                        ],
                        [
                          0.7777777777777778,
                          "#fb9f3a"
                        ],
                        [
                          0.8888888888888888,
                          "#fdca26"
                        ],
                        [
                          1,
                          "#f0f921"
                        ]
                      ],
                      "sequentialminus": [
                        [
                          0,
                          "#0d0887"
                        ],
                        [
                          0.1111111111111111,
                          "#46039f"
                        ],
                        [
                          0.2222222222222222,
                          "#7201a8"
                        ],
                        [
                          0.3333333333333333,
                          "#9c179e"
                        ],
                        [
                          0.4444444444444444,
                          "#bd3786"
                        ],
                        [
                          0.5555555555555556,
                          "#d8576b"
                        ],
                        [
                          0.6666666666666666,
                          "#ed7953"
                        ],
                        [
                          0.7777777777777778,
                          "#fb9f3a"
                        ],
                        [
                          0.8888888888888888,
                          "#fdca26"
                        ],
                        [
                          1,
                          "#f0f921"
                        ]
                      ]
                    },
                    "colorway": [
                      "#636efa",
                      "#EF553B",
                      "#00cc96",
                      "#ab63fa",
                      "#FFA15A",
                      "#19d3f3",
                      "#FF6692",
                      "#B6E880",
                      "#FF97FF",
                      "#FECB52"
                    ],
                    "font": {
                      "color": "#f2f5fa"
                    },
                    "geo": {
                      "bgcolor": "rgb(17,17,17)",
                      "lakecolor": "rgb(17,17,17)",
                      "landcolor": "rgb(17,17,17)",
                      "showlakes": true,
                      "showland": true,
                      "subunitcolor": "#506784"
                    },
                    "hoverlabel": {
                      "align": "left"
                    },
                    "hovermode": "closest",
                    "mapbox": {
                      "style": "dark"
                    },
                    "paper_bgcolor": "rgb(17,17,17)",
                    "plot_bgcolor": "rgb(17,17,17)",
                    "polar": {
                      "angularaxis": {
                        "gridcolor": "#506784",
                        "linecolor": "#506784",
                        "ticks": ""
                      },
                      "bgcolor": "rgb(17,17,17)",
                      "radialaxis": {
                        "gridcolor": "#506784",
                        "linecolor": "#506784",
                        "ticks": ""
                      }
                    },
                    "scene": {
                      "xaxis": {
                        "backgroundcolor": "rgb(17,17,17)",
                        "gridcolor": "#506784",
                        "gridwidth": 2,
                        "linecolor": "#506784",
                        "showbackground": true,
                        "ticks": "",
                        "zerolinecolor": "#C8D4E3"
                      },
                      "yaxis": {
                        "backgroundcolor": "rgb(17,17,17)",
                        "gridcolor": "#506784",
                        "gridwidth": 2,
                        "linecolor": "#506784",
                        "showbackground": true,
                        "ticks": "",
                        "zerolinecolor": "#C8D4E3"
                      },
                      "zaxis": {
                        "backgroundcolor": "rgb(17,17,17)",
                        "gridcolor": "#506784",
                        "gridwidth": 2,
                        "linecolor": "#506784",
                        "showbackground": true,
                        "ticks": "",
                        "zerolinecolor": "#C8D4E3"
                      }
                    },
                    "shapedefaults": {
                      "line": {
                        "color": "#f2f5fa"
                      }
                    },
                    "sliderdefaults": {
                      "bgcolor": "#C8D4E3",
                      "bordercolor": "rgb(17,17,17)",
                      "borderwidth": 1,
                      "tickwidth": 0
                    },
                    "ternary": {
                      "aaxis": {
                        "gridcolor": "#506784",
                        "linecolor": "#506784",
                        "ticks": ""
                      },
                      "baxis": {
                        "gridcolor": "#506784",
                        "linecolor": "#506784",
                        "ticks": ""
                      },
                      "bgcolor": "rgb(17,17,17)",
                      "caxis": {
                        "gridcolor": "#506784",
                        "linecolor": "#506784",
                        "ticks": ""
                      }
                    },
                    "title": {
                      "x": 0.05
                    },
                    "updatemenudefaults": {
                      "bgcolor": "#506784",
                      "borderwidth": 0
                    },
                    "xaxis": {
                      "automargin": true,
                      "gridcolor": "#283442",
                      "linecolor": "#506784",
                      "ticks": "",
                      "title": {
                        "standoff": 15
                      },
                      "zerolinecolor": "#283442",
                      "zerolinewidth": 2
                    },
                    "yaxis": {
                      "automargin": true,
                      "gridcolor": "#283442",
                      "linecolor": "#506784",
                      "ticks": "",
                      "title": {
                        "standoff": 15
                      },
                      "zerolinecolor": "#283442",
                      "zerolinewidth": 2
                    }
                  }
                },
                "title": {
                  "font": {
                    "size": 30
                  },
                  "text": "Evolução no número de focos ativos de queimadas"
                },
                "xaxis": {
                  "anchor": "y",
                  "domain": [
                    0,
                    1
                  ],
                  "title": {
                    "font": {
                      "size": 15
                    },
                    "text": "Anos"
                  }
                },
                "yaxis": {
                  "anchor": "x",
                  "domain": [
                    0,
                    1
                  ],
                  "title": {
                    "font": {
                      "size": 15
                    },
                    "text": "Variação percentual do número de focos %"
                  }
                }
              }
            }
          },
          "metadata": {},
          "output_type": "display_data"
        }
      ],
      "source": [
        "#Fazendo o plot do gráfico que mostra a evolução em termos percentuais do número de queimadas comparando ano-a-ano\n",
        "\n",
        "fig = px.line(data_frame= historico_desmatamento, x = historico_desmatamento[\"Anos\"], y = historico_desmatamento[\"Variação Percentual Queimadas\"], template= \"plotly_dark\", color_discrete_sequence=[\"red\"], title=\"Evolução no número de focos ativos de queimadas\")\n",
        "fig.update_xaxes(title_font_size = 15)\n",
        "fig.update_yaxes(title_text = \"Variação percentual do número de focos %\")\n",
        "fig.update_yaxes(title_font_size = 15)\n",
        "fig.update_layout(title_font_size = 30)\n",
        "\n",
        "fig.show()"
      ]
    },
    {
      "cell_type": "markdown",
      "metadata": {
        "id": "GL2Wk-VCkbT-"
      },
      "source": [
        "#### Em números brutos, pode-se observar que em 2005 é o ano em que houve o maior número de queimadas em termos de quantidade total e que após a implementação da política, diminuiu-se drasticamente o número de queimadas, mas que ainda é necessário haver um combate maior já que estão voltando a aumentar."
      ]
    },
    {
      "cell_type": "code",
      "execution_count": 19,
      "metadata": {
        "id": "F9r_eysmkbT-",
        "outputId": "3d953d9a-cdc6-472c-d1ac-394c00b42967"
      },
      "outputs": [
        {
          "data": {
            "application/vnd.plotly.v1+json": {
              "config": {
                "plotlyServerURL": "https://plot.ly"
              },
              "data": [
                {
                  "hovertemplate": "Anos=%{x}<br>Total=%{y}<extra></extra>",
                  "legendgroup": "",
                  "line": {
                    "color": "blue",
                    "dash": "solid"
                  },
                  "marker": {
                    "symbol": "circle"
                  },
                  "mode": "lines",
                  "name": "",
                  "orientation": "v",
                  "showlegend": false,
                  "type": "scatter",
                  "x": [
                    "1998",
                    "1999",
                    "2000",
                    "2001",
                    "2002",
                    "2003",
                    "2004",
                    "2005",
                    "2006",
                    "2007",
                    "2008",
                    "2009",
                    "2010",
                    "2011",
                    "2012",
                    "2013",
                    "2014",
                    "2015",
                    "2016",
                    "2017",
                    "2018",
                    "2019",
                    "2020",
                    "2021",
                    "2022",
                    "2023",
                    "2024"
                  ],
                  "xaxis": "x",
                  "y": [
                    59187,
                    62858,
                    48168,
                    69675,
                    169261,
                    174400,
                    218637,
                    213720,
                    144422,
                    186480,
                    103453,
                    81682,
                    134614,
                    58186,
                    86719,
                    58688,
                    82553,
                    106438,
                    87761,
                    107439,
                    68345,
                    89176,
                    103161,
                    75090,
                    115033,
                    98646,
                    92064
                  ],
                  "yaxis": "y"
                }
              ],
              "layout": {
                "legend": {
                  "tracegroupgap": 0
                },
                "template": {
                  "data": {
                    "bar": [
                      {
                        "error_x": {
                          "color": "#f2f5fa"
                        },
                        "error_y": {
                          "color": "#f2f5fa"
                        },
                        "marker": {
                          "line": {
                            "color": "rgb(17,17,17)",
                            "width": 0.5
                          },
                          "pattern": {
                            "fillmode": "overlay",
                            "size": 10,
                            "solidity": 0.2
                          }
                        },
                        "type": "bar"
                      }
                    ],
                    "barpolar": [
                      {
                        "marker": {
                          "line": {
                            "color": "rgb(17,17,17)",
                            "width": 0.5
                          },
                          "pattern": {
                            "fillmode": "overlay",
                            "size": 10,
                            "solidity": 0.2
                          }
                        },
                        "type": "barpolar"
                      }
                    ],
                    "carpet": [
                      {
                        "aaxis": {
                          "endlinecolor": "#A2B1C6",
                          "gridcolor": "#506784",
                          "linecolor": "#506784",
                          "minorgridcolor": "#506784",
                          "startlinecolor": "#A2B1C6"
                        },
                        "baxis": {
                          "endlinecolor": "#A2B1C6",
                          "gridcolor": "#506784",
                          "linecolor": "#506784",
                          "minorgridcolor": "#506784",
                          "startlinecolor": "#A2B1C6"
                        },
                        "type": "carpet"
                      }
                    ],
                    "choropleth": [
                      {
                        "colorbar": {
                          "outlinewidth": 0,
                          "ticks": ""
                        },
                        "type": "choropleth"
                      }
                    ],
                    "contour": [
                      {
                        "colorbar": {
                          "outlinewidth": 0,
                          "ticks": ""
                        },
                        "colorscale": [
                          [
                            0,
                            "#0d0887"
                          ],
                          [
                            0.1111111111111111,
                            "#46039f"
                          ],
                          [
                            0.2222222222222222,
                            "#7201a8"
                          ],
                          [
                            0.3333333333333333,
                            "#9c179e"
                          ],
                          [
                            0.4444444444444444,
                            "#bd3786"
                          ],
                          [
                            0.5555555555555556,
                            "#d8576b"
                          ],
                          [
                            0.6666666666666666,
                            "#ed7953"
                          ],
                          [
                            0.7777777777777778,
                            "#fb9f3a"
                          ],
                          [
                            0.8888888888888888,
                            "#fdca26"
                          ],
                          [
                            1,
                            "#f0f921"
                          ]
                        ],
                        "type": "contour"
                      }
                    ],
                    "contourcarpet": [
                      {
                        "colorbar": {
                          "outlinewidth": 0,
                          "ticks": ""
                        },
                        "type": "contourcarpet"
                      }
                    ],
                    "heatmap": [
                      {
                        "colorbar": {
                          "outlinewidth": 0,
                          "ticks": ""
                        },
                        "colorscale": [
                          [
                            0,
                            "#0d0887"
                          ],
                          [
                            0.1111111111111111,
                            "#46039f"
                          ],
                          [
                            0.2222222222222222,
                            "#7201a8"
                          ],
                          [
                            0.3333333333333333,
                            "#9c179e"
                          ],
                          [
                            0.4444444444444444,
                            "#bd3786"
                          ],
                          [
                            0.5555555555555556,
                            "#d8576b"
                          ],
                          [
                            0.6666666666666666,
                            "#ed7953"
                          ],
                          [
                            0.7777777777777778,
                            "#fb9f3a"
                          ],
                          [
                            0.8888888888888888,
                            "#fdca26"
                          ],
                          [
                            1,
                            "#f0f921"
                          ]
                        ],
                        "type": "heatmap"
                      }
                    ],
                    "heatmapgl": [
                      {
                        "colorbar": {
                          "outlinewidth": 0,
                          "ticks": ""
                        },
                        "colorscale": [
                          [
                            0,
                            "#0d0887"
                          ],
                          [
                            0.1111111111111111,
                            "#46039f"
                          ],
                          [
                            0.2222222222222222,
                            "#7201a8"
                          ],
                          [
                            0.3333333333333333,
                            "#9c179e"
                          ],
                          [
                            0.4444444444444444,
                            "#bd3786"
                          ],
                          [
                            0.5555555555555556,
                            "#d8576b"
                          ],
                          [
                            0.6666666666666666,
                            "#ed7953"
                          ],
                          [
                            0.7777777777777778,
                            "#fb9f3a"
                          ],
                          [
                            0.8888888888888888,
                            "#fdca26"
                          ],
                          [
                            1,
                            "#f0f921"
                          ]
                        ],
                        "type": "heatmapgl"
                      }
                    ],
                    "histogram": [
                      {
                        "marker": {
                          "pattern": {
                            "fillmode": "overlay",
                            "size": 10,
                            "solidity": 0.2
                          }
                        },
                        "type": "histogram"
                      }
                    ],
                    "histogram2d": [
                      {
                        "colorbar": {
                          "outlinewidth": 0,
                          "ticks": ""
                        },
                        "colorscale": [
                          [
                            0,
                            "#0d0887"
                          ],
                          [
                            0.1111111111111111,
                            "#46039f"
                          ],
                          [
                            0.2222222222222222,
                            "#7201a8"
                          ],
                          [
                            0.3333333333333333,
                            "#9c179e"
                          ],
                          [
                            0.4444444444444444,
                            "#bd3786"
                          ],
                          [
                            0.5555555555555556,
                            "#d8576b"
                          ],
                          [
                            0.6666666666666666,
                            "#ed7953"
                          ],
                          [
                            0.7777777777777778,
                            "#fb9f3a"
                          ],
                          [
                            0.8888888888888888,
                            "#fdca26"
                          ],
                          [
                            1,
                            "#f0f921"
                          ]
                        ],
                        "type": "histogram2d"
                      }
                    ],
                    "histogram2dcontour": [
                      {
                        "colorbar": {
                          "outlinewidth": 0,
                          "ticks": ""
                        },
                        "colorscale": [
                          [
                            0,
                            "#0d0887"
                          ],
                          [
                            0.1111111111111111,
                            "#46039f"
                          ],
                          [
                            0.2222222222222222,
                            "#7201a8"
                          ],
                          [
                            0.3333333333333333,
                            "#9c179e"
                          ],
                          [
                            0.4444444444444444,
                            "#bd3786"
                          ],
                          [
                            0.5555555555555556,
                            "#d8576b"
                          ],
                          [
                            0.6666666666666666,
                            "#ed7953"
                          ],
                          [
                            0.7777777777777778,
                            "#fb9f3a"
                          ],
                          [
                            0.8888888888888888,
                            "#fdca26"
                          ],
                          [
                            1,
                            "#f0f921"
                          ]
                        ],
                        "type": "histogram2dcontour"
                      }
                    ],
                    "mesh3d": [
                      {
                        "colorbar": {
                          "outlinewidth": 0,
                          "ticks": ""
                        },
                        "type": "mesh3d"
                      }
                    ],
                    "parcoords": [
                      {
                        "line": {
                          "colorbar": {
                            "outlinewidth": 0,
                            "ticks": ""
                          }
                        },
                        "type": "parcoords"
                      }
                    ],
                    "pie": [
                      {
                        "automargin": true,
                        "type": "pie"
                      }
                    ],
                    "scatter": [
                      {
                        "marker": {
                          "line": {
                            "color": "#283442"
                          }
                        },
                        "type": "scatter"
                      }
                    ],
                    "scatter3d": [
                      {
                        "line": {
                          "colorbar": {
                            "outlinewidth": 0,
                            "ticks": ""
                          }
                        },
                        "marker": {
                          "colorbar": {
                            "outlinewidth": 0,
                            "ticks": ""
                          }
                        },
                        "type": "scatter3d"
                      }
                    ],
                    "scattercarpet": [
                      {
                        "marker": {
                          "colorbar": {
                            "outlinewidth": 0,
                            "ticks": ""
                          }
                        },
                        "type": "scattercarpet"
                      }
                    ],
                    "scattergeo": [
                      {
                        "marker": {
                          "colorbar": {
                            "outlinewidth": 0,
                            "ticks": ""
                          }
                        },
                        "type": "scattergeo"
                      }
                    ],
                    "scattergl": [
                      {
                        "marker": {
                          "line": {
                            "color": "#283442"
                          }
                        },
                        "type": "scattergl"
                      }
                    ],
                    "scattermapbox": [
                      {
                        "marker": {
                          "colorbar": {
                            "outlinewidth": 0,
                            "ticks": ""
                          }
                        },
                        "type": "scattermapbox"
                      }
                    ],
                    "scatterpolar": [
                      {
                        "marker": {
                          "colorbar": {
                            "outlinewidth": 0,
                            "ticks": ""
                          }
                        },
                        "type": "scatterpolar"
                      }
                    ],
                    "scatterpolargl": [
                      {
                        "marker": {
                          "colorbar": {
                            "outlinewidth": 0,
                            "ticks": ""
                          }
                        },
                        "type": "scatterpolargl"
                      }
                    ],
                    "scatterternary": [
                      {
                        "marker": {
                          "colorbar": {
                            "outlinewidth": 0,
                            "ticks": ""
                          }
                        },
                        "type": "scatterternary"
                      }
                    ],
                    "surface": [
                      {
                        "colorbar": {
                          "outlinewidth": 0,
                          "ticks": ""
                        },
                        "colorscale": [
                          [
                            0,
                            "#0d0887"
                          ],
                          [
                            0.1111111111111111,
                            "#46039f"
                          ],
                          [
                            0.2222222222222222,
                            "#7201a8"
                          ],
                          [
                            0.3333333333333333,
                            "#9c179e"
                          ],
                          [
                            0.4444444444444444,
                            "#bd3786"
                          ],
                          [
                            0.5555555555555556,
                            "#d8576b"
                          ],
                          [
                            0.6666666666666666,
                            "#ed7953"
                          ],
                          [
                            0.7777777777777778,
                            "#fb9f3a"
                          ],
                          [
                            0.8888888888888888,
                            "#fdca26"
                          ],
                          [
                            1,
                            "#f0f921"
                          ]
                        ],
                        "type": "surface"
                      }
                    ],
                    "table": [
                      {
                        "cells": {
                          "fill": {
                            "color": "#506784"
                          },
                          "line": {
                            "color": "rgb(17,17,17)"
                          }
                        },
                        "header": {
                          "fill": {
                            "color": "#2a3f5f"
                          },
                          "line": {
                            "color": "rgb(17,17,17)"
                          }
                        },
                        "type": "table"
                      }
                    ]
                  },
                  "layout": {
                    "annotationdefaults": {
                      "arrowcolor": "#f2f5fa",
                      "arrowhead": 0,
                      "arrowwidth": 1
                    },
                    "autotypenumbers": "strict",
                    "coloraxis": {
                      "colorbar": {
                        "outlinewidth": 0,
                        "ticks": ""
                      }
                    },
                    "colorscale": {
                      "diverging": [
                        [
                          0,
                          "#8e0152"
                        ],
                        [
                          0.1,
                          "#c51b7d"
                        ],
                        [
                          0.2,
                          "#de77ae"
                        ],
                        [
                          0.3,
                          "#f1b6da"
                        ],
                        [
                          0.4,
                          "#fde0ef"
                        ],
                        [
                          0.5,
                          "#f7f7f7"
                        ],
                        [
                          0.6,
                          "#e6f5d0"
                        ],
                        [
                          0.7,
                          "#b8e186"
                        ],
                        [
                          0.8,
                          "#7fbc41"
                        ],
                        [
                          0.9,
                          "#4d9221"
                        ],
                        [
                          1,
                          "#276419"
                        ]
                      ],
                      "sequential": [
                        [
                          0,
                          "#0d0887"
                        ],
                        [
                          0.1111111111111111,
                          "#46039f"
                        ],
                        [
                          0.2222222222222222,
                          "#7201a8"
                        ],
                        [
                          0.3333333333333333,
                          "#9c179e"
                        ],
                        [
                          0.4444444444444444,
                          "#bd3786"
                        ],
                        [
                          0.5555555555555556,
                          "#d8576b"
                        ],
                        [
                          0.6666666666666666,
                          "#ed7953"
                        ],
                        [
                          0.7777777777777778,
                          "#fb9f3a"
                        ],
                        [
                          0.8888888888888888,
                          "#fdca26"
                        ],
                        [
                          1,
                          "#f0f921"
                        ]
                      ],
                      "sequentialminus": [
                        [
                          0,
                          "#0d0887"
                        ],
                        [
                          0.1111111111111111,
                          "#46039f"
                        ],
                        [
                          0.2222222222222222,
                          "#7201a8"
                        ],
                        [
                          0.3333333333333333,
                          "#9c179e"
                        ],
                        [
                          0.4444444444444444,
                          "#bd3786"
                        ],
                        [
                          0.5555555555555556,
                          "#d8576b"
                        ],
                        [
                          0.6666666666666666,
                          "#ed7953"
                        ],
                        [
                          0.7777777777777778,
                          "#fb9f3a"
                        ],
                        [
                          0.8888888888888888,
                          "#fdca26"
                        ],
                        [
                          1,
                          "#f0f921"
                        ]
                      ]
                    },
                    "colorway": [
                      "#636efa",
                      "#EF553B",
                      "#00cc96",
                      "#ab63fa",
                      "#FFA15A",
                      "#19d3f3",
                      "#FF6692",
                      "#B6E880",
                      "#FF97FF",
                      "#FECB52"
                    ],
                    "font": {
                      "color": "#f2f5fa"
                    },
                    "geo": {
                      "bgcolor": "rgb(17,17,17)",
                      "lakecolor": "rgb(17,17,17)",
                      "landcolor": "rgb(17,17,17)",
                      "showlakes": true,
                      "showland": true,
                      "subunitcolor": "#506784"
                    },
                    "hoverlabel": {
                      "align": "left"
                    },
                    "hovermode": "closest",
                    "mapbox": {
                      "style": "dark"
                    },
                    "paper_bgcolor": "rgb(17,17,17)",
                    "plot_bgcolor": "rgb(17,17,17)",
                    "polar": {
                      "angularaxis": {
                        "gridcolor": "#506784",
                        "linecolor": "#506784",
                        "ticks": ""
                      },
                      "bgcolor": "rgb(17,17,17)",
                      "radialaxis": {
                        "gridcolor": "#506784",
                        "linecolor": "#506784",
                        "ticks": ""
                      }
                    },
                    "scene": {
                      "xaxis": {
                        "backgroundcolor": "rgb(17,17,17)",
                        "gridcolor": "#506784",
                        "gridwidth": 2,
                        "linecolor": "#506784",
                        "showbackground": true,
                        "ticks": "",
                        "zerolinecolor": "#C8D4E3"
                      },
                      "yaxis": {
                        "backgroundcolor": "rgb(17,17,17)",
                        "gridcolor": "#506784",
                        "gridwidth": 2,
                        "linecolor": "#506784",
                        "showbackground": true,
                        "ticks": "",
                        "zerolinecolor": "#C8D4E3"
                      },
                      "zaxis": {
                        "backgroundcolor": "rgb(17,17,17)",
                        "gridcolor": "#506784",
                        "gridwidth": 2,
                        "linecolor": "#506784",
                        "showbackground": true,
                        "ticks": "",
                        "zerolinecolor": "#C8D4E3"
                      }
                    },
                    "shapedefaults": {
                      "line": {
                        "color": "#f2f5fa"
                      }
                    },
                    "sliderdefaults": {
                      "bgcolor": "#C8D4E3",
                      "bordercolor": "rgb(17,17,17)",
                      "borderwidth": 1,
                      "tickwidth": 0
                    },
                    "ternary": {
                      "aaxis": {
                        "gridcolor": "#506784",
                        "linecolor": "#506784",
                        "ticks": ""
                      },
                      "baxis": {
                        "gridcolor": "#506784",
                        "linecolor": "#506784",
                        "ticks": ""
                      },
                      "bgcolor": "rgb(17,17,17)",
                      "caxis": {
                        "gridcolor": "#506784",
                        "linecolor": "#506784",
                        "ticks": ""
                      }
                    },
                    "title": {
                      "x": 0.05
                    },
                    "updatemenudefaults": {
                      "bgcolor": "#506784",
                      "borderwidth": 0
                    },
                    "xaxis": {
                      "automargin": true,
                      "gridcolor": "#283442",
                      "linecolor": "#506784",
                      "ticks": "",
                      "title": {
                        "standoff": 15
                      },
                      "zerolinecolor": "#283442",
                      "zerolinewidth": 2
                    },
                    "yaxis": {
                      "automargin": true,
                      "gridcolor": "#283442",
                      "linecolor": "#506784",
                      "ticks": "",
                      "title": {
                        "standoff": 15
                      },
                      "zerolinecolor": "#283442",
                      "zerolinewidth": 2
                    }
                  }
                },
                "title": {
                  "font": {
                    "size": 30
                  },
                  "text": "Evolução no número de focos de queimada (em milhares)"
                },
                "xaxis": {
                  "anchor": "y",
                  "domain": [
                    0,
                    1
                  ],
                  "title": {
                    "font": {
                      "size": 15
                    },
                    "text": "Anos"
                  }
                },
                "yaxis": {
                  "anchor": "x",
                  "domain": [
                    0,
                    1
                  ],
                  "title": {
                    "font": {
                      "size": 15
                    },
                    "text": "Quantidade total de focos"
                  }
                }
              }
            }
          },
          "metadata": {},
          "output_type": "display_data"
        }
      ],
      "source": [
        "#Número brutos de queimadas\n",
        "fig = px.line(data_frame= historico_desmatamento, x = historico_desmatamento[\"Anos\"], y = historico_desmatamento[\"Total\"], template= \"plotly_dark\", color_discrete_sequence=[\"blue\"], title=\"Evolução no número de focos de queimada (em milhares)\")\n",
        "fig.update_xaxes(title_font_size = 15)\n",
        "fig.update_yaxes(title_font_size = 15)\n",
        "fig.update_layout(title_font_size = 30)\n",
        "fig.update_yaxes(title_text = \"Quantidade total de focos\")\n",
        "\n",
        "fig.show()"
      ]
    }
  ],
  "metadata": {
    "colab": {
      "provenance": []
    },
    "kernelspec": {
      "display_name": "Python 3",
      "language": "python",
      "name": "python3"
    },
    "language_info": {
      "codemirror_mode": {
        "name": "ipython",
        "version": 3
      },
      "file_extension": ".py",
      "mimetype": "text/x-python",
      "name": "python",
      "nbconvert_exporter": "python",
      "pygments_lexer": "ipython3",
      "version": "3.12.2"
    }
  },
  "nbformat": 4,
  "nbformat_minor": 0
}
